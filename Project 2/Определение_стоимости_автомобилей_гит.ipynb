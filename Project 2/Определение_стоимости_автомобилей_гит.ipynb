{
  "cells": [
    {
      "cell_type": "markdown",
      "metadata": {
        "id": "mZW1rQybO9kl"
      },
      "source": [
        "# Определение стоимости автомобилей"
      ]
    },
    {
      "cell_type": "markdown",
      "metadata": {
        "id": "FsBU6v6JO9km"
      },
      "source": [
        "Сервис по продаже автомобилей с пробегом «Не бит, не крашен» разрабатывает приложение для привлечения новых клиентов. В нём можно быстро узнать рыночную стоимость своего автомобиля. В вашем распоряжении исторические данные: технические характеристики, комплектации и цены автомобилей. Вам нужно построить модель для определения стоимости.\n",
        "\n",
        "Заказчику важны:\n",
        "\n",
        "- качество предсказания;\n",
        "- скорость предсказания;\n",
        "- время обучения."
      ]
    },
    {
      "cell_type": "markdown",
      "metadata": {
        "id": "i7etuNsQO9km"
      },
      "source": [
        "## Подготовка данных"
      ]
    },
    {
      "cell_type": "markdown",
      "metadata": {
        "id": "539M5WA-O9km"
      },
      "source": [
        "### Изучение данных"
      ]
    },
    {
      "cell_type": "code",
      "execution_count": 1,
      "metadata": {
        "colab": {
          "base_uri": "https://localhost:8080/"
        },
        "id": "HtouT0PAO9km",
        "outputId": "051a5ba0-4d22-4467-9c55-69a2d7dc9082"
      },
      "outputs": [
        {
          "output_type": "stream",
          "name": "stdout",
          "text": [
            "Collecting catboost\n",
            "  Downloading catboost-1.2.1-cp310-cp310-manylinux2014_x86_64.whl (98.7 MB)\n",
            "\u001b[2K     \u001b[90m━━━━━━━━━━━━━━━━━━━━━━━━━━━━━━━━━━━━━━━━\u001b[0m \u001b[32m98.7/98.7 MB\u001b[0m \u001b[31m6.3 MB/s\u001b[0m eta \u001b[36m0:00:00\u001b[0m\n",
            "\u001b[?25hRequirement already satisfied: graphviz in /usr/local/lib/python3.10/dist-packages (from catboost) (0.20.1)\n",
            "Requirement already satisfied: matplotlib in /usr/local/lib/python3.10/dist-packages (from catboost) (3.7.1)\n",
            "Requirement already satisfied: numpy>=1.16.0 in /usr/local/lib/python3.10/dist-packages (from catboost) (1.23.5)\n",
            "Requirement already satisfied: pandas>=0.24 in /usr/local/lib/python3.10/dist-packages (from catboost) (1.5.3)\n",
            "Requirement already satisfied: scipy in /usr/local/lib/python3.10/dist-packages (from catboost) (1.10.1)\n",
            "Requirement already satisfied: plotly in /usr/local/lib/python3.10/dist-packages (from catboost) (5.15.0)\n",
            "Requirement already satisfied: six in /usr/local/lib/python3.10/dist-packages (from catboost) (1.16.0)\n",
            "Requirement already satisfied: python-dateutil>=2.8.1 in /usr/local/lib/python3.10/dist-packages (from pandas>=0.24->catboost) (2.8.2)\n",
            "Requirement already satisfied: pytz>=2020.1 in /usr/local/lib/python3.10/dist-packages (from pandas>=0.24->catboost) (2023.3)\n",
            "Requirement already satisfied: contourpy>=1.0.1 in /usr/local/lib/python3.10/dist-packages (from matplotlib->catboost) (1.1.0)\n",
            "Requirement already satisfied: cycler>=0.10 in /usr/local/lib/python3.10/dist-packages (from matplotlib->catboost) (0.11.0)\n",
            "Requirement already satisfied: fonttools>=4.22.0 in /usr/local/lib/python3.10/dist-packages (from matplotlib->catboost) (4.42.1)\n",
            "Requirement already satisfied: kiwisolver>=1.0.1 in /usr/local/lib/python3.10/dist-packages (from matplotlib->catboost) (1.4.4)\n",
            "Requirement already satisfied: packaging>=20.0 in /usr/local/lib/python3.10/dist-packages (from matplotlib->catboost) (23.1)\n",
            "Requirement already satisfied: pillow>=6.2.0 in /usr/local/lib/python3.10/dist-packages (from matplotlib->catboost) (9.4.0)\n",
            "Requirement already satisfied: pyparsing>=2.3.1 in /usr/local/lib/python3.10/dist-packages (from matplotlib->catboost) (3.1.1)\n",
            "Requirement already satisfied: tenacity>=6.2.0 in /usr/local/lib/python3.10/dist-packages (from plotly->catboost) (8.2.3)\n",
            "Installing collected packages: catboost\n",
            "Successfully installed catboost-1.2.1\n",
            "Requirement already satisfied: lightgbm in /usr/local/lib/python3.10/dist-packages (4.0.0)\n",
            "Requirement already satisfied: numpy in /usr/local/lib/python3.10/dist-packages (from lightgbm) (1.23.5)\n",
            "Requirement already satisfied: scipy in /usr/local/lib/python3.10/dist-packages (from lightgbm) (1.10.1)\n",
            "Collecting scikit-learn==1.1.3\n",
            "  Downloading scikit_learn-1.1.3-cp310-cp310-manylinux_2_17_x86_64.manylinux2014_x86_64.whl (30.5 MB)\n",
            "\u001b[2K     \u001b[90m━━━━━━━━━━━━━━━━━━━━━━━━━━━━━━━━━━━━━━━━\u001b[0m \u001b[32m30.5/30.5 MB\u001b[0m \u001b[31m35.9 MB/s\u001b[0m eta \u001b[36m0:00:00\u001b[0m\n",
            "\u001b[?25hRequirement already satisfied: numpy>=1.17.3 in /usr/local/lib/python3.10/dist-packages (from scikit-learn==1.1.3) (1.23.5)\n",
            "Requirement already satisfied: scipy>=1.3.2 in /usr/local/lib/python3.10/dist-packages (from scikit-learn==1.1.3) (1.10.1)\n",
            "Requirement already satisfied: joblib>=1.0.0 in /usr/local/lib/python3.10/dist-packages (from scikit-learn==1.1.3) (1.3.2)\n",
            "Requirement already satisfied: threadpoolctl>=2.0.0 in /usr/local/lib/python3.10/dist-packages (from scikit-learn==1.1.3) (3.2.0)\n",
            "Installing collected packages: scikit-learn\n",
            "  Attempting uninstall: scikit-learn\n",
            "    Found existing installation: scikit-learn 1.2.2\n",
            "    Uninstalling scikit-learn-1.2.2:\n",
            "      Successfully uninstalled scikit-learn-1.2.2\n",
            "Successfully installed scikit-learn-1.1.3\n"
          ]
        }
      ],
      "source": [
        "!pip3 install catboost\n",
        "!pip install lightgbm\n",
        "!pip install scikit-learn==1.1.3\n",
        "\n",
        "# библиотеки\n",
        "import pandas as pd\n",
        "import numpy as np\n",
        "import lightgbm\n",
        "\n",
        "# модели\n",
        "from sklearn.linear_model import LinearRegression\n",
        "from sklearn.ensemble import RandomForestRegressor\n",
        "from sklearn.linear_model import Ridge\n",
        "from catboost import CatBoostRegressor\n",
        "from lightgbm import LGBMRegressor\n",
        "from sklearn.dummy import DummyRegressor\n",
        "\n",
        "# метрика\n",
        "from sklearn.metrics import mean_squared_error\n",
        "\n",
        "# расчеты\n",
        "from sklearn.model_selection import GridSearchCV, RandomizedSearchCV, train_test_split\n",
        "from sklearn.compose import make_column_transformer\n",
        "from sklearn.pipeline import make_pipeline\n",
        "from sklearn.preprocessing import OneHotEncoder, StandardScaler\n",
        "\n",
        "import warnings\n",
        "warnings.filterwarnings(\"ignore\")\n",
        "\n",
        "# константы\n",
        "RANDOM_STATE = 123"
      ]
    },
    {
      "cell_type": "code",
      "source": [
        "# Откроем файл\n",
        "try:\n",
        "    data = pd.read_csv('autos.csv')\n",
        "\n",
        "except:\n",
        "    from google.colab import files\n",
        "    uploaded = files.upload()"
      ],
      "metadata": {
        "colab": {
          "base_uri": "https://localhost:8080/",
          "height": 73
        },
        "id": "rbqCjsXpPaTM",
        "outputId": "0ad39761-daa7-4510-cbb4-1962a9b1144b"
      },
      "execution_count": 2,
      "outputs": [
        {
          "output_type": "display_data",
          "data": {
            "text/plain": [
              "<IPython.core.display.HTML object>"
            ],
            "text/html": [
              "\n",
              "     <input type=\"file\" id=\"files-d0182c44-3ee5-4bbf-ac62-166848775ff2\" name=\"files[]\" multiple disabled\n",
              "        style=\"border:none\" />\n",
              "     <output id=\"result-d0182c44-3ee5-4bbf-ac62-166848775ff2\">\n",
              "      Upload widget is only available when the cell has been executed in the\n",
              "      current browser session. Please rerun this cell to enable.\n",
              "      </output>\n",
              "      <script>// Copyright 2017 Google LLC\n",
              "//\n",
              "// Licensed under the Apache License, Version 2.0 (the \"License\");\n",
              "// you may not use this file except in compliance with the License.\n",
              "// You may obtain a copy of the License at\n",
              "//\n",
              "//      http://www.apache.org/licenses/LICENSE-2.0\n",
              "//\n",
              "// Unless required by applicable law or agreed to in writing, software\n",
              "// distributed under the License is distributed on an \"AS IS\" BASIS,\n",
              "// WITHOUT WARRANTIES OR CONDITIONS OF ANY KIND, either express or implied.\n",
              "// See the License for the specific language governing permissions and\n",
              "// limitations under the License.\n",
              "\n",
              "/**\n",
              " * @fileoverview Helpers for google.colab Python module.\n",
              " */\n",
              "(function(scope) {\n",
              "function span(text, styleAttributes = {}) {\n",
              "  const element = document.createElement('span');\n",
              "  element.textContent = text;\n",
              "  for (const key of Object.keys(styleAttributes)) {\n",
              "    element.style[key] = styleAttributes[key];\n",
              "  }\n",
              "  return element;\n",
              "}\n",
              "\n",
              "// Max number of bytes which will be uploaded at a time.\n",
              "const MAX_PAYLOAD_SIZE = 100 * 1024;\n",
              "\n",
              "function _uploadFiles(inputId, outputId) {\n",
              "  const steps = uploadFilesStep(inputId, outputId);\n",
              "  const outputElement = document.getElementById(outputId);\n",
              "  // Cache steps on the outputElement to make it available for the next call\n",
              "  // to uploadFilesContinue from Python.\n",
              "  outputElement.steps = steps;\n",
              "\n",
              "  return _uploadFilesContinue(outputId);\n",
              "}\n",
              "\n",
              "// This is roughly an async generator (not supported in the browser yet),\n",
              "// where there are multiple asynchronous steps and the Python side is going\n",
              "// to poll for completion of each step.\n",
              "// This uses a Promise to block the python side on completion of each step,\n",
              "// then passes the result of the previous step as the input to the next step.\n",
              "function _uploadFilesContinue(outputId) {\n",
              "  const outputElement = document.getElementById(outputId);\n",
              "  const steps = outputElement.steps;\n",
              "\n",
              "  const next = steps.next(outputElement.lastPromiseValue);\n",
              "  return Promise.resolve(next.value.promise).then((value) => {\n",
              "    // Cache the last promise value to make it available to the next\n",
              "    // step of the generator.\n",
              "    outputElement.lastPromiseValue = value;\n",
              "    return next.value.response;\n",
              "  });\n",
              "}\n",
              "\n",
              "/**\n",
              " * Generator function which is called between each async step of the upload\n",
              " * process.\n",
              " * @param {string} inputId Element ID of the input file picker element.\n",
              " * @param {string} outputId Element ID of the output display.\n",
              " * @return {!Iterable<!Object>} Iterable of next steps.\n",
              " */\n",
              "function* uploadFilesStep(inputId, outputId) {\n",
              "  const inputElement = document.getElementById(inputId);\n",
              "  inputElement.disabled = false;\n",
              "\n",
              "  const outputElement = document.getElementById(outputId);\n",
              "  outputElement.innerHTML = '';\n",
              "\n",
              "  const pickedPromise = new Promise((resolve) => {\n",
              "    inputElement.addEventListener('change', (e) => {\n",
              "      resolve(e.target.files);\n",
              "    });\n",
              "  });\n",
              "\n",
              "  const cancel = document.createElement('button');\n",
              "  inputElement.parentElement.appendChild(cancel);\n",
              "  cancel.textContent = 'Cancel upload';\n",
              "  const cancelPromise = new Promise((resolve) => {\n",
              "    cancel.onclick = () => {\n",
              "      resolve(null);\n",
              "    };\n",
              "  });\n",
              "\n",
              "  // Wait for the user to pick the files.\n",
              "  const files = yield {\n",
              "    promise: Promise.race([pickedPromise, cancelPromise]),\n",
              "    response: {\n",
              "      action: 'starting',\n",
              "    }\n",
              "  };\n",
              "\n",
              "  cancel.remove();\n",
              "\n",
              "  // Disable the input element since further picks are not allowed.\n",
              "  inputElement.disabled = true;\n",
              "\n",
              "  if (!files) {\n",
              "    return {\n",
              "      response: {\n",
              "        action: 'complete',\n",
              "      }\n",
              "    };\n",
              "  }\n",
              "\n",
              "  for (const file of files) {\n",
              "    const li = document.createElement('li');\n",
              "    li.append(span(file.name, {fontWeight: 'bold'}));\n",
              "    li.append(span(\n",
              "        `(${file.type || 'n/a'}) - ${file.size} bytes, ` +\n",
              "        `last modified: ${\n",
              "            file.lastModifiedDate ? file.lastModifiedDate.toLocaleDateString() :\n",
              "                                    'n/a'} - `));\n",
              "    const percent = span('0% done');\n",
              "    li.appendChild(percent);\n",
              "\n",
              "    outputElement.appendChild(li);\n",
              "\n",
              "    const fileDataPromise = new Promise((resolve) => {\n",
              "      const reader = new FileReader();\n",
              "      reader.onload = (e) => {\n",
              "        resolve(e.target.result);\n",
              "      };\n",
              "      reader.readAsArrayBuffer(file);\n",
              "    });\n",
              "    // Wait for the data to be ready.\n",
              "    let fileData = yield {\n",
              "      promise: fileDataPromise,\n",
              "      response: {\n",
              "        action: 'continue',\n",
              "      }\n",
              "    };\n",
              "\n",
              "    // Use a chunked sending to avoid message size limits. See b/62115660.\n",
              "    let position = 0;\n",
              "    do {\n",
              "      const length = Math.min(fileData.byteLength - position, MAX_PAYLOAD_SIZE);\n",
              "      const chunk = new Uint8Array(fileData, position, length);\n",
              "      position += length;\n",
              "\n",
              "      const base64 = btoa(String.fromCharCode.apply(null, chunk));\n",
              "      yield {\n",
              "        response: {\n",
              "          action: 'append',\n",
              "          file: file.name,\n",
              "          data: base64,\n",
              "        },\n",
              "      };\n",
              "\n",
              "      let percentDone = fileData.byteLength === 0 ?\n",
              "          100 :\n",
              "          Math.round((position / fileData.byteLength) * 100);\n",
              "      percent.textContent = `${percentDone}% done`;\n",
              "\n",
              "    } while (position < fileData.byteLength);\n",
              "  }\n",
              "\n",
              "  // All done.\n",
              "  yield {\n",
              "    response: {\n",
              "      action: 'complete',\n",
              "    }\n",
              "  };\n",
              "}\n",
              "\n",
              "scope.google = scope.google || {};\n",
              "scope.google.colab = scope.google.colab || {};\n",
              "scope.google.colab._files = {\n",
              "  _uploadFiles,\n",
              "  _uploadFilesContinue,\n",
              "};\n",
              "})(self);\n",
              "</script> "
            ]
          },
          "metadata": {}
        },
        {
          "output_type": "stream",
          "name": "stdout",
          "text": [
            "Saving autos.csv to autos.csv\n"
          ]
        }
      ]
    },
    {
      "cell_type": "code",
      "execution_count": 4,
      "metadata": {
        "colab": {
          "base_uri": "https://localhost:8080/"
        },
        "id": "mxOOEsFtO9ko",
        "outputId": "ee4233f0-30f0-4f65-ace4-4c3847a20e09"
      },
      "outputs": [
        {
          "output_type": "stream",
          "name": "stdout",
          "text": [
            "<class 'pandas.core.frame.DataFrame'>\n",
            "RangeIndex: 354369 entries, 0 to 354368\n",
            "Data columns (total 16 columns):\n",
            " #   Column             Non-Null Count   Dtype \n",
            "---  ------             --------------   ----- \n",
            " 0   DateCrawled        354369 non-null  object\n",
            " 1   Price              354369 non-null  int64 \n",
            " 2   VehicleType        316879 non-null  object\n",
            " 3   RegistrationYear   354369 non-null  int64 \n",
            " 4   Gearbox            334536 non-null  object\n",
            " 5   Power              354369 non-null  int64 \n",
            " 6   Model              334664 non-null  object\n",
            " 7   Kilometer          354369 non-null  int64 \n",
            " 8   RegistrationMonth  354369 non-null  int64 \n",
            " 9   FuelType           321474 non-null  object\n",
            " 10  Brand              354369 non-null  object\n",
            " 11  Repaired           283215 non-null  object\n",
            " 12  DateCreated        354369 non-null  object\n",
            " 13  NumberOfPictures   354369 non-null  int64 \n",
            " 14  PostalCode         354369 non-null  int64 \n",
            " 15  LastSeen           354369 non-null  object\n",
            "dtypes: int64(7), object(9)\n",
            "memory usage: 43.3+ MB\n"
          ]
        }
      ],
      "source": [
        "# Откроем файл\n",
        "import io\n",
        "data = pd.read_csv(io.BytesIO(uploaded['autos.csv']))\n",
        "\n",
        "# Сделаем копию датасета\n",
        "df = data.copy()\n",
        "\n",
        "# Изучим основную информацию о данных\n",
        "df.info()"
      ]
    },
    {
      "cell_type": "code",
      "execution_count": 5,
      "metadata": {
        "scrolled": true,
        "colab": {
          "base_uri": "https://localhost:8080/",
          "height": 380
        },
        "id": "ABlbGosOO9kp",
        "outputId": "f17bc01f-7fa7-4a08-d048-95c3f53fa108"
      },
      "outputs": [
        {
          "output_type": "execute_result",
          "data": {
            "text/plain": [
              "           DateCrawled  Price VehicleType  RegistrationYear Gearbox  Power  \\\n",
              "0  2016-03-24 11:52:17    480         NaN              1993  manual      0   \n",
              "1  2016-03-24 10:58:45  18300       coupe              2011  manual    190   \n",
              "2  2016-03-14 12:52:21   9800         suv              2004    auto    163   \n",
              "3  2016-03-17 16:54:04   1500       small              2001  manual     75   \n",
              "4  2016-03-31 17:25:20   3600       small              2008  manual     69   \n",
              "\n",
              "   Model  Kilometer  RegistrationMonth  FuelType       Brand Repaired  \\\n",
              "0   golf     150000                  0    petrol  volkswagen      NaN   \n",
              "1    NaN     125000                  5  gasoline        audi      yes   \n",
              "2  grand     125000                  8  gasoline        jeep      NaN   \n",
              "3   golf     150000                  6    petrol  volkswagen       no   \n",
              "4  fabia      90000                  7  gasoline       skoda       no   \n",
              "\n",
              "           DateCreated  NumberOfPictures  PostalCode             LastSeen  \n",
              "0  2016-03-24 00:00:00                 0       70435  2016-04-07 03:16:57  \n",
              "1  2016-03-24 00:00:00                 0       66954  2016-04-07 01:46:50  \n",
              "2  2016-03-14 00:00:00                 0       90480  2016-04-05 12:47:46  \n",
              "3  2016-03-17 00:00:00                 0       91074  2016-03-17 17:40:17  \n",
              "4  2016-03-31 00:00:00                 0       60437  2016-04-06 10:17:21  "
            ],
            "text/html": [
              "\n",
              "  <div id=\"df-88f8ca38-ba7b-472f-809d-9f5cd2bac916\" class=\"colab-df-container\">\n",
              "    <div>\n",
              "<style scoped>\n",
              "    .dataframe tbody tr th:only-of-type {\n",
              "        vertical-align: middle;\n",
              "    }\n",
              "\n",
              "    .dataframe tbody tr th {\n",
              "        vertical-align: top;\n",
              "    }\n",
              "\n",
              "    .dataframe thead th {\n",
              "        text-align: right;\n",
              "    }\n",
              "</style>\n",
              "<table border=\"1\" class=\"dataframe\">\n",
              "  <thead>\n",
              "    <tr style=\"text-align: right;\">\n",
              "      <th></th>\n",
              "      <th>DateCrawled</th>\n",
              "      <th>Price</th>\n",
              "      <th>VehicleType</th>\n",
              "      <th>RegistrationYear</th>\n",
              "      <th>Gearbox</th>\n",
              "      <th>Power</th>\n",
              "      <th>Model</th>\n",
              "      <th>Kilometer</th>\n",
              "      <th>RegistrationMonth</th>\n",
              "      <th>FuelType</th>\n",
              "      <th>Brand</th>\n",
              "      <th>Repaired</th>\n",
              "      <th>DateCreated</th>\n",
              "      <th>NumberOfPictures</th>\n",
              "      <th>PostalCode</th>\n",
              "      <th>LastSeen</th>\n",
              "    </tr>\n",
              "  </thead>\n",
              "  <tbody>\n",
              "    <tr>\n",
              "      <th>0</th>\n",
              "      <td>2016-03-24 11:52:17</td>\n",
              "      <td>480</td>\n",
              "      <td>NaN</td>\n",
              "      <td>1993</td>\n",
              "      <td>manual</td>\n",
              "      <td>0</td>\n",
              "      <td>golf</td>\n",
              "      <td>150000</td>\n",
              "      <td>0</td>\n",
              "      <td>petrol</td>\n",
              "      <td>volkswagen</td>\n",
              "      <td>NaN</td>\n",
              "      <td>2016-03-24 00:00:00</td>\n",
              "      <td>0</td>\n",
              "      <td>70435</td>\n",
              "      <td>2016-04-07 03:16:57</td>\n",
              "    </tr>\n",
              "    <tr>\n",
              "      <th>1</th>\n",
              "      <td>2016-03-24 10:58:45</td>\n",
              "      <td>18300</td>\n",
              "      <td>coupe</td>\n",
              "      <td>2011</td>\n",
              "      <td>manual</td>\n",
              "      <td>190</td>\n",
              "      <td>NaN</td>\n",
              "      <td>125000</td>\n",
              "      <td>5</td>\n",
              "      <td>gasoline</td>\n",
              "      <td>audi</td>\n",
              "      <td>yes</td>\n",
              "      <td>2016-03-24 00:00:00</td>\n",
              "      <td>0</td>\n",
              "      <td>66954</td>\n",
              "      <td>2016-04-07 01:46:50</td>\n",
              "    </tr>\n",
              "    <tr>\n",
              "      <th>2</th>\n",
              "      <td>2016-03-14 12:52:21</td>\n",
              "      <td>9800</td>\n",
              "      <td>suv</td>\n",
              "      <td>2004</td>\n",
              "      <td>auto</td>\n",
              "      <td>163</td>\n",
              "      <td>grand</td>\n",
              "      <td>125000</td>\n",
              "      <td>8</td>\n",
              "      <td>gasoline</td>\n",
              "      <td>jeep</td>\n",
              "      <td>NaN</td>\n",
              "      <td>2016-03-14 00:00:00</td>\n",
              "      <td>0</td>\n",
              "      <td>90480</td>\n",
              "      <td>2016-04-05 12:47:46</td>\n",
              "    </tr>\n",
              "    <tr>\n",
              "      <th>3</th>\n",
              "      <td>2016-03-17 16:54:04</td>\n",
              "      <td>1500</td>\n",
              "      <td>small</td>\n",
              "      <td>2001</td>\n",
              "      <td>manual</td>\n",
              "      <td>75</td>\n",
              "      <td>golf</td>\n",
              "      <td>150000</td>\n",
              "      <td>6</td>\n",
              "      <td>petrol</td>\n",
              "      <td>volkswagen</td>\n",
              "      <td>no</td>\n",
              "      <td>2016-03-17 00:00:00</td>\n",
              "      <td>0</td>\n",
              "      <td>91074</td>\n",
              "      <td>2016-03-17 17:40:17</td>\n",
              "    </tr>\n",
              "    <tr>\n",
              "      <th>4</th>\n",
              "      <td>2016-03-31 17:25:20</td>\n",
              "      <td>3600</td>\n",
              "      <td>small</td>\n",
              "      <td>2008</td>\n",
              "      <td>manual</td>\n",
              "      <td>69</td>\n",
              "      <td>fabia</td>\n",
              "      <td>90000</td>\n",
              "      <td>7</td>\n",
              "      <td>gasoline</td>\n",
              "      <td>skoda</td>\n",
              "      <td>no</td>\n",
              "      <td>2016-03-31 00:00:00</td>\n",
              "      <td>0</td>\n",
              "      <td>60437</td>\n",
              "      <td>2016-04-06 10:17:21</td>\n",
              "    </tr>\n",
              "  </tbody>\n",
              "</table>\n",
              "</div>\n",
              "    <div class=\"colab-df-buttons\">\n",
              "\n",
              "  <div class=\"colab-df-container\">\n",
              "    <button class=\"colab-df-convert\" onclick=\"convertToInteractive('df-88f8ca38-ba7b-472f-809d-9f5cd2bac916')\"\n",
              "            title=\"Convert this dataframe to an interactive table.\"\n",
              "            style=\"display:none;\">\n",
              "\n",
              "  <svg xmlns=\"http://www.w3.org/2000/svg\" height=\"24px\" viewBox=\"0 -960 960 960\">\n",
              "    <path d=\"M120-120v-720h720v720H120Zm60-500h600v-160H180v160Zm220 220h160v-160H400v160Zm0 220h160v-160H400v160ZM180-400h160v-160H180v160Zm440 0h160v-160H620v160ZM180-180h160v-160H180v160Zm440 0h160v-160H620v160Z\"/>\n",
              "  </svg>\n",
              "    </button>\n",
              "\n",
              "  <style>\n",
              "    .colab-df-container {\n",
              "      display:flex;\n",
              "      gap: 12px;\n",
              "    }\n",
              "\n",
              "    .colab-df-convert {\n",
              "      background-color: #E8F0FE;\n",
              "      border: none;\n",
              "      border-radius: 50%;\n",
              "      cursor: pointer;\n",
              "      display: none;\n",
              "      fill: #1967D2;\n",
              "      height: 32px;\n",
              "      padding: 0 0 0 0;\n",
              "      width: 32px;\n",
              "    }\n",
              "\n",
              "    .colab-df-convert:hover {\n",
              "      background-color: #E2EBFA;\n",
              "      box-shadow: 0px 1px 2px rgba(60, 64, 67, 0.3), 0px 1px 3px 1px rgba(60, 64, 67, 0.15);\n",
              "      fill: #174EA6;\n",
              "    }\n",
              "\n",
              "    .colab-df-buttons div {\n",
              "      margin-bottom: 4px;\n",
              "    }\n",
              "\n",
              "    [theme=dark] .colab-df-convert {\n",
              "      background-color: #3B4455;\n",
              "      fill: #D2E3FC;\n",
              "    }\n",
              "\n",
              "    [theme=dark] .colab-df-convert:hover {\n",
              "      background-color: #434B5C;\n",
              "      box-shadow: 0px 1px 3px 1px rgba(0, 0, 0, 0.15);\n",
              "      filter: drop-shadow(0px 1px 2px rgba(0, 0, 0, 0.3));\n",
              "      fill: #FFFFFF;\n",
              "    }\n",
              "  </style>\n",
              "\n",
              "    <script>\n",
              "      const buttonEl =\n",
              "        document.querySelector('#df-88f8ca38-ba7b-472f-809d-9f5cd2bac916 button.colab-df-convert');\n",
              "      buttonEl.style.display =\n",
              "        google.colab.kernel.accessAllowed ? 'block' : 'none';\n",
              "\n",
              "      async function convertToInteractive(key) {\n",
              "        const element = document.querySelector('#df-88f8ca38-ba7b-472f-809d-9f5cd2bac916');\n",
              "        const dataTable =\n",
              "          await google.colab.kernel.invokeFunction('convertToInteractive',\n",
              "                                                    [key], {});\n",
              "        if (!dataTable) return;\n",
              "\n",
              "        const docLinkHtml = 'Like what you see? Visit the ' +\n",
              "          '<a target=\"_blank\" href=https://colab.research.google.com/notebooks/data_table.ipynb>data table notebook</a>'\n",
              "          + ' to learn more about interactive tables.';\n",
              "        element.innerHTML = '';\n",
              "        dataTable['output_type'] = 'display_data';\n",
              "        await google.colab.output.renderOutput(dataTable, element);\n",
              "        const docLink = document.createElement('div');\n",
              "        docLink.innerHTML = docLinkHtml;\n",
              "        element.appendChild(docLink);\n",
              "      }\n",
              "    </script>\n",
              "  </div>\n",
              "\n",
              "\n",
              "<div id=\"df-d74125fa-27ec-4e51-871e-b844ef641793\">\n",
              "  <button class=\"colab-df-quickchart\" onclick=\"quickchart('df-d74125fa-27ec-4e51-871e-b844ef641793')\"\n",
              "            title=\"Suggest charts.\"\n",
              "            style=\"display:none;\">\n",
              "\n",
              "<svg xmlns=\"http://www.w3.org/2000/svg\" height=\"24px\"viewBox=\"0 0 24 24\"\n",
              "     width=\"24px\">\n",
              "    <g>\n",
              "        <path d=\"M19 3H5c-1.1 0-2 .9-2 2v14c0 1.1.9 2 2 2h14c1.1 0 2-.9 2-2V5c0-1.1-.9-2-2-2zM9 17H7v-7h2v7zm4 0h-2V7h2v10zm4 0h-2v-4h2v4z\"/>\n",
              "    </g>\n",
              "</svg>\n",
              "  </button>\n",
              "\n",
              "<style>\n",
              "  .colab-df-quickchart {\n",
              "    background-color: #E8F0FE;\n",
              "    border: none;\n",
              "    border-radius: 50%;\n",
              "    cursor: pointer;\n",
              "    display: none;\n",
              "    fill: #1967D2;\n",
              "    height: 32px;\n",
              "    padding: 0 0 0 0;\n",
              "    width: 32px;\n",
              "  }\n",
              "\n",
              "  .colab-df-quickchart:hover {\n",
              "    background-color: #E2EBFA;\n",
              "    box-shadow: 0px 1px 2px rgba(60, 64, 67, 0.3), 0px 1px 3px 1px rgba(60, 64, 67, 0.15);\n",
              "    fill: #174EA6;\n",
              "  }\n",
              "\n",
              "  [theme=dark] .colab-df-quickchart {\n",
              "    background-color: #3B4455;\n",
              "    fill: #D2E3FC;\n",
              "  }\n",
              "\n",
              "  [theme=dark] .colab-df-quickchart:hover {\n",
              "    background-color: #434B5C;\n",
              "    box-shadow: 0px 1px 3px 1px rgba(0, 0, 0, 0.15);\n",
              "    filter: drop-shadow(0px 1px 2px rgba(0, 0, 0, 0.3));\n",
              "    fill: #FFFFFF;\n",
              "  }\n",
              "</style>\n",
              "\n",
              "  <script>\n",
              "    async function quickchart(key) {\n",
              "      const charts = await google.colab.kernel.invokeFunction(\n",
              "          'suggestCharts', [key], {});\n",
              "    }\n",
              "    (() => {\n",
              "      let quickchartButtonEl =\n",
              "        document.querySelector('#df-d74125fa-27ec-4e51-871e-b844ef641793 button');\n",
              "      quickchartButtonEl.style.display =\n",
              "        google.colab.kernel.accessAllowed ? 'block' : 'none';\n",
              "    })();\n",
              "  </script>\n",
              "</div>\n",
              "    </div>\n",
              "  </div>\n"
            ]
          },
          "metadata": {},
          "execution_count": 5
        }
      ],
      "source": [
        "# Изучим основную информацию о данных\n",
        "df.head()"
      ]
    },
    {
      "cell_type": "code",
      "execution_count": 6,
      "metadata": {
        "colab": {
          "base_uri": "https://localhost:8080/",
          "height": 300
        },
        "id": "AgW8d0uEO9kp",
        "outputId": "509f2205-2fef-49b7-e7c3-aa8bf5a0a10d"
      },
      "outputs": [
        {
          "output_type": "execute_result",
          "data": {
            "text/plain": [
              "               Price  RegistrationYear          Power      Kilometer  \\\n",
              "count  354369.000000     354369.000000  354369.000000  354369.000000   \n",
              "mean     4416.656776       2004.234448     110.094337  128211.172535   \n",
              "std      4514.158514         90.227958     189.850405   37905.341530   \n",
              "min         0.000000       1000.000000       0.000000    5000.000000   \n",
              "25%      1050.000000       1999.000000      69.000000  125000.000000   \n",
              "50%      2700.000000       2003.000000     105.000000  150000.000000   \n",
              "75%      6400.000000       2008.000000     143.000000  150000.000000   \n",
              "max     20000.000000       9999.000000   20000.000000  150000.000000   \n",
              "\n",
              "       RegistrationMonth  NumberOfPictures     PostalCode  \n",
              "count      354369.000000          354369.0  354369.000000  \n",
              "mean            5.714645               0.0   50508.689087  \n",
              "std             3.726421               0.0   25783.096248  \n",
              "min             0.000000               0.0    1067.000000  \n",
              "25%             3.000000               0.0   30165.000000  \n",
              "50%             6.000000               0.0   49413.000000  \n",
              "75%             9.000000               0.0   71083.000000  \n",
              "max            12.000000               0.0   99998.000000  "
            ],
            "text/html": [
              "\n",
              "  <div id=\"df-3513e570-4776-432a-8ad0-a8408231324e\" class=\"colab-df-container\">\n",
              "    <div>\n",
              "<style scoped>\n",
              "    .dataframe tbody tr th:only-of-type {\n",
              "        vertical-align: middle;\n",
              "    }\n",
              "\n",
              "    .dataframe tbody tr th {\n",
              "        vertical-align: top;\n",
              "    }\n",
              "\n",
              "    .dataframe thead th {\n",
              "        text-align: right;\n",
              "    }\n",
              "</style>\n",
              "<table border=\"1\" class=\"dataframe\">\n",
              "  <thead>\n",
              "    <tr style=\"text-align: right;\">\n",
              "      <th></th>\n",
              "      <th>Price</th>\n",
              "      <th>RegistrationYear</th>\n",
              "      <th>Power</th>\n",
              "      <th>Kilometer</th>\n",
              "      <th>RegistrationMonth</th>\n",
              "      <th>NumberOfPictures</th>\n",
              "      <th>PostalCode</th>\n",
              "    </tr>\n",
              "  </thead>\n",
              "  <tbody>\n",
              "    <tr>\n",
              "      <th>count</th>\n",
              "      <td>354369.000000</td>\n",
              "      <td>354369.000000</td>\n",
              "      <td>354369.000000</td>\n",
              "      <td>354369.000000</td>\n",
              "      <td>354369.000000</td>\n",
              "      <td>354369.0</td>\n",
              "      <td>354369.000000</td>\n",
              "    </tr>\n",
              "    <tr>\n",
              "      <th>mean</th>\n",
              "      <td>4416.656776</td>\n",
              "      <td>2004.234448</td>\n",
              "      <td>110.094337</td>\n",
              "      <td>128211.172535</td>\n",
              "      <td>5.714645</td>\n",
              "      <td>0.0</td>\n",
              "      <td>50508.689087</td>\n",
              "    </tr>\n",
              "    <tr>\n",
              "      <th>std</th>\n",
              "      <td>4514.158514</td>\n",
              "      <td>90.227958</td>\n",
              "      <td>189.850405</td>\n",
              "      <td>37905.341530</td>\n",
              "      <td>3.726421</td>\n",
              "      <td>0.0</td>\n",
              "      <td>25783.096248</td>\n",
              "    </tr>\n",
              "    <tr>\n",
              "      <th>min</th>\n",
              "      <td>0.000000</td>\n",
              "      <td>1000.000000</td>\n",
              "      <td>0.000000</td>\n",
              "      <td>5000.000000</td>\n",
              "      <td>0.000000</td>\n",
              "      <td>0.0</td>\n",
              "      <td>1067.000000</td>\n",
              "    </tr>\n",
              "    <tr>\n",
              "      <th>25%</th>\n",
              "      <td>1050.000000</td>\n",
              "      <td>1999.000000</td>\n",
              "      <td>69.000000</td>\n",
              "      <td>125000.000000</td>\n",
              "      <td>3.000000</td>\n",
              "      <td>0.0</td>\n",
              "      <td>30165.000000</td>\n",
              "    </tr>\n",
              "    <tr>\n",
              "      <th>50%</th>\n",
              "      <td>2700.000000</td>\n",
              "      <td>2003.000000</td>\n",
              "      <td>105.000000</td>\n",
              "      <td>150000.000000</td>\n",
              "      <td>6.000000</td>\n",
              "      <td>0.0</td>\n",
              "      <td>49413.000000</td>\n",
              "    </tr>\n",
              "    <tr>\n",
              "      <th>75%</th>\n",
              "      <td>6400.000000</td>\n",
              "      <td>2008.000000</td>\n",
              "      <td>143.000000</td>\n",
              "      <td>150000.000000</td>\n",
              "      <td>9.000000</td>\n",
              "      <td>0.0</td>\n",
              "      <td>71083.000000</td>\n",
              "    </tr>\n",
              "    <tr>\n",
              "      <th>max</th>\n",
              "      <td>20000.000000</td>\n",
              "      <td>9999.000000</td>\n",
              "      <td>20000.000000</td>\n",
              "      <td>150000.000000</td>\n",
              "      <td>12.000000</td>\n",
              "      <td>0.0</td>\n",
              "      <td>99998.000000</td>\n",
              "    </tr>\n",
              "  </tbody>\n",
              "</table>\n",
              "</div>\n",
              "    <div class=\"colab-df-buttons\">\n",
              "\n",
              "  <div class=\"colab-df-container\">\n",
              "    <button class=\"colab-df-convert\" onclick=\"convertToInteractive('df-3513e570-4776-432a-8ad0-a8408231324e')\"\n",
              "            title=\"Convert this dataframe to an interactive table.\"\n",
              "            style=\"display:none;\">\n",
              "\n",
              "  <svg xmlns=\"http://www.w3.org/2000/svg\" height=\"24px\" viewBox=\"0 -960 960 960\">\n",
              "    <path d=\"M120-120v-720h720v720H120Zm60-500h600v-160H180v160Zm220 220h160v-160H400v160Zm0 220h160v-160H400v160ZM180-400h160v-160H180v160Zm440 0h160v-160H620v160ZM180-180h160v-160H180v160Zm440 0h160v-160H620v160Z\"/>\n",
              "  </svg>\n",
              "    </button>\n",
              "\n",
              "  <style>\n",
              "    .colab-df-container {\n",
              "      display:flex;\n",
              "      gap: 12px;\n",
              "    }\n",
              "\n",
              "    .colab-df-convert {\n",
              "      background-color: #E8F0FE;\n",
              "      border: none;\n",
              "      border-radius: 50%;\n",
              "      cursor: pointer;\n",
              "      display: none;\n",
              "      fill: #1967D2;\n",
              "      height: 32px;\n",
              "      padding: 0 0 0 0;\n",
              "      width: 32px;\n",
              "    }\n",
              "\n",
              "    .colab-df-convert:hover {\n",
              "      background-color: #E2EBFA;\n",
              "      box-shadow: 0px 1px 2px rgba(60, 64, 67, 0.3), 0px 1px 3px 1px rgba(60, 64, 67, 0.15);\n",
              "      fill: #174EA6;\n",
              "    }\n",
              "\n",
              "    .colab-df-buttons div {\n",
              "      margin-bottom: 4px;\n",
              "    }\n",
              "\n",
              "    [theme=dark] .colab-df-convert {\n",
              "      background-color: #3B4455;\n",
              "      fill: #D2E3FC;\n",
              "    }\n",
              "\n",
              "    [theme=dark] .colab-df-convert:hover {\n",
              "      background-color: #434B5C;\n",
              "      box-shadow: 0px 1px 3px 1px rgba(0, 0, 0, 0.15);\n",
              "      filter: drop-shadow(0px 1px 2px rgba(0, 0, 0, 0.3));\n",
              "      fill: #FFFFFF;\n",
              "    }\n",
              "  </style>\n",
              "\n",
              "    <script>\n",
              "      const buttonEl =\n",
              "        document.querySelector('#df-3513e570-4776-432a-8ad0-a8408231324e button.colab-df-convert');\n",
              "      buttonEl.style.display =\n",
              "        google.colab.kernel.accessAllowed ? 'block' : 'none';\n",
              "\n",
              "      async function convertToInteractive(key) {\n",
              "        const element = document.querySelector('#df-3513e570-4776-432a-8ad0-a8408231324e');\n",
              "        const dataTable =\n",
              "          await google.colab.kernel.invokeFunction('convertToInteractive',\n",
              "                                                    [key], {});\n",
              "        if (!dataTable) return;\n",
              "\n",
              "        const docLinkHtml = 'Like what you see? Visit the ' +\n",
              "          '<a target=\"_blank\" href=https://colab.research.google.com/notebooks/data_table.ipynb>data table notebook</a>'\n",
              "          + ' to learn more about interactive tables.';\n",
              "        element.innerHTML = '';\n",
              "        dataTable['output_type'] = 'display_data';\n",
              "        await google.colab.output.renderOutput(dataTable, element);\n",
              "        const docLink = document.createElement('div');\n",
              "        docLink.innerHTML = docLinkHtml;\n",
              "        element.appendChild(docLink);\n",
              "      }\n",
              "    </script>\n",
              "  </div>\n",
              "\n",
              "\n",
              "<div id=\"df-e2c06982-c39e-4ef4-8091-03b137832607\">\n",
              "  <button class=\"colab-df-quickchart\" onclick=\"quickchart('df-e2c06982-c39e-4ef4-8091-03b137832607')\"\n",
              "            title=\"Suggest charts.\"\n",
              "            style=\"display:none;\">\n",
              "\n",
              "<svg xmlns=\"http://www.w3.org/2000/svg\" height=\"24px\"viewBox=\"0 0 24 24\"\n",
              "     width=\"24px\">\n",
              "    <g>\n",
              "        <path d=\"M19 3H5c-1.1 0-2 .9-2 2v14c0 1.1.9 2 2 2h14c1.1 0 2-.9 2-2V5c0-1.1-.9-2-2-2zM9 17H7v-7h2v7zm4 0h-2V7h2v10zm4 0h-2v-4h2v4z\"/>\n",
              "    </g>\n",
              "</svg>\n",
              "  </button>\n",
              "\n",
              "<style>\n",
              "  .colab-df-quickchart {\n",
              "    background-color: #E8F0FE;\n",
              "    border: none;\n",
              "    border-radius: 50%;\n",
              "    cursor: pointer;\n",
              "    display: none;\n",
              "    fill: #1967D2;\n",
              "    height: 32px;\n",
              "    padding: 0 0 0 0;\n",
              "    width: 32px;\n",
              "  }\n",
              "\n",
              "  .colab-df-quickchart:hover {\n",
              "    background-color: #E2EBFA;\n",
              "    box-shadow: 0px 1px 2px rgba(60, 64, 67, 0.3), 0px 1px 3px 1px rgba(60, 64, 67, 0.15);\n",
              "    fill: #174EA6;\n",
              "  }\n",
              "\n",
              "  [theme=dark] .colab-df-quickchart {\n",
              "    background-color: #3B4455;\n",
              "    fill: #D2E3FC;\n",
              "  }\n",
              "\n",
              "  [theme=dark] .colab-df-quickchart:hover {\n",
              "    background-color: #434B5C;\n",
              "    box-shadow: 0px 1px 3px 1px rgba(0, 0, 0, 0.15);\n",
              "    filter: drop-shadow(0px 1px 2px rgba(0, 0, 0, 0.3));\n",
              "    fill: #FFFFFF;\n",
              "  }\n",
              "</style>\n",
              "\n",
              "  <script>\n",
              "    async function quickchart(key) {\n",
              "      const charts = await google.colab.kernel.invokeFunction(\n",
              "          'suggestCharts', [key], {});\n",
              "    }\n",
              "    (() => {\n",
              "      let quickchartButtonEl =\n",
              "        document.querySelector('#df-e2c06982-c39e-4ef4-8091-03b137832607 button');\n",
              "      quickchartButtonEl.style.display =\n",
              "        google.colab.kernel.accessAllowed ? 'block' : 'none';\n",
              "    })();\n",
              "  </script>\n",
              "</div>\n",
              "    </div>\n",
              "  </div>\n"
            ]
          },
          "metadata": {},
          "execution_count": 6
        }
      ],
      "source": [
        "# Изучим основную информацию о данных\n",
        "df.describe()"
      ]
    },
    {
      "cell_type": "markdown",
      "metadata": {
        "id": "De-TzMjDO9kp"
      },
      "source": [
        "Посмотрим список уникальных значений в интересующих нас столбцах."
      ]
    },
    {
      "cell_type": "code",
      "execution_count": 7,
      "metadata": {
        "colab": {
          "base_uri": "https://localhost:8080/"
        },
        "id": "X_17DU92O9kp",
        "outputId": "b0282806-bfc8-4a5d-f152-0e7aabf510a4"
      },
      "outputs": [
        {
          "output_type": "stream",
          "name": "stdout",
          "text": [
            "VehicleType\n",
            "['bus' 'convertible' 'coupe' 'other' 'sedan' 'small' 'suv' 'wagon' nan]\n",
            "RegistrationYear\n",
            "[1000 1001 1039 1111 1200 1234 1253 1255 1300 1400 1500 1600 1602 1688\n",
            " 1800 1910 1915 1919 1920 1923 1925 1927 1928 1929 1930 1931 1932 1933\n",
            " 1934 1935 1936 1937 1938 1940 1941 1942 1943 1944 1945 1946 1947 1948\n",
            " 1949 1950 1951 1952 1953 1954 1955 1956 1957 1958 1959 1960 1961 1962\n",
            " 1963 1964 1965 1966 1967 1968 1969 1970 1971 1972 1973 1974 1975 1976\n",
            " 1977 1978 1979 1980 1981 1982 1983 1984 1985 1986 1987 1988 1989 1990\n",
            " 1991 1992 1993 1994 1995 1996 1997 1998 1999 2000 2001 2002 2003 2004\n",
            " 2005 2006 2007 2008 2009 2010 2011 2012 2013 2014 2015 2016 2017 2018\n",
            " 2019 2066 2200 2222 2290 2500 2800 2900 3000 3200 3500 3700 3800 4000\n",
            " 4100 4500 4800 5000 5300 5555 5600 5900 5911 6000 6500 7000 7100 7500\n",
            " 7800 8000 8200 8455 8500 8888 9000 9229 9450 9996 9999]\n",
            "Gearbox\n",
            "['auto' 'manual' nan]\n",
            "Power\n",
            "[    0     1     2     3     4     5     6     7     8     9    10    11\n",
            "    12    13    14    15    16    17    18    19    20    21    22    23\n",
            "    24    25    26    27    28    29    30    31    32    33    34    35\n",
            "    36    37    38    39    40    41    42    43    44    45    46    47\n",
            "    48    49    50    51    52    53    54    55    56    57    58    59\n",
            "    60    61    62    63    64    65    66    67    68    69    70    71\n",
            "    72    73    74    75    76    77    78    79    80    81    82    83\n",
            "    84    85    86    87    88    89    90    91    92    93    94    95\n",
            "    96    97    98    99   100   101   102   103   104   105   106   107\n",
            "   108   109   110   111   112   113   114   115   116   117   118   119\n",
            "   120   121   122   123   124   125   126   127   128   129   130   131\n",
            "   132   133   134   135   136   137   138   139   140   141   142   143\n",
            "   144   145   146   147   148   149   150   151   152   153   154   155\n",
            "   156   157   158   159   160   161   162   163   164   165   166   167\n",
            "   168   169   170   171   172   173   174   175   176   177   178   179\n",
            "   180   181   182   183   184   185   186   187   188   189   190   191\n",
            "   192   193   194   195   196   197   198   199   200   201   202   203\n",
            "   204   205   206   207   208   209   210   211   212   213   214   215\n",
            "   216   217   218   219   220   221   222   223   224   225   226   227\n",
            "   228   229   230   231   232   233   234   235   236   237   238   239\n",
            "   240   241   242   243   244   245   246   247   248   249   250   251\n",
            "   252   253   254   255   256   257   258   259   260   261   262   264\n",
            "   265   266   267   268   269   270   271   272   273   274   275   276\n",
            "   277   278   279   280   281   282   283   284   285   286   287   288\n",
            "   289   290   292   293   294   295   296   297   298   299   300   301\n",
            "   303   304   305   306   307   308   309   310   311   313   314   315\n",
            "   316   317   318   320   321   322   323   324   325   326   327   328\n",
            "   329   330   331   332   333   334   335   336   337   338   339   340\n",
            "   341   343   344   345   346   347   348   349   350   351   352   353\n",
            "   354   355   356   357   358   360   361   362   363   364   365   367\n",
            "   368   370   371   374   375   376   377   379   380   381   382   385\n",
            "   386   387   388   390   392   394   396   398   399   400   401   402\n",
            "   405   408   409   411   416   420   421   425   426   428   430   431\n",
            "   435   440   442   445   449   450   454   457   459   460   475   476\n",
            "   485   487   489   490   500   504   505   507   508   510   514   515\n",
            "   517   519   520   521   525   530   540   541   544   550   551   553\n",
            "   560   572   574   579   580   584   585   599   600   601   602   603\n",
            "   604   606   607   610   612   620   640   645   650   651   671   678\n",
            "   682   685   696   700   702   703   732   743   750   751   754   771\n",
            "   776   800   805   808   850   851   871   900   901   902   903   907\n",
            "   909   923   950   952   953   960   998   999  1000  1001  1002  1003\n",
            "  1004  1005  1011  1012  1016  1017  1021  1024  1054  1055  1056  1062\n",
            "  1079  1082  1090  1100  1102  1103  1105  1111  1115  1120  1149  1151\n",
            "  1158  1160  1162  1164  1199  1200  1202  1221  1223  1230  1239  1240\n",
            "  1241  1250  1252  1256  1275  1288  1299  1300  1312  1317  1324  1339\n",
            "  1351  1360  1362  1363  1367  1390  1394  1398  1399  1400  1401  1403\n",
            "  1405  1416  1432  1433  1436  1500  1501  1502  1503  1506  1521  1548\n",
            "  1595  1596  1597  1598  1600  1625  1631  1653  1659  1689  1700  1701\n",
            "  1703  1704  1707  1753  1771  1779  1780  1781  1783  1793  1796  1799\n",
            "  1800  1801  1870  1895  1896  1900  1910  1920  1922  1933  1937  1968\n",
            "  1986  1988  1992  1993  1995  1998  1999  2000  2004  2005  2007  2009\n",
            "  2016  2017  2018  2172  2200  2201  2331  2340  2389  2402  2461  2598\n",
            "  2729  2789  2792  2799  3000  3199  3454  3500  3750  4400  4507  4700\n",
            "  5000  5411  5420  5575  5809  5815  5867  6006  6010  6011  6012  6018\n",
            "  6045  6062  6226  6512  6920  7508  7511  7512  7515  7518  7529  7544\n",
            "  8011  8259  8404  8500  9000  9007  9010  9011  9012  9013  9710 10000\n",
            " 10110 10218 10311 10317 10520 10522 10710 10910 10912 11011 11025 11111\n",
            " 11509 11530 11635 12012 12510 12512 12684 13616 13636 14009 15001 15016\n",
            " 15017 15020 15033 16011 16051 16311 16312 17011 17019 17410 17700 17932\n",
            " 19208 19211 19312 20000]\n",
            "Model\n",
            "['100' '145' '147' '156' '159' '1_reihe' '1er' '200' '2_reihe' '300c'\n",
            " '3_reihe' '3er' '4_reihe' '500' '5_reihe' '5er' '601' '6_reihe' '6er'\n",
            " '7er' '80' '850' '90' '900' '9000' '911' 'a1' 'a2' 'a3' 'a4' 'a5' 'a6'\n",
            " 'a8' 'a_klasse' 'accord' 'agila' 'alhambra' 'almera' 'altea' 'amarok'\n",
            " 'antara' 'arosa' 'astra' 'auris' 'avensis' 'aveo' 'aygo' 'b_klasse'\n",
            " 'b_max' 'beetle' 'berlingo' 'bora' 'boxster' 'bravo' 'c1' 'c2' 'c3' 'c4'\n",
            " 'c5' 'c_klasse' 'c_max' 'c_reihe' 'caddy' 'calibra' 'captiva' 'carisma'\n",
            " 'carnival' 'cayenne' 'cc' 'ceed' 'charade' 'cherokee' 'citigo' 'civic'\n",
            " 'cl' 'clio' 'clk' 'clubman' 'colt' 'combo' 'cooper' 'cordoba' 'corolla'\n",
            " 'corsa' 'cr_reihe' 'croma' 'crossfire' 'cuore' 'cx_reihe' 'defender'\n",
            " 'delta' 'discovery' 'doblo' 'ducato' 'duster' 'e_klasse' 'elefantino'\n",
            " 'eos' 'escort' 'espace' 'exeo' 'fabia' 'fiesta' 'focus' 'forester'\n",
            " 'forfour' 'fortwo' 'fox' 'freelander' 'fusion' 'g_klasse' 'galant'\n",
            " 'galaxy' 'getz' 'gl' 'glk' 'golf' 'grand' 'i3' 'i_reihe' 'ibiza'\n",
            " 'impreza' 'insignia' 'jazz' 'jetta' 'jimny' 'juke' 'justy' 'ka' 'kadett'\n",
            " 'kaefer' 'kalina' 'kalos' 'kangoo' 'kappa' 'kuga' 'laguna' 'lancer'\n",
            " 'lanos' 'legacy' 'leon' 'lodgy' 'logan' 'lupo' 'lybra' 'm_klasse'\n",
            " 'm_reihe' 'materia' 'matiz' 'megane' 'meriva' 'micra' 'mii' 'modus'\n",
            " 'mondeo' 'move' 'musa' 'mustang' 'mx_reihe' 'navara' 'niva' 'note'\n",
            " 'nubira' 'octavia' 'omega' 'one' 'other' 'outlander' 'pajero' 'panda'\n",
            " 'passat' 'phaeton' 'picanto' 'polo' 'primera' 'ptcruiser' 'punto' 'q3'\n",
            " 'q5' 'q7' 'qashqai' 'r19' 'range_rover' 'range_rover_evoque'\n",
            " 'range_rover_sport' 'rangerover' 'rav' 'rio' 'roadster' 'roomster'\n",
            " 'rx_reihe' 's60' 's_klasse' 's_max' 's_type' 'samara' 'sandero' 'santa'\n",
            " 'scenic' 'scirocco' 'seicento' 'serie_1' 'serie_2' 'serie_3' 'sharan'\n",
            " 'signum' 'sirion' 'sl' 'slk' 'sorento' 'spark' 'spider' 'sportage'\n",
            " 'sprinter' 'stilo' 'superb' 'swift' 'terios' 'tigra' 'tiguan' 'toledo'\n",
            " 'touareg' 'touran' 'transit' 'transporter' 'tt' 'tucson' 'twingo' 'up'\n",
            " 'v40' 'v50' 'v60' 'v70' 'v_klasse' 'vectra' 'verso' 'viano' 'vito'\n",
            " 'vivaro' 'voyager' 'wrangler' 'x_reihe' 'x_trail' 'x_type' 'xc_reihe'\n",
            " 'yaris' 'yeti' 'ypsilon' 'z_reihe' 'zafira' nan]\n",
            "RegistrationMonth\n",
            "[ 0  1  2  3  4  5  6  7  8  9 10 11 12]\n",
            "FuelType\n",
            "['cng' 'electric' 'gasoline' 'hybrid' 'lpg' 'other' 'petrol' nan]\n",
            "Brand\n",
            "['alfa_romeo' 'audi' 'bmw' 'chevrolet' 'chrysler' 'citroen' 'dacia'\n",
            " 'daewoo' 'daihatsu' 'fiat' 'ford' 'honda' 'hyundai' 'jaguar' 'jeep' 'kia'\n",
            " 'lada' 'lancia' 'land_rover' 'mazda' 'mercedes_benz' 'mini' 'mitsubishi'\n",
            " 'nissan' 'opel' 'peugeot' 'porsche' 'renault' 'rover' 'saab' 'seat'\n",
            " 'skoda' 'smart' 'sonstige_autos' 'subaru' 'suzuki' 'toyota' 'trabant'\n",
            " 'volkswagen' 'volvo']\n",
            "Repaired\n",
            "['no' 'yes' nan]\n"
          ]
        }
      ],
      "source": [
        "# Отберем столбцы в отдельный список\n",
        "b = ['VehicleType', 'RegistrationYear', 'Gearbox', 'Power', 'Model', 'RegistrationMonth', 'FuelType', 'Brand', 'Repaired']\n",
        "\n",
        "# Выведем список уникальных значений\n",
        "for i in df[b]:\n",
        "    print(i)\n",
        "    print(df[i].sort_values().unique())"
      ]
    },
    {
      "cell_type": "markdown",
      "metadata": {
        "id": "x4j9aQQzO9kq"
      },
      "source": [
        "**Вывод:** видим пропуски в данных, во многих столбцах аномальные значения (например, год регистрации авто и мощность), некоторые столбцы вообще не содержат значимой информации (количество фотографий - везде \"0\"). Также требуется переименовать столбцы датасета по правилам записи. С типом данных всё в порядке, кроме столбцов с датами. Однако, эти столбы неинформативны (\"дата скачивания анкеты из базы\", \"дата создания анкеты\" и \"дата последней активности пользователя\"), поэтому удалим их."
      ]
    },
    {
      "cell_type": "markdown",
      "metadata": {
        "id": "MTboWc6WO9kq"
      },
      "source": [
        "### Предобработка данных"
      ]
    },
    {
      "cell_type": "markdown",
      "metadata": {
        "id": "DcuXb2tTO9kq"
      },
      "source": [
        "#### Дубликаты"
      ]
    },
    {
      "cell_type": "code",
      "execution_count": 8,
      "metadata": {
        "colab": {
          "base_uri": "https://localhost:8080/"
        },
        "id": "qX0xCqucO9kq",
        "outputId": "895277af-b279-4c24-cad4-2c39b4bffa02"
      },
      "outputs": [
        {
          "output_type": "stream",
          "name": "stdout",
          "text": [
            "4\n"
          ]
        }
      ],
      "source": [
        "# Проверим датасет на наличие явных дубликатов\n",
        "print(df.duplicated().sum())"
      ]
    },
    {
      "cell_type": "code",
      "execution_count": 9,
      "metadata": {
        "id": "2LEf8VWVO9kq"
      },
      "outputs": [],
      "source": [
        "# Удалим явные дубликаты\n",
        "df = df.drop_duplicates(keep='first')"
      ]
    },
    {
      "cell_type": "markdown",
      "metadata": {
        "id": "kJyQGsviO9kr"
      },
      "source": [
        "В столбце \"fuel_type\" в списке уникальных значений мы видим дублирование. Petrol и gasoline\t- это бензин. Заменим все на petrol."
      ]
    },
    {
      "cell_type": "code",
      "execution_count": 10,
      "metadata": {
        "id": "y3gUvDRaO9kr"
      },
      "outputs": [],
      "source": [
        "# Заменим gasoline на petrol\n",
        "df.loc[df['FuelType'] == 'gasoline', 'FuelType'] = 'petrol'"
      ]
    },
    {
      "cell_type": "markdown",
      "metadata": {
        "id": "SObry9FIO9kr"
      },
      "source": [
        "#### Названия и количество столбцов"
      ]
    },
    {
      "cell_type": "markdown",
      "metadata": {
        "id": "pqwX2MgFO9kr"
      },
      "source": [
        "Информация в некоторых столбцах никак не влияет на цену автомобиля, удалим эти столбцы из датасета - 'DateCrawled', 'DateCreated', 'NumberOfPictures', 'LastSeen', 'PostalCode'.\n",
        "\n",
        "Столбец 'RegistrationMonth' (месяц регистрации автомобиля) тоже не несет в себе значимой ценности, при покупке б/у автомобиля более важными параметрами являются год регистрации и пробег. Также в списке уникальных значений видим явные аномалии - нулевой месяц. Также удалим этот столбец."
      ]
    },
    {
      "cell_type": "code",
      "execution_count": 11,
      "metadata": {
        "colab": {
          "base_uri": "https://localhost:8080/",
          "height": 206
        },
        "id": "6fGApt21O9kr",
        "outputId": "024674da-61f8-45f4-bd2a-0048389a6329"
      },
      "outputs": [
        {
          "output_type": "execute_result",
          "data": {
            "text/plain": [
              "   Price VehicleType  RegistrationYear Gearbox  Power  Model  Kilometer  \\\n",
              "0    480         NaN              1993  manual      0   golf     150000   \n",
              "1  18300       coupe              2011  manual    190    NaN     125000   \n",
              "2   9800         suv              2004    auto    163  grand     125000   \n",
              "3   1500       small              2001  manual     75   golf     150000   \n",
              "4   3600       small              2008  manual     69  fabia      90000   \n",
              "\n",
              "  FuelType       Brand Repaired  \n",
              "0   petrol  volkswagen      NaN  \n",
              "1   petrol        audi      yes  \n",
              "2   petrol        jeep      NaN  \n",
              "3   petrol  volkswagen       no  \n",
              "4   petrol       skoda       no  "
            ],
            "text/html": [
              "\n",
              "  <div id=\"df-80a9f636-84ea-47b9-b074-3046b7be3323\" class=\"colab-df-container\">\n",
              "    <div>\n",
              "<style scoped>\n",
              "    .dataframe tbody tr th:only-of-type {\n",
              "        vertical-align: middle;\n",
              "    }\n",
              "\n",
              "    .dataframe tbody tr th {\n",
              "        vertical-align: top;\n",
              "    }\n",
              "\n",
              "    .dataframe thead th {\n",
              "        text-align: right;\n",
              "    }\n",
              "</style>\n",
              "<table border=\"1\" class=\"dataframe\">\n",
              "  <thead>\n",
              "    <tr style=\"text-align: right;\">\n",
              "      <th></th>\n",
              "      <th>Price</th>\n",
              "      <th>VehicleType</th>\n",
              "      <th>RegistrationYear</th>\n",
              "      <th>Gearbox</th>\n",
              "      <th>Power</th>\n",
              "      <th>Model</th>\n",
              "      <th>Kilometer</th>\n",
              "      <th>FuelType</th>\n",
              "      <th>Brand</th>\n",
              "      <th>Repaired</th>\n",
              "    </tr>\n",
              "  </thead>\n",
              "  <tbody>\n",
              "    <tr>\n",
              "      <th>0</th>\n",
              "      <td>480</td>\n",
              "      <td>NaN</td>\n",
              "      <td>1993</td>\n",
              "      <td>manual</td>\n",
              "      <td>0</td>\n",
              "      <td>golf</td>\n",
              "      <td>150000</td>\n",
              "      <td>petrol</td>\n",
              "      <td>volkswagen</td>\n",
              "      <td>NaN</td>\n",
              "    </tr>\n",
              "    <tr>\n",
              "      <th>1</th>\n",
              "      <td>18300</td>\n",
              "      <td>coupe</td>\n",
              "      <td>2011</td>\n",
              "      <td>manual</td>\n",
              "      <td>190</td>\n",
              "      <td>NaN</td>\n",
              "      <td>125000</td>\n",
              "      <td>petrol</td>\n",
              "      <td>audi</td>\n",
              "      <td>yes</td>\n",
              "    </tr>\n",
              "    <tr>\n",
              "      <th>2</th>\n",
              "      <td>9800</td>\n",
              "      <td>suv</td>\n",
              "      <td>2004</td>\n",
              "      <td>auto</td>\n",
              "      <td>163</td>\n",
              "      <td>grand</td>\n",
              "      <td>125000</td>\n",
              "      <td>petrol</td>\n",
              "      <td>jeep</td>\n",
              "      <td>NaN</td>\n",
              "    </tr>\n",
              "    <tr>\n",
              "      <th>3</th>\n",
              "      <td>1500</td>\n",
              "      <td>small</td>\n",
              "      <td>2001</td>\n",
              "      <td>manual</td>\n",
              "      <td>75</td>\n",
              "      <td>golf</td>\n",
              "      <td>150000</td>\n",
              "      <td>petrol</td>\n",
              "      <td>volkswagen</td>\n",
              "      <td>no</td>\n",
              "    </tr>\n",
              "    <tr>\n",
              "      <th>4</th>\n",
              "      <td>3600</td>\n",
              "      <td>small</td>\n",
              "      <td>2008</td>\n",
              "      <td>manual</td>\n",
              "      <td>69</td>\n",
              "      <td>fabia</td>\n",
              "      <td>90000</td>\n",
              "      <td>petrol</td>\n",
              "      <td>skoda</td>\n",
              "      <td>no</td>\n",
              "    </tr>\n",
              "  </tbody>\n",
              "</table>\n",
              "</div>\n",
              "    <div class=\"colab-df-buttons\">\n",
              "\n",
              "  <div class=\"colab-df-container\">\n",
              "    <button class=\"colab-df-convert\" onclick=\"convertToInteractive('df-80a9f636-84ea-47b9-b074-3046b7be3323')\"\n",
              "            title=\"Convert this dataframe to an interactive table.\"\n",
              "            style=\"display:none;\">\n",
              "\n",
              "  <svg xmlns=\"http://www.w3.org/2000/svg\" height=\"24px\" viewBox=\"0 -960 960 960\">\n",
              "    <path d=\"M120-120v-720h720v720H120Zm60-500h600v-160H180v160Zm220 220h160v-160H400v160Zm0 220h160v-160H400v160ZM180-400h160v-160H180v160Zm440 0h160v-160H620v160ZM180-180h160v-160H180v160Zm440 0h160v-160H620v160Z\"/>\n",
              "  </svg>\n",
              "    </button>\n",
              "\n",
              "  <style>\n",
              "    .colab-df-container {\n",
              "      display:flex;\n",
              "      gap: 12px;\n",
              "    }\n",
              "\n",
              "    .colab-df-convert {\n",
              "      background-color: #E8F0FE;\n",
              "      border: none;\n",
              "      border-radius: 50%;\n",
              "      cursor: pointer;\n",
              "      display: none;\n",
              "      fill: #1967D2;\n",
              "      height: 32px;\n",
              "      padding: 0 0 0 0;\n",
              "      width: 32px;\n",
              "    }\n",
              "\n",
              "    .colab-df-convert:hover {\n",
              "      background-color: #E2EBFA;\n",
              "      box-shadow: 0px 1px 2px rgba(60, 64, 67, 0.3), 0px 1px 3px 1px rgba(60, 64, 67, 0.15);\n",
              "      fill: #174EA6;\n",
              "    }\n",
              "\n",
              "    .colab-df-buttons div {\n",
              "      margin-bottom: 4px;\n",
              "    }\n",
              "\n",
              "    [theme=dark] .colab-df-convert {\n",
              "      background-color: #3B4455;\n",
              "      fill: #D2E3FC;\n",
              "    }\n",
              "\n",
              "    [theme=dark] .colab-df-convert:hover {\n",
              "      background-color: #434B5C;\n",
              "      box-shadow: 0px 1px 3px 1px rgba(0, 0, 0, 0.15);\n",
              "      filter: drop-shadow(0px 1px 2px rgba(0, 0, 0, 0.3));\n",
              "      fill: #FFFFFF;\n",
              "    }\n",
              "  </style>\n",
              "\n",
              "    <script>\n",
              "      const buttonEl =\n",
              "        document.querySelector('#df-80a9f636-84ea-47b9-b074-3046b7be3323 button.colab-df-convert');\n",
              "      buttonEl.style.display =\n",
              "        google.colab.kernel.accessAllowed ? 'block' : 'none';\n",
              "\n",
              "      async function convertToInteractive(key) {\n",
              "        const element = document.querySelector('#df-80a9f636-84ea-47b9-b074-3046b7be3323');\n",
              "        const dataTable =\n",
              "          await google.colab.kernel.invokeFunction('convertToInteractive',\n",
              "                                                    [key], {});\n",
              "        if (!dataTable) return;\n",
              "\n",
              "        const docLinkHtml = 'Like what you see? Visit the ' +\n",
              "          '<a target=\"_blank\" href=https://colab.research.google.com/notebooks/data_table.ipynb>data table notebook</a>'\n",
              "          + ' to learn more about interactive tables.';\n",
              "        element.innerHTML = '';\n",
              "        dataTable['output_type'] = 'display_data';\n",
              "        await google.colab.output.renderOutput(dataTable, element);\n",
              "        const docLink = document.createElement('div');\n",
              "        docLink.innerHTML = docLinkHtml;\n",
              "        element.appendChild(docLink);\n",
              "      }\n",
              "    </script>\n",
              "  </div>\n",
              "\n",
              "\n",
              "<div id=\"df-71126e61-9fd1-4271-8b8d-2f1d223b31cf\">\n",
              "  <button class=\"colab-df-quickchart\" onclick=\"quickchart('df-71126e61-9fd1-4271-8b8d-2f1d223b31cf')\"\n",
              "            title=\"Suggest charts.\"\n",
              "            style=\"display:none;\">\n",
              "\n",
              "<svg xmlns=\"http://www.w3.org/2000/svg\" height=\"24px\"viewBox=\"0 0 24 24\"\n",
              "     width=\"24px\">\n",
              "    <g>\n",
              "        <path d=\"M19 3H5c-1.1 0-2 .9-2 2v14c0 1.1.9 2 2 2h14c1.1 0 2-.9 2-2V5c0-1.1-.9-2-2-2zM9 17H7v-7h2v7zm4 0h-2V7h2v10zm4 0h-2v-4h2v4z\"/>\n",
              "    </g>\n",
              "</svg>\n",
              "  </button>\n",
              "\n",
              "<style>\n",
              "  .colab-df-quickchart {\n",
              "    background-color: #E8F0FE;\n",
              "    border: none;\n",
              "    border-radius: 50%;\n",
              "    cursor: pointer;\n",
              "    display: none;\n",
              "    fill: #1967D2;\n",
              "    height: 32px;\n",
              "    padding: 0 0 0 0;\n",
              "    width: 32px;\n",
              "  }\n",
              "\n",
              "  .colab-df-quickchart:hover {\n",
              "    background-color: #E2EBFA;\n",
              "    box-shadow: 0px 1px 2px rgba(60, 64, 67, 0.3), 0px 1px 3px 1px rgba(60, 64, 67, 0.15);\n",
              "    fill: #174EA6;\n",
              "  }\n",
              "\n",
              "  [theme=dark] .colab-df-quickchart {\n",
              "    background-color: #3B4455;\n",
              "    fill: #D2E3FC;\n",
              "  }\n",
              "\n",
              "  [theme=dark] .colab-df-quickchart:hover {\n",
              "    background-color: #434B5C;\n",
              "    box-shadow: 0px 1px 3px 1px rgba(0, 0, 0, 0.15);\n",
              "    filter: drop-shadow(0px 1px 2px rgba(0, 0, 0, 0.3));\n",
              "    fill: #FFFFFF;\n",
              "  }\n",
              "</style>\n",
              "\n",
              "  <script>\n",
              "    async function quickchart(key) {\n",
              "      const charts = await google.colab.kernel.invokeFunction(\n",
              "          'suggestCharts', [key], {});\n",
              "    }\n",
              "    (() => {\n",
              "      let quickchartButtonEl =\n",
              "        document.querySelector('#df-71126e61-9fd1-4271-8b8d-2f1d223b31cf button');\n",
              "      quickchartButtonEl.style.display =\n",
              "        google.colab.kernel.accessAllowed ? 'block' : 'none';\n",
              "    })();\n",
              "  </script>\n",
              "</div>\n",
              "    </div>\n",
              "  </div>\n"
            ]
          },
          "metadata": {},
          "execution_count": 11
        }
      ],
      "source": [
        "# Удалим столбцы, которые не несут в себе значимой информации\n",
        "df = df.drop(['DateCrawled', 'DateCreated', 'NumberOfPictures', 'LastSeen', 'PostalCode', 'RegistrationMonth'], axis=1)\n",
        "df.head()"
      ]
    },
    {
      "cell_type": "code",
      "execution_count": 12,
      "metadata": {
        "scrolled": true,
        "colab": {
          "base_uri": "https://localhost:8080/",
          "height": 206
        },
        "id": "G7IXY9IQO9ks",
        "outputId": "d267d2a8-5796-4f30-c27a-a92ae4c3a31e"
      },
      "outputs": [
        {
          "output_type": "execute_result",
          "data": {
            "text/plain": [
              "   price vehicle_type  registration_year gearbox  power  model  kilometer  \\\n",
              "0    480          NaN               1993  manual      0   golf     150000   \n",
              "1  18300        coupe               2011  manual    190    NaN     125000   \n",
              "2   9800          suv               2004    auto    163  grand     125000   \n",
              "3   1500        small               2001  manual     75   golf     150000   \n",
              "4   3600        small               2008  manual     69  fabia      90000   \n",
              "\n",
              "  fuel_type       brand repaired  \n",
              "0    petrol  volkswagen      NaN  \n",
              "1    petrol        audi      yes  \n",
              "2    petrol        jeep      NaN  \n",
              "3    petrol  volkswagen       no  \n",
              "4    petrol       skoda       no  "
            ],
            "text/html": [
              "\n",
              "  <div id=\"df-c3b726e2-219c-4457-9e84-57f5c166df9f\" class=\"colab-df-container\">\n",
              "    <div>\n",
              "<style scoped>\n",
              "    .dataframe tbody tr th:only-of-type {\n",
              "        vertical-align: middle;\n",
              "    }\n",
              "\n",
              "    .dataframe tbody tr th {\n",
              "        vertical-align: top;\n",
              "    }\n",
              "\n",
              "    .dataframe thead th {\n",
              "        text-align: right;\n",
              "    }\n",
              "</style>\n",
              "<table border=\"1\" class=\"dataframe\">\n",
              "  <thead>\n",
              "    <tr style=\"text-align: right;\">\n",
              "      <th></th>\n",
              "      <th>price</th>\n",
              "      <th>vehicle_type</th>\n",
              "      <th>registration_year</th>\n",
              "      <th>gearbox</th>\n",
              "      <th>power</th>\n",
              "      <th>model</th>\n",
              "      <th>kilometer</th>\n",
              "      <th>fuel_type</th>\n",
              "      <th>brand</th>\n",
              "      <th>repaired</th>\n",
              "    </tr>\n",
              "  </thead>\n",
              "  <tbody>\n",
              "    <tr>\n",
              "      <th>0</th>\n",
              "      <td>480</td>\n",
              "      <td>NaN</td>\n",
              "      <td>1993</td>\n",
              "      <td>manual</td>\n",
              "      <td>0</td>\n",
              "      <td>golf</td>\n",
              "      <td>150000</td>\n",
              "      <td>petrol</td>\n",
              "      <td>volkswagen</td>\n",
              "      <td>NaN</td>\n",
              "    </tr>\n",
              "    <tr>\n",
              "      <th>1</th>\n",
              "      <td>18300</td>\n",
              "      <td>coupe</td>\n",
              "      <td>2011</td>\n",
              "      <td>manual</td>\n",
              "      <td>190</td>\n",
              "      <td>NaN</td>\n",
              "      <td>125000</td>\n",
              "      <td>petrol</td>\n",
              "      <td>audi</td>\n",
              "      <td>yes</td>\n",
              "    </tr>\n",
              "    <tr>\n",
              "      <th>2</th>\n",
              "      <td>9800</td>\n",
              "      <td>suv</td>\n",
              "      <td>2004</td>\n",
              "      <td>auto</td>\n",
              "      <td>163</td>\n",
              "      <td>grand</td>\n",
              "      <td>125000</td>\n",
              "      <td>petrol</td>\n",
              "      <td>jeep</td>\n",
              "      <td>NaN</td>\n",
              "    </tr>\n",
              "    <tr>\n",
              "      <th>3</th>\n",
              "      <td>1500</td>\n",
              "      <td>small</td>\n",
              "      <td>2001</td>\n",
              "      <td>manual</td>\n",
              "      <td>75</td>\n",
              "      <td>golf</td>\n",
              "      <td>150000</td>\n",
              "      <td>petrol</td>\n",
              "      <td>volkswagen</td>\n",
              "      <td>no</td>\n",
              "    </tr>\n",
              "    <tr>\n",
              "      <th>4</th>\n",
              "      <td>3600</td>\n",
              "      <td>small</td>\n",
              "      <td>2008</td>\n",
              "      <td>manual</td>\n",
              "      <td>69</td>\n",
              "      <td>fabia</td>\n",
              "      <td>90000</td>\n",
              "      <td>petrol</td>\n",
              "      <td>skoda</td>\n",
              "      <td>no</td>\n",
              "    </tr>\n",
              "  </tbody>\n",
              "</table>\n",
              "</div>\n",
              "    <div class=\"colab-df-buttons\">\n",
              "\n",
              "  <div class=\"colab-df-container\">\n",
              "    <button class=\"colab-df-convert\" onclick=\"convertToInteractive('df-c3b726e2-219c-4457-9e84-57f5c166df9f')\"\n",
              "            title=\"Convert this dataframe to an interactive table.\"\n",
              "            style=\"display:none;\">\n",
              "\n",
              "  <svg xmlns=\"http://www.w3.org/2000/svg\" height=\"24px\" viewBox=\"0 -960 960 960\">\n",
              "    <path d=\"M120-120v-720h720v720H120Zm60-500h600v-160H180v160Zm220 220h160v-160H400v160Zm0 220h160v-160H400v160ZM180-400h160v-160H180v160Zm440 0h160v-160H620v160ZM180-180h160v-160H180v160Zm440 0h160v-160H620v160Z\"/>\n",
              "  </svg>\n",
              "    </button>\n",
              "\n",
              "  <style>\n",
              "    .colab-df-container {\n",
              "      display:flex;\n",
              "      gap: 12px;\n",
              "    }\n",
              "\n",
              "    .colab-df-convert {\n",
              "      background-color: #E8F0FE;\n",
              "      border: none;\n",
              "      border-radius: 50%;\n",
              "      cursor: pointer;\n",
              "      display: none;\n",
              "      fill: #1967D2;\n",
              "      height: 32px;\n",
              "      padding: 0 0 0 0;\n",
              "      width: 32px;\n",
              "    }\n",
              "\n",
              "    .colab-df-convert:hover {\n",
              "      background-color: #E2EBFA;\n",
              "      box-shadow: 0px 1px 2px rgba(60, 64, 67, 0.3), 0px 1px 3px 1px rgba(60, 64, 67, 0.15);\n",
              "      fill: #174EA6;\n",
              "    }\n",
              "\n",
              "    .colab-df-buttons div {\n",
              "      margin-bottom: 4px;\n",
              "    }\n",
              "\n",
              "    [theme=dark] .colab-df-convert {\n",
              "      background-color: #3B4455;\n",
              "      fill: #D2E3FC;\n",
              "    }\n",
              "\n",
              "    [theme=dark] .colab-df-convert:hover {\n",
              "      background-color: #434B5C;\n",
              "      box-shadow: 0px 1px 3px 1px rgba(0, 0, 0, 0.15);\n",
              "      filter: drop-shadow(0px 1px 2px rgba(0, 0, 0, 0.3));\n",
              "      fill: #FFFFFF;\n",
              "    }\n",
              "  </style>\n",
              "\n",
              "    <script>\n",
              "      const buttonEl =\n",
              "        document.querySelector('#df-c3b726e2-219c-4457-9e84-57f5c166df9f button.colab-df-convert');\n",
              "      buttonEl.style.display =\n",
              "        google.colab.kernel.accessAllowed ? 'block' : 'none';\n",
              "\n",
              "      async function convertToInteractive(key) {\n",
              "        const element = document.querySelector('#df-c3b726e2-219c-4457-9e84-57f5c166df9f');\n",
              "        const dataTable =\n",
              "          await google.colab.kernel.invokeFunction('convertToInteractive',\n",
              "                                                    [key], {});\n",
              "        if (!dataTable) return;\n",
              "\n",
              "        const docLinkHtml = 'Like what you see? Visit the ' +\n",
              "          '<a target=\"_blank\" href=https://colab.research.google.com/notebooks/data_table.ipynb>data table notebook</a>'\n",
              "          + ' to learn more about interactive tables.';\n",
              "        element.innerHTML = '';\n",
              "        dataTable['output_type'] = 'display_data';\n",
              "        await google.colab.output.renderOutput(dataTable, element);\n",
              "        const docLink = document.createElement('div');\n",
              "        docLink.innerHTML = docLinkHtml;\n",
              "        element.appendChild(docLink);\n",
              "      }\n",
              "    </script>\n",
              "  </div>\n",
              "\n",
              "\n",
              "<div id=\"df-8edf85d0-363e-4ab2-bf73-a5bf7861849c\">\n",
              "  <button class=\"colab-df-quickchart\" onclick=\"quickchart('df-8edf85d0-363e-4ab2-bf73-a5bf7861849c')\"\n",
              "            title=\"Suggest charts.\"\n",
              "            style=\"display:none;\">\n",
              "\n",
              "<svg xmlns=\"http://www.w3.org/2000/svg\" height=\"24px\"viewBox=\"0 0 24 24\"\n",
              "     width=\"24px\">\n",
              "    <g>\n",
              "        <path d=\"M19 3H5c-1.1 0-2 .9-2 2v14c0 1.1.9 2 2 2h14c1.1 0 2-.9 2-2V5c0-1.1-.9-2-2-2zM9 17H7v-7h2v7zm4 0h-2V7h2v10zm4 0h-2v-4h2v4z\"/>\n",
              "    </g>\n",
              "</svg>\n",
              "  </button>\n",
              "\n",
              "<style>\n",
              "  .colab-df-quickchart {\n",
              "    background-color: #E8F0FE;\n",
              "    border: none;\n",
              "    border-radius: 50%;\n",
              "    cursor: pointer;\n",
              "    display: none;\n",
              "    fill: #1967D2;\n",
              "    height: 32px;\n",
              "    padding: 0 0 0 0;\n",
              "    width: 32px;\n",
              "  }\n",
              "\n",
              "  .colab-df-quickchart:hover {\n",
              "    background-color: #E2EBFA;\n",
              "    box-shadow: 0px 1px 2px rgba(60, 64, 67, 0.3), 0px 1px 3px 1px rgba(60, 64, 67, 0.15);\n",
              "    fill: #174EA6;\n",
              "  }\n",
              "\n",
              "  [theme=dark] .colab-df-quickchart {\n",
              "    background-color: #3B4455;\n",
              "    fill: #D2E3FC;\n",
              "  }\n",
              "\n",
              "  [theme=dark] .colab-df-quickchart:hover {\n",
              "    background-color: #434B5C;\n",
              "    box-shadow: 0px 1px 3px 1px rgba(0, 0, 0, 0.15);\n",
              "    filter: drop-shadow(0px 1px 2px rgba(0, 0, 0, 0.3));\n",
              "    fill: #FFFFFF;\n",
              "  }\n",
              "</style>\n",
              "\n",
              "  <script>\n",
              "    async function quickchart(key) {\n",
              "      const charts = await google.colab.kernel.invokeFunction(\n",
              "          'suggestCharts', [key], {});\n",
              "    }\n",
              "    (() => {\n",
              "      let quickchartButtonEl =\n",
              "        document.querySelector('#df-8edf85d0-363e-4ab2-bf73-a5bf7861849c button');\n",
              "      quickchartButtonEl.style.display =\n",
              "        google.colab.kernel.accessAllowed ? 'block' : 'none';\n",
              "    })();\n",
              "  </script>\n",
              "</div>\n",
              "    </div>\n",
              "  </div>\n"
            ]
          },
          "metadata": {},
          "execution_count": 12
        }
      ],
      "source": [
        "# Переименуем столбцы\n",
        "df.columns = ['price', 'vehicle_type', 'registration_year', 'gearbox', 'power', 'model', 'kilometer', 'fuel_type', 'brand', 'repaired']\n",
        "df.head()"
      ]
    },
    {
      "cell_type": "markdown",
      "metadata": {
        "id": "t-AGx6ZgO9ks"
      },
      "source": [
        "#### Пропуски"
      ]
    },
    {
      "cell_type": "code",
      "execution_count": 13,
      "metadata": {
        "colab": {
          "base_uri": "https://localhost:8080/"
        },
        "id": "czXma6VQO9ks",
        "outputId": "8a36a789-dc80-42cb-e144-8ad27327852b"
      },
      "outputs": [
        {
          "output_type": "execute_result",
          "data": {
            "text/plain": [
              "price                    0\n",
              "vehicle_type         37490\n",
              "registration_year        0\n",
              "gearbox              19833\n",
              "power                    0\n",
              "model                19705\n",
              "kilometer                0\n",
              "fuel_type            32895\n",
              "brand                    0\n",
              "repaired             71154\n",
              "dtype: int64"
            ]
          },
          "metadata": {},
          "execution_count": 13
        }
      ],
      "source": [
        "# Количество пропусков\n",
        "df.isna().sum()"
      ]
    },
    {
      "cell_type": "markdown",
      "metadata": {
        "id": "TRWVaI6bO9kt"
      },
      "source": [
        "Мы видим достаточно большое количество пропусков в нескольких столбцах (около 5-20% от общего кол-ва данных). Поскольку мы решаем задачу прогнозирования, то нам важно сохранить как можно больше информации.\n",
        "* Пропуски в столбце 'vehicle_type' заполним заглушкой, поскольку одна и та же модель автомобиля может иметь разные типы кузова, эти данные невозможно корректно восстановить. При этом тип кузова лишь опосредованно влияет на цену автомобиля, поскольку он зависит от марки и модели авто.\n",
        "* Пропуски в столбце 'model'. Корректно восстановить данные по другим столбцам невозможно. При этом модель автомобиля существенно влияет на его стоимость. Пропуски составляют 5,5% от общего количества данных, удалим эти строки.\n",
        "* Пропуски в столбцах 'gearbox' и 'fuel_type' заполним модой по модели автомобиля.\n",
        "* Пропуски в столбце 'repaired' заполним заглушкой, эти данные невозможно корректно восстановить."
      ]
    },
    {
      "cell_type": "code",
      "execution_count": 14,
      "metadata": {
        "id": "Us8DdU1AO9kt"
      },
      "outputs": [],
      "source": [
        "# Заглушка в столбцах 'repaired' и 'vehicle_type'\n",
        "df.loc[df['repaired'].isna(), 'repaired'] = 'unknown'\n",
        "df.loc[df['vehicle_type'].isna(), 'vehicle_type'] = 'unknown'"
      ]
    },
    {
      "cell_type": "code",
      "execution_count": 15,
      "metadata": {
        "id": "CxJhda3-O9ku"
      },
      "outputs": [],
      "source": [
        "# Удалим пропуски в столбце 'model'\n",
        "df = df.dropna(subset=['model'])"
      ]
    },
    {
      "cell_type": "code",
      "execution_count": 16,
      "metadata": {
        "id": "OT-KVNREO9ku"
      },
      "outputs": [],
      "source": [
        "# Заполним пропуски в столбцах 'gearbox' и 'fuel_type'\n",
        "grp = df.groupby(['model'])\n",
        "df['gearbox'] = grp.gearbox.apply(lambda x: x.fillna(x.mode()[0]))\n",
        "df['fuel_type'] = grp.gearbox.apply(lambda x: x.fillna(x.mode()[0]))"
      ]
    },
    {
      "cell_type": "code",
      "execution_count": 17,
      "metadata": {
        "colab": {
          "base_uri": "https://localhost:8080/"
        },
        "id": "LDc8kePQO9ku",
        "outputId": "b844a112-9500-4703-b9eb-eb3d7dfde31a"
      },
      "outputs": [
        {
          "output_type": "stream",
          "name": "stdout",
          "text": [
            "<class 'pandas.core.frame.DataFrame'>\n",
            "Int64Index: 334660 entries, 0 to 354368\n",
            "Data columns (total 10 columns):\n",
            " #   Column             Non-Null Count   Dtype \n",
            "---  ------             --------------   ----- \n",
            " 0   price              334660 non-null  int64 \n",
            " 1   vehicle_type       334660 non-null  object\n",
            " 2   registration_year  334660 non-null  int64 \n",
            " 3   gearbox            334660 non-null  object\n",
            " 4   power              334660 non-null  int64 \n",
            " 5   model              334660 non-null  object\n",
            " 6   kilometer          334660 non-null  int64 \n",
            " 7   fuel_type          334660 non-null  object\n",
            " 8   brand              334660 non-null  object\n",
            " 9   repaired           334660 non-null  object\n",
            "dtypes: int64(4), object(6)\n",
            "memory usage: 28.1+ MB\n"
          ]
        }
      ],
      "source": [
        "# Проверим результат\n",
        "df.info()"
      ]
    },
    {
      "cell_type": "markdown",
      "metadata": {
        "id": "2A7aTn_FO9ku"
      },
      "source": [
        "#### Аномалии"
      ]
    },
    {
      "cell_type": "markdown",
      "metadata": {
        "id": "0osctZOQO9ku"
      },
      "source": [
        "В датасете достаточно много аномальных числовых значений, рассмотрим все столбцы попорядку.\n",
        "* **price** - значения от 0 до 20 000 евро. Верхняя граница выглядит правдоподобно. Значения меньше 10 удалим из датасета.\n",
        "* **registration_year** - значения от 1000 до 9999. Нижнюю границу ограничим значением 1900, верхнюю - 2016 г., поскольку данные в датасете представлены именно за 2016 год. Корректно восстановить неверную информацию у нас не получится, удалим все аномалии.\n",
        "* **power** - значения от 0 до 20 000 л.с. Нижнюю границу ограничим уровнем 10 л.с., менее мощные автомобили бывают, но это уже экзотика. Верхняя граница - 1600 л.с., по состоянию на 2016 год это был самый мощный автомобиль (на данный момент есть мощнее).\n",
        "* **kilometer** - все значения выглядят правдоподобно."
      ]
    },
    {
      "cell_type": "code",
      "execution_count": 18,
      "metadata": {
        "colab": {
          "base_uri": "https://localhost:8080/"
        },
        "id": "cDSYxr5tO9kv",
        "outputId": "b9e768f3-ec1e-4eba-c1ca-a932e5dcd7d3"
      },
      "outputs": [
        {
          "output_type": "stream",
          "name": "stdout",
          "text": [
            "<class 'pandas.core.frame.DataFrame'>\n",
            "Int64Index: 284866 entries, 2 to 354368\n",
            "Data columns (total 10 columns):\n",
            " #   Column             Non-Null Count   Dtype \n",
            "---  ------             --------------   ----- \n",
            " 0   price              284866 non-null  int64 \n",
            " 1   vehicle_type       284866 non-null  object\n",
            " 2   registration_year  284866 non-null  int64 \n",
            " 3   gearbox            284866 non-null  object\n",
            " 4   power              284866 non-null  int64 \n",
            " 5   model              284866 non-null  object\n",
            " 6   kilometer          284866 non-null  int64 \n",
            " 7   fuel_type          284866 non-null  object\n",
            " 8   brand              284866 non-null  object\n",
            " 9   repaired           284866 non-null  object\n",
            "dtypes: int64(4), object(6)\n",
            "memory usage: 23.9+ MB\n"
          ]
        }
      ],
      "source": [
        "# Удалим аномальные значения из датасета\n",
        "df = df.query('price >= 10')\n",
        "df = df.query('registration_year >= 1900 and registration_year <= 2016')\n",
        "df = df.query('power >= 10 and power <= 1600')\n",
        "\n",
        "# Проверим результат\n",
        "df.info()"
      ]
    },
    {
      "cell_type": "markdown",
      "metadata": {
        "id": "og1ywpz2O9kw"
      },
      "source": [
        "#### Работа со столбцами \"модель\" и \"бренд\""
      ]
    },
    {
      "cell_type": "markdown",
      "metadata": {
        "id": "Fh7IcIWjO9kw"
      },
      "source": [
        "В столбцах Brand и Model находятся суммарно несколько десятков уникальных значений, что при кодировании OHE приведет к образованию большого количества столбцов."
      ]
    },
    {
      "cell_type": "code",
      "execution_count": 19,
      "metadata": {
        "colab": {
          "base_uri": "https://localhost:8080/"
        },
        "id": "hH9KH1pYO9kw",
        "outputId": "48fe31f8-031d-400c-eb21-e4194e3da9f6"
      },
      "outputs": [
        {
          "output_type": "execute_result",
          "data": {
            "text/plain": [
              "v60                   39\n",
              "croma                 37\n",
              "move                  36\n",
              "145                   34\n",
              "terios                32\n",
              "lodgy                 30\n",
              "delta                 27\n",
              "b_max                 25\n",
              "9000                  23\n",
              "musa                  21\n",
              "charade               20\n",
              "materia               17\n",
              "200                   16\n",
              "q3                    13\n",
              "kappa                 13\n",
              "gl                    12\n",
              "amarok                12\n",
              "elefantino             7\n",
              "serie_2                5\n",
              "kalina                 5\n",
              "i3                     5\n",
              "samara                 5\n",
              "serie_3                3\n",
              "rangerover             2\n",
              "range_rover_evoque     2\n",
              "Name: model, dtype: int64"
            ]
          },
          "metadata": {},
          "execution_count": 19
        }
      ],
      "source": [
        "# Посмотрим наиболее редкие модели\n",
        "df['model'].value_counts().tail(25)"
      ]
    },
    {
      "cell_type": "markdown",
      "metadata": {
        "id": "vsXoDRQ_O9kx"
      },
      "source": [
        "Удалим наиболее редкие модели (менее 30 упоминаний) из датасета."
      ]
    },
    {
      "cell_type": "code",
      "execution_count": 20,
      "metadata": {
        "id": "De6Cj9UEO9kx"
      },
      "outputs": [],
      "source": [
        "# Получим список редких моделей\n",
        "model_drop = (df['model'].value_counts().tail(20)).index.to_list()\n",
        "\n",
        "# Удалим редкие модели\n",
        "df = df.query(\"model != ['lodgy', 'delta', 'b_max', '9000', 'musa', 'charade', 'materia', '200', \\\n",
        " 'q3', 'kappa', 'gl', 'amarok', 'elefantino', 'i3', 'kalina', 'serie_2', 'samara', 'serie_3', 'range_rover_evoque', 'rangerover']\")"
      ]
    },
    {
      "cell_type": "code",
      "execution_count": 21,
      "metadata": {
        "colab": {
          "base_uri": "https://localhost:8080/"
        },
        "id": "YZY7H1F2O9kx",
        "outputId": "281c47b1-5209-4220-ccac-70976f6ca666"
      },
      "outputs": [
        {
          "output_type": "execute_result",
          "data": {
            "text/plain": [
              "daihatsu      563\n",
              "jeep          562\n",
              "land_rover    445\n",
              "saab          439\n",
              "jaguar        431\n",
              "daewoo        385\n",
              "rover         318\n",
              "lancia        298\n",
              "trabant       261\n",
              "lada          141\n",
              "Name: brand, dtype: int64"
            ]
          },
          "metadata": {},
          "execution_count": 21
        }
      ],
      "source": [
        "# Посмотрим наиболее редкие бренды\n",
        "df['brand'].value_counts().tail(10)"
      ]
    },
    {
      "cell_type": "markdown",
      "metadata": {
        "id": "Jhu9NAKYO9kx"
      },
      "source": [
        "Наиболее редкий бренд - Лада. Однако, количество упоминаний больше 100, поэтому оставим все данные."
      ]
    },
    {
      "cell_type": "code",
      "execution_count": 22,
      "metadata": {
        "colab": {
          "base_uri": "https://localhost:8080/"
        },
        "id": "33rSHpgKO9kx",
        "outputId": "9f8e04ba-593d-48b6-df8b-99bd0572d128"
      },
      "outputs": [
        {
          "output_type": "stream",
          "name": "stdout",
          "text": [
            "Всего удалено данных из датасета: 0.19687388005158468\n"
          ]
        }
      ],
      "source": [
        "# Проверим общее количество удаленных данных\n",
        "print('Всего удалено данных из датасета:', 1 - len(df) / len(data))"
      ]
    },
    {
      "cell_type": "markdown",
      "metadata": {
        "id": "EmrJjvyrO9ky"
      },
      "source": [
        "**Вывод:** мы подготовили датасет для дальнейшей работы, заполнили пропуски, удалили аномалии, в сумме удалено 19,7% некачественных данных."
      ]
    },
    {
      "cell_type": "markdown",
      "metadata": {
        "id": "7ihnG80UO9kz"
      },
      "source": [
        "### Подготовка признаков"
      ]
    },
    {
      "cell_type": "markdown",
      "metadata": {
        "id": "YuPmgrYMO9kz"
      },
      "source": [
        "Разделим исходные данные на обучающую, валидационную и тестовую выборки. Размеры тестового и валидационного наборов обычно равны. Таким образом, нам необходимо разбить данные в соотношении 3:1:1. Или 60% - обучающая выборка, и по 20% - тестовая и валидационная."
      ]
    },
    {
      "cell_type": "code",
      "execution_count": 23,
      "metadata": {
        "colab": {
          "base_uri": "https://localhost:8080/"
        },
        "id": "UuHUoikqO9kz",
        "outputId": "20478bba-5efc-4b21-e42c-92616085af5b"
      },
      "outputs": [
        {
          "output_type": "stream",
          "name": "stdout",
          "text": [
            "(170761, 9)\n",
            "(56921, 9)\n"
          ]
        },
        {
          "output_type": "execute_result",
          "data": {
            "text/plain": [
              "(56921, 9)"
            ]
          },
          "metadata": {},
          "execution_count": 23
        }
      ],
      "source": [
        "# Выделим целевой признак\n",
        "features = df.drop(['price'], axis=1)\n",
        "target = df['price']\n",
        "\n",
        "# Разделим данные на 2 выборки: 40% тестовая и валидационная вместе взятые, и 60% обучающая\n",
        "X_train, X_test, y_train, y_test = \\\n",
        "    train_test_split(features, target, test_size=0.4, random_state=RANDOM_STATE)\n",
        "\n",
        "# Разделим 40% на тестовую и валидационную выборки\n",
        "X_test, X_valid, y_test, y_valid = \\\n",
        "    train_test_split(X_test, y_test, test_size=0.5, random_state=RANDOM_STATE)\n",
        "\n",
        "# Проверим размер получившихся выборок\n",
        "print(X_train.shape)\n",
        "print(X_test.shape)\n",
        "X_valid.shape"
      ]
    },
    {
      "cell_type": "markdown",
      "metadata": {
        "id": "Z6lRA3OCO9k0"
      },
      "source": [
        "Часть признаков в датасете является категориальными. Некоторые модели умеют работать с такими признаками без предварительной подготовки (CatBoost), но для других моделей необходимо кодирование категориальных признаков."
      ]
    },
    {
      "cell_type": "code",
      "execution_count": 24,
      "metadata": {
        "colab": {
          "base_uri": "https://localhost:8080/",
          "height": 52
        },
        "id": "yjDfo4xNO9k0",
        "outputId": "436a69bb-cba0-4b87-cac9-8a2f078b802b"
      },
      "outputs": [
        {
          "output_type": "display_data",
          "data": {
            "text/plain": [
              "['vehicle_type', 'gearbox', 'model', 'fuel_type', 'brand', 'repaired']"
            ]
          },
          "metadata": {}
        },
        {
          "output_type": "display_data",
          "data": {
            "text/plain": [
              "['registration_year', 'power', 'kilometer']"
            ]
          },
          "metadata": {}
        }
      ],
      "source": [
        "# Составим списки категориальных и численных признаков\n",
        "category_features = X_train.select_dtypes(include='object').columns.to_list()\n",
        "display(category_features)\n",
        "numeric_features = X_train.select_dtypes(include='int64').columns.to_list()\n",
        "display(numeric_features)"
      ]
    },
    {
      "cell_type": "markdown",
      "metadata": {
        "id": "RKPzMdEVO9k1"
      },
      "source": [
        "## Обучение моделей"
      ]
    },
    {
      "cell_type": "markdown",
      "metadata": {
        "id": "FhHDUscvO9k1"
      },
      "source": [
        "Выполним кодирование категориальных признаков методом OHE и стандартизируем все численные признаки с помощью StandardScaler(). Объединим эти действия через make_column_transformer. Трансформировать необходимо как обучающую, так и валидационную выборку."
      ]
    },
    {
      "cell_type": "code",
      "execution_count": 25,
      "metadata": {
        "id": "ZyKzHcT0O9k1"
      },
      "outputs": [],
      "source": [
        "X_train_linear = X_train.copy()\n",
        "X_valid_linear = X_valid.copy()"
      ]
    },
    {
      "cell_type": "code",
      "execution_count": 26,
      "metadata": {
        "scrolled": true,
        "colab": {
          "base_uri": "https://localhost:8080/",
          "height": 256
        },
        "id": "S8_k1Cl-O9k1",
        "outputId": "6285dd7e-ab07-4b2a-ff7f-0dea9f75e393"
      },
      "outputs": [
        {
          "output_type": "execute_result",
          "data": {
            "text/plain": [
              "   vehicle_type_convertible  vehicle_type_coupe  vehicle_type_other  \\\n",
              "0                       0.0                 0.0                 0.0   \n",
              "1                       0.0                 0.0                 0.0   \n",
              "2                       0.0                 0.0                 0.0   \n",
              "3                       0.0                 0.0                 0.0   \n",
              "4                       0.0                 0.0                 0.0   \n",
              "\n",
              "   vehicle_type_sedan  vehicle_type_small  vehicle_type_suv  \\\n",
              "0                 0.0                 0.0               0.0   \n",
              "1                 1.0                 0.0               0.0   \n",
              "2                 0.0                 0.0               0.0   \n",
              "3                 0.0                 1.0               0.0   \n",
              "4                 0.0                 0.0               0.0   \n",
              "\n",
              "   vehicle_type_unknown  vehicle_type_wagon  gearbox_manual  model_145  ...  \\\n",
              "0                   0.0                 1.0             1.0        0.0  ...   \n",
              "1                   0.0                 0.0             1.0        0.0  ...   \n",
              "2                   0.0                 1.0             1.0        0.0  ...   \n",
              "3                   0.0                 0.0             1.0        0.0  ...   \n",
              "4                   0.0                 0.0             1.0        0.0  ...   \n",
              "\n",
              "   brand_suzuki  brand_toyota  brand_trabant  brand_volkswagen  brand_volvo  \\\n",
              "0           0.0           0.0            0.0               1.0          0.0   \n",
              "1           0.0           0.0            0.0               0.0          0.0   \n",
              "2           0.0           0.0            0.0               1.0          0.0   \n",
              "3           0.0           0.0            0.0               1.0          0.0   \n",
              "4           0.0           0.0            0.0               1.0          0.0   \n",
              "\n",
              "   repaired_unknown  repaired_yes  registration_year     power  kilometer  \n",
              "0               0.0           0.0           1.110109 -0.189814   0.593035  \n",
              "1               1.0           0.0           0.639333  0.490631   0.593035  \n",
              "2               0.0           0.0          -0.302219 -0.530036   0.593035  \n",
              "3               0.0           0.0           0.168557 -0.972325  -1.862062  \n",
              "4               0.0           0.0          -0.929921 -0.325903   0.593035  \n",
              "\n",
              "[5 rows x 281 columns]"
            ],
            "text/html": [
              "\n",
              "  <div id=\"df-8c92dedf-41db-415b-b3ab-3b0f07fbcc0f\" class=\"colab-df-container\">\n",
              "    <div>\n",
              "<style scoped>\n",
              "    .dataframe tbody tr th:only-of-type {\n",
              "        vertical-align: middle;\n",
              "    }\n",
              "\n",
              "    .dataframe tbody tr th {\n",
              "        vertical-align: top;\n",
              "    }\n",
              "\n",
              "    .dataframe thead th {\n",
              "        text-align: right;\n",
              "    }\n",
              "</style>\n",
              "<table border=\"1\" class=\"dataframe\">\n",
              "  <thead>\n",
              "    <tr style=\"text-align: right;\">\n",
              "      <th></th>\n",
              "      <th>vehicle_type_convertible</th>\n",
              "      <th>vehicle_type_coupe</th>\n",
              "      <th>vehicle_type_other</th>\n",
              "      <th>vehicle_type_sedan</th>\n",
              "      <th>vehicle_type_small</th>\n",
              "      <th>vehicle_type_suv</th>\n",
              "      <th>vehicle_type_unknown</th>\n",
              "      <th>vehicle_type_wagon</th>\n",
              "      <th>gearbox_manual</th>\n",
              "      <th>model_145</th>\n",
              "      <th>...</th>\n",
              "      <th>brand_suzuki</th>\n",
              "      <th>brand_toyota</th>\n",
              "      <th>brand_trabant</th>\n",
              "      <th>brand_volkswagen</th>\n",
              "      <th>brand_volvo</th>\n",
              "      <th>repaired_unknown</th>\n",
              "      <th>repaired_yes</th>\n",
              "      <th>registration_year</th>\n",
              "      <th>power</th>\n",
              "      <th>kilometer</th>\n",
              "    </tr>\n",
              "  </thead>\n",
              "  <tbody>\n",
              "    <tr>\n",
              "      <th>0</th>\n",
              "      <td>0.0</td>\n",
              "      <td>0.0</td>\n",
              "      <td>0.0</td>\n",
              "      <td>0.0</td>\n",
              "      <td>0.0</td>\n",
              "      <td>0.0</td>\n",
              "      <td>0.0</td>\n",
              "      <td>1.0</td>\n",
              "      <td>1.0</td>\n",
              "      <td>0.0</td>\n",
              "      <td>...</td>\n",
              "      <td>0.0</td>\n",
              "      <td>0.0</td>\n",
              "      <td>0.0</td>\n",
              "      <td>1.0</td>\n",
              "      <td>0.0</td>\n",
              "      <td>0.0</td>\n",
              "      <td>0.0</td>\n",
              "      <td>1.110109</td>\n",
              "      <td>-0.189814</td>\n",
              "      <td>0.593035</td>\n",
              "    </tr>\n",
              "    <tr>\n",
              "      <th>1</th>\n",
              "      <td>0.0</td>\n",
              "      <td>0.0</td>\n",
              "      <td>0.0</td>\n",
              "      <td>1.0</td>\n",
              "      <td>0.0</td>\n",
              "      <td>0.0</td>\n",
              "      <td>0.0</td>\n",
              "      <td>0.0</td>\n",
              "      <td>1.0</td>\n",
              "      <td>0.0</td>\n",
              "      <td>...</td>\n",
              "      <td>0.0</td>\n",
              "      <td>0.0</td>\n",
              "      <td>0.0</td>\n",
              "      <td>0.0</td>\n",
              "      <td>0.0</td>\n",
              "      <td>1.0</td>\n",
              "      <td>0.0</td>\n",
              "      <td>0.639333</td>\n",
              "      <td>0.490631</td>\n",
              "      <td>0.593035</td>\n",
              "    </tr>\n",
              "    <tr>\n",
              "      <th>2</th>\n",
              "      <td>0.0</td>\n",
              "      <td>0.0</td>\n",
              "      <td>0.0</td>\n",
              "      <td>0.0</td>\n",
              "      <td>0.0</td>\n",
              "      <td>0.0</td>\n",
              "      <td>0.0</td>\n",
              "      <td>1.0</td>\n",
              "      <td>1.0</td>\n",
              "      <td>0.0</td>\n",
              "      <td>...</td>\n",
              "      <td>0.0</td>\n",
              "      <td>0.0</td>\n",
              "      <td>0.0</td>\n",
              "      <td>1.0</td>\n",
              "      <td>0.0</td>\n",
              "      <td>0.0</td>\n",
              "      <td>0.0</td>\n",
              "      <td>-0.302219</td>\n",
              "      <td>-0.530036</td>\n",
              "      <td>0.593035</td>\n",
              "    </tr>\n",
              "    <tr>\n",
              "      <th>3</th>\n",
              "      <td>0.0</td>\n",
              "      <td>0.0</td>\n",
              "      <td>0.0</td>\n",
              "      <td>0.0</td>\n",
              "      <td>1.0</td>\n",
              "      <td>0.0</td>\n",
              "      <td>0.0</td>\n",
              "      <td>0.0</td>\n",
              "      <td>1.0</td>\n",
              "      <td>0.0</td>\n",
              "      <td>...</td>\n",
              "      <td>0.0</td>\n",
              "      <td>0.0</td>\n",
              "      <td>0.0</td>\n",
              "      <td>1.0</td>\n",
              "      <td>0.0</td>\n",
              "      <td>0.0</td>\n",
              "      <td>0.0</td>\n",
              "      <td>0.168557</td>\n",
              "      <td>-0.972325</td>\n",
              "      <td>-1.862062</td>\n",
              "    </tr>\n",
              "    <tr>\n",
              "      <th>4</th>\n",
              "      <td>0.0</td>\n",
              "      <td>0.0</td>\n",
              "      <td>0.0</td>\n",
              "      <td>0.0</td>\n",
              "      <td>0.0</td>\n",
              "      <td>0.0</td>\n",
              "      <td>0.0</td>\n",
              "      <td>0.0</td>\n",
              "      <td>1.0</td>\n",
              "      <td>0.0</td>\n",
              "      <td>...</td>\n",
              "      <td>0.0</td>\n",
              "      <td>0.0</td>\n",
              "      <td>0.0</td>\n",
              "      <td>1.0</td>\n",
              "      <td>0.0</td>\n",
              "      <td>0.0</td>\n",
              "      <td>0.0</td>\n",
              "      <td>-0.929921</td>\n",
              "      <td>-0.325903</td>\n",
              "      <td>0.593035</td>\n",
              "    </tr>\n",
              "  </tbody>\n",
              "</table>\n",
              "<p>5 rows × 281 columns</p>\n",
              "</div>\n",
              "    <div class=\"colab-df-buttons\">\n",
              "\n",
              "  <div class=\"colab-df-container\">\n",
              "    <button class=\"colab-df-convert\" onclick=\"convertToInteractive('df-8c92dedf-41db-415b-b3ab-3b0f07fbcc0f')\"\n",
              "            title=\"Convert this dataframe to an interactive table.\"\n",
              "            style=\"display:none;\">\n",
              "\n",
              "  <svg xmlns=\"http://www.w3.org/2000/svg\" height=\"24px\" viewBox=\"0 -960 960 960\">\n",
              "    <path d=\"M120-120v-720h720v720H120Zm60-500h600v-160H180v160Zm220 220h160v-160H400v160Zm0 220h160v-160H400v160ZM180-400h160v-160H180v160Zm440 0h160v-160H620v160ZM180-180h160v-160H180v160Zm440 0h160v-160H620v160Z\"/>\n",
              "  </svg>\n",
              "    </button>\n",
              "\n",
              "  <style>\n",
              "    .colab-df-container {\n",
              "      display:flex;\n",
              "      gap: 12px;\n",
              "    }\n",
              "\n",
              "    .colab-df-convert {\n",
              "      background-color: #E8F0FE;\n",
              "      border: none;\n",
              "      border-radius: 50%;\n",
              "      cursor: pointer;\n",
              "      display: none;\n",
              "      fill: #1967D2;\n",
              "      height: 32px;\n",
              "      padding: 0 0 0 0;\n",
              "      width: 32px;\n",
              "    }\n",
              "\n",
              "    .colab-df-convert:hover {\n",
              "      background-color: #E2EBFA;\n",
              "      box-shadow: 0px 1px 2px rgba(60, 64, 67, 0.3), 0px 1px 3px 1px rgba(60, 64, 67, 0.15);\n",
              "      fill: #174EA6;\n",
              "    }\n",
              "\n",
              "    .colab-df-buttons div {\n",
              "      margin-bottom: 4px;\n",
              "    }\n",
              "\n",
              "    [theme=dark] .colab-df-convert {\n",
              "      background-color: #3B4455;\n",
              "      fill: #D2E3FC;\n",
              "    }\n",
              "\n",
              "    [theme=dark] .colab-df-convert:hover {\n",
              "      background-color: #434B5C;\n",
              "      box-shadow: 0px 1px 3px 1px rgba(0, 0, 0, 0.15);\n",
              "      filter: drop-shadow(0px 1px 2px rgba(0, 0, 0, 0.3));\n",
              "      fill: #FFFFFF;\n",
              "    }\n",
              "  </style>\n",
              "\n",
              "    <script>\n",
              "      const buttonEl =\n",
              "        document.querySelector('#df-8c92dedf-41db-415b-b3ab-3b0f07fbcc0f button.colab-df-convert');\n",
              "      buttonEl.style.display =\n",
              "        google.colab.kernel.accessAllowed ? 'block' : 'none';\n",
              "\n",
              "      async function convertToInteractive(key) {\n",
              "        const element = document.querySelector('#df-8c92dedf-41db-415b-b3ab-3b0f07fbcc0f');\n",
              "        const dataTable =\n",
              "          await google.colab.kernel.invokeFunction('convertToInteractive',\n",
              "                                                    [key], {});\n",
              "        if (!dataTable) return;\n",
              "\n",
              "        const docLinkHtml = 'Like what you see? Visit the ' +\n",
              "          '<a target=\"_blank\" href=https://colab.research.google.com/notebooks/data_table.ipynb>data table notebook</a>'\n",
              "          + ' to learn more about interactive tables.';\n",
              "        element.innerHTML = '';\n",
              "        dataTable['output_type'] = 'display_data';\n",
              "        await google.colab.output.renderOutput(dataTable, element);\n",
              "        const docLink = document.createElement('div');\n",
              "        docLink.innerHTML = docLinkHtml;\n",
              "        element.appendChild(docLink);\n",
              "      }\n",
              "    </script>\n",
              "  </div>\n",
              "\n",
              "\n",
              "<div id=\"df-9389de0f-1446-4b12-807c-aa3d18ec5e91\">\n",
              "  <button class=\"colab-df-quickchart\" onclick=\"quickchart('df-9389de0f-1446-4b12-807c-aa3d18ec5e91')\"\n",
              "            title=\"Suggest charts.\"\n",
              "            style=\"display:none;\">\n",
              "\n",
              "<svg xmlns=\"http://www.w3.org/2000/svg\" height=\"24px\"viewBox=\"0 0 24 24\"\n",
              "     width=\"24px\">\n",
              "    <g>\n",
              "        <path d=\"M19 3H5c-1.1 0-2 .9-2 2v14c0 1.1.9 2 2 2h14c1.1 0 2-.9 2-2V5c0-1.1-.9-2-2-2zM9 17H7v-7h2v7zm4 0h-2V7h2v10zm4 0h-2v-4h2v4z\"/>\n",
              "    </g>\n",
              "</svg>\n",
              "  </button>\n",
              "\n",
              "<style>\n",
              "  .colab-df-quickchart {\n",
              "    background-color: #E8F0FE;\n",
              "    border: none;\n",
              "    border-radius: 50%;\n",
              "    cursor: pointer;\n",
              "    display: none;\n",
              "    fill: #1967D2;\n",
              "    height: 32px;\n",
              "    padding: 0 0 0 0;\n",
              "    width: 32px;\n",
              "  }\n",
              "\n",
              "  .colab-df-quickchart:hover {\n",
              "    background-color: #E2EBFA;\n",
              "    box-shadow: 0px 1px 2px rgba(60, 64, 67, 0.3), 0px 1px 3px 1px rgba(60, 64, 67, 0.15);\n",
              "    fill: #174EA6;\n",
              "  }\n",
              "\n",
              "  [theme=dark] .colab-df-quickchart {\n",
              "    background-color: #3B4455;\n",
              "    fill: #D2E3FC;\n",
              "  }\n",
              "\n",
              "  [theme=dark] .colab-df-quickchart:hover {\n",
              "    background-color: #434B5C;\n",
              "    box-shadow: 0px 1px 3px 1px rgba(0, 0, 0, 0.15);\n",
              "    filter: drop-shadow(0px 1px 2px rgba(0, 0, 0, 0.3));\n",
              "    fill: #FFFFFF;\n",
              "  }\n",
              "</style>\n",
              "\n",
              "  <script>\n",
              "    async function quickchart(key) {\n",
              "      const charts = await google.colab.kernel.invokeFunction(\n",
              "          'suggestCharts', [key], {});\n",
              "    }\n",
              "    (() => {\n",
              "      let quickchartButtonEl =\n",
              "        document.querySelector('#df-9389de0f-1446-4b12-807c-aa3d18ec5e91 button');\n",
              "      quickchartButtonEl.style.display =\n",
              "        google.colab.kernel.accessAllowed ? 'block' : 'none';\n",
              "    })();\n",
              "  </script>\n",
              "</div>\n",
              "    </div>\n",
              "  </div>\n"
            ]
          },
          "metadata": {},
          "execution_count": 26
        }
      ],
      "source": [
        "# Задаем параметры для make_column_transformer\n",
        "col_transformer_linear = make_column_transformer(\n",
        "    (\n",
        "        OneHotEncoder(drop='first', handle_unknown='ignore'),\n",
        "        category_features\n",
        "    ),\n",
        "    (\n",
        "        StandardScaler(),\n",
        "        numeric_features\n",
        "    ),\n",
        "    remainder='passthrough',\n",
        "    verbose_feature_names_out=False\n",
        ")\n",
        "\n",
        "# Кодируем и масштабируем тренировочную выборку\n",
        "X_train_linear = pd.DataFrame.sparse.from_spmatrix(\n",
        "    col_transformer_linear.fit_transform(X_train_linear),\n",
        "    columns=col_transformer_linear.get_feature_names_out()\n",
        ")\n",
        "\n",
        "# Смотрим результат\n",
        "X_train_linear.head()"
      ]
    },
    {
      "cell_type": "code",
      "execution_count": 27,
      "metadata": {
        "colab": {
          "base_uri": "https://localhost:8080/",
          "height": 256
        },
        "id": "7fz-T9EaO9k3",
        "outputId": "84c4b636-10cd-474a-c6b9-898a21e850c6"
      },
      "outputs": [
        {
          "output_type": "execute_result",
          "data": {
            "text/plain": [
              "   vehicle_type_convertible  vehicle_type_coupe  vehicle_type_other  \\\n",
              "0                       1.0                 0.0                 0.0   \n",
              "1                       0.0                 0.0                 0.0   \n",
              "2                       1.0                 0.0                 0.0   \n",
              "3                       0.0                 0.0                 0.0   \n",
              "4                       0.0                 0.0                 0.0   \n",
              "\n",
              "   vehicle_type_sedan  vehicle_type_small  vehicle_type_suv  \\\n",
              "0                 0.0                 0.0               0.0   \n",
              "1                 0.0                 1.0               0.0   \n",
              "2                 0.0                 0.0               0.0   \n",
              "3                 0.0                 0.0               0.0   \n",
              "4                 0.0                 0.0               0.0   \n",
              "\n",
              "   vehicle_type_unknown  vehicle_type_wagon  gearbox_manual  model_145  ...  \\\n",
              "0                   0.0                 0.0             1.0        0.0  ...   \n",
              "1                   0.0                 0.0             1.0        0.0  ...   \n",
              "2                   0.0                 0.0             0.0        0.0  ...   \n",
              "3                   0.0                 1.0             0.0        0.0  ...   \n",
              "4                   0.0                 0.0             0.0        0.0  ...   \n",
              "\n",
              "   brand_suzuki  brand_toyota  brand_trabant  brand_volkswagen  brand_volvo  \\\n",
              "0           0.0           0.0            0.0               0.0          0.0   \n",
              "1           0.0           0.0            0.0               1.0          0.0   \n",
              "2           0.0           0.0            0.0               0.0          0.0   \n",
              "3           0.0           0.0            0.0               0.0          0.0   \n",
              "4           0.0           0.0            0.0               0.0          0.0   \n",
              "\n",
              "   repaired_unknown  repaired_yes  registration_year     power  kilometer  \n",
              "0               0.0           0.0          -0.772995 -0.104758  -0.770908  \n",
              "1               0.0           0.0          -2.342249 -1.125425  -0.088936  \n",
              "2               1.0           0.0          -0.459145 -1.142436  -2.134851  \n",
              "3               0.0           0.0           0.011631  1.000964   0.593035  \n",
              "4               0.0           0.0           1.423960  1.341187  -1.862062  \n",
              "\n",
              "[5 rows x 281 columns]"
            ],
            "text/html": [
              "\n",
              "  <div id=\"df-88c67d96-fad4-439f-85f0-2c67e0d1cbc2\" class=\"colab-df-container\">\n",
              "    <div>\n",
              "<style scoped>\n",
              "    .dataframe tbody tr th:only-of-type {\n",
              "        vertical-align: middle;\n",
              "    }\n",
              "\n",
              "    .dataframe tbody tr th {\n",
              "        vertical-align: top;\n",
              "    }\n",
              "\n",
              "    .dataframe thead th {\n",
              "        text-align: right;\n",
              "    }\n",
              "</style>\n",
              "<table border=\"1\" class=\"dataframe\">\n",
              "  <thead>\n",
              "    <tr style=\"text-align: right;\">\n",
              "      <th></th>\n",
              "      <th>vehicle_type_convertible</th>\n",
              "      <th>vehicle_type_coupe</th>\n",
              "      <th>vehicle_type_other</th>\n",
              "      <th>vehicle_type_sedan</th>\n",
              "      <th>vehicle_type_small</th>\n",
              "      <th>vehicle_type_suv</th>\n",
              "      <th>vehicle_type_unknown</th>\n",
              "      <th>vehicle_type_wagon</th>\n",
              "      <th>gearbox_manual</th>\n",
              "      <th>model_145</th>\n",
              "      <th>...</th>\n",
              "      <th>brand_suzuki</th>\n",
              "      <th>brand_toyota</th>\n",
              "      <th>brand_trabant</th>\n",
              "      <th>brand_volkswagen</th>\n",
              "      <th>brand_volvo</th>\n",
              "      <th>repaired_unknown</th>\n",
              "      <th>repaired_yes</th>\n",
              "      <th>registration_year</th>\n",
              "      <th>power</th>\n",
              "      <th>kilometer</th>\n",
              "    </tr>\n",
              "  </thead>\n",
              "  <tbody>\n",
              "    <tr>\n",
              "      <th>0</th>\n",
              "      <td>1.0</td>\n",
              "      <td>0.0</td>\n",
              "      <td>0.0</td>\n",
              "      <td>0.0</td>\n",
              "      <td>0.0</td>\n",
              "      <td>0.0</td>\n",
              "      <td>0.0</td>\n",
              "      <td>0.0</td>\n",
              "      <td>1.0</td>\n",
              "      <td>0.0</td>\n",
              "      <td>...</td>\n",
              "      <td>0.0</td>\n",
              "      <td>0.0</td>\n",
              "      <td>0.0</td>\n",
              "      <td>0.0</td>\n",
              "      <td>0.0</td>\n",
              "      <td>0.0</td>\n",
              "      <td>0.0</td>\n",
              "      <td>-0.772995</td>\n",
              "      <td>-0.104758</td>\n",
              "      <td>-0.770908</td>\n",
              "    </tr>\n",
              "    <tr>\n",
              "      <th>1</th>\n",
              "      <td>0.0</td>\n",
              "      <td>0.0</td>\n",
              "      <td>0.0</td>\n",
              "      <td>0.0</td>\n",
              "      <td>1.0</td>\n",
              "      <td>0.0</td>\n",
              "      <td>0.0</td>\n",
              "      <td>0.0</td>\n",
              "      <td>1.0</td>\n",
              "      <td>0.0</td>\n",
              "      <td>...</td>\n",
              "      <td>0.0</td>\n",
              "      <td>0.0</td>\n",
              "      <td>0.0</td>\n",
              "      <td>1.0</td>\n",
              "      <td>0.0</td>\n",
              "      <td>0.0</td>\n",
              "      <td>0.0</td>\n",
              "      <td>-2.342249</td>\n",
              "      <td>-1.125425</td>\n",
              "      <td>-0.088936</td>\n",
              "    </tr>\n",
              "    <tr>\n",
              "      <th>2</th>\n",
              "      <td>1.0</td>\n",
              "      <td>0.0</td>\n",
              "      <td>0.0</td>\n",
              "      <td>0.0</td>\n",
              "      <td>0.0</td>\n",
              "      <td>0.0</td>\n",
              "      <td>0.0</td>\n",
              "      <td>0.0</td>\n",
              "      <td>0.0</td>\n",
              "      <td>0.0</td>\n",
              "      <td>...</td>\n",
              "      <td>0.0</td>\n",
              "      <td>0.0</td>\n",
              "      <td>0.0</td>\n",
              "      <td>0.0</td>\n",
              "      <td>0.0</td>\n",
              "      <td>1.0</td>\n",
              "      <td>0.0</td>\n",
              "      <td>-0.459145</td>\n",
              "      <td>-1.142436</td>\n",
              "      <td>-2.134851</td>\n",
              "    </tr>\n",
              "    <tr>\n",
              "      <th>3</th>\n",
              "      <td>0.0</td>\n",
              "      <td>0.0</td>\n",
              "      <td>0.0</td>\n",
              "      <td>0.0</td>\n",
              "      <td>0.0</td>\n",
              "      <td>0.0</td>\n",
              "      <td>0.0</td>\n",
              "      <td>1.0</td>\n",
              "      <td>0.0</td>\n",
              "      <td>0.0</td>\n",
              "      <td>...</td>\n",
              "      <td>0.0</td>\n",
              "      <td>0.0</td>\n",
              "      <td>0.0</td>\n",
              "      <td>0.0</td>\n",
              "      <td>0.0</td>\n",
              "      <td>0.0</td>\n",
              "      <td>0.0</td>\n",
              "      <td>0.011631</td>\n",
              "      <td>1.000964</td>\n",
              "      <td>0.593035</td>\n",
              "    </tr>\n",
              "    <tr>\n",
              "      <th>4</th>\n",
              "      <td>0.0</td>\n",
              "      <td>0.0</td>\n",
              "      <td>0.0</td>\n",
              "      <td>0.0</td>\n",
              "      <td>0.0</td>\n",
              "      <td>0.0</td>\n",
              "      <td>0.0</td>\n",
              "      <td>0.0</td>\n",
              "      <td>0.0</td>\n",
              "      <td>0.0</td>\n",
              "      <td>...</td>\n",
              "      <td>0.0</td>\n",
              "      <td>0.0</td>\n",
              "      <td>0.0</td>\n",
              "      <td>0.0</td>\n",
              "      <td>0.0</td>\n",
              "      <td>0.0</td>\n",
              "      <td>0.0</td>\n",
              "      <td>1.423960</td>\n",
              "      <td>1.341187</td>\n",
              "      <td>-1.862062</td>\n",
              "    </tr>\n",
              "  </tbody>\n",
              "</table>\n",
              "<p>5 rows × 281 columns</p>\n",
              "</div>\n",
              "    <div class=\"colab-df-buttons\">\n",
              "\n",
              "  <div class=\"colab-df-container\">\n",
              "    <button class=\"colab-df-convert\" onclick=\"convertToInteractive('df-88c67d96-fad4-439f-85f0-2c67e0d1cbc2')\"\n",
              "            title=\"Convert this dataframe to an interactive table.\"\n",
              "            style=\"display:none;\">\n",
              "\n",
              "  <svg xmlns=\"http://www.w3.org/2000/svg\" height=\"24px\" viewBox=\"0 -960 960 960\">\n",
              "    <path d=\"M120-120v-720h720v720H120Zm60-500h600v-160H180v160Zm220 220h160v-160H400v160Zm0 220h160v-160H400v160ZM180-400h160v-160H180v160Zm440 0h160v-160H620v160ZM180-180h160v-160H180v160Zm440 0h160v-160H620v160Z\"/>\n",
              "  </svg>\n",
              "    </button>\n",
              "\n",
              "  <style>\n",
              "    .colab-df-container {\n",
              "      display:flex;\n",
              "      gap: 12px;\n",
              "    }\n",
              "\n",
              "    .colab-df-convert {\n",
              "      background-color: #E8F0FE;\n",
              "      border: none;\n",
              "      border-radius: 50%;\n",
              "      cursor: pointer;\n",
              "      display: none;\n",
              "      fill: #1967D2;\n",
              "      height: 32px;\n",
              "      padding: 0 0 0 0;\n",
              "      width: 32px;\n",
              "    }\n",
              "\n",
              "    .colab-df-convert:hover {\n",
              "      background-color: #E2EBFA;\n",
              "      box-shadow: 0px 1px 2px rgba(60, 64, 67, 0.3), 0px 1px 3px 1px rgba(60, 64, 67, 0.15);\n",
              "      fill: #174EA6;\n",
              "    }\n",
              "\n",
              "    .colab-df-buttons div {\n",
              "      margin-bottom: 4px;\n",
              "    }\n",
              "\n",
              "    [theme=dark] .colab-df-convert {\n",
              "      background-color: #3B4455;\n",
              "      fill: #D2E3FC;\n",
              "    }\n",
              "\n",
              "    [theme=dark] .colab-df-convert:hover {\n",
              "      background-color: #434B5C;\n",
              "      box-shadow: 0px 1px 3px 1px rgba(0, 0, 0, 0.15);\n",
              "      filter: drop-shadow(0px 1px 2px rgba(0, 0, 0, 0.3));\n",
              "      fill: #FFFFFF;\n",
              "    }\n",
              "  </style>\n",
              "\n",
              "    <script>\n",
              "      const buttonEl =\n",
              "        document.querySelector('#df-88c67d96-fad4-439f-85f0-2c67e0d1cbc2 button.colab-df-convert');\n",
              "      buttonEl.style.display =\n",
              "        google.colab.kernel.accessAllowed ? 'block' : 'none';\n",
              "\n",
              "      async function convertToInteractive(key) {\n",
              "        const element = document.querySelector('#df-88c67d96-fad4-439f-85f0-2c67e0d1cbc2');\n",
              "        const dataTable =\n",
              "          await google.colab.kernel.invokeFunction('convertToInteractive',\n",
              "                                                    [key], {});\n",
              "        if (!dataTable) return;\n",
              "\n",
              "        const docLinkHtml = 'Like what you see? Visit the ' +\n",
              "          '<a target=\"_blank\" href=https://colab.research.google.com/notebooks/data_table.ipynb>data table notebook</a>'\n",
              "          + ' to learn more about interactive tables.';\n",
              "        element.innerHTML = '';\n",
              "        dataTable['output_type'] = 'display_data';\n",
              "        await google.colab.output.renderOutput(dataTable, element);\n",
              "        const docLink = document.createElement('div');\n",
              "        docLink.innerHTML = docLinkHtml;\n",
              "        element.appendChild(docLink);\n",
              "      }\n",
              "    </script>\n",
              "  </div>\n",
              "\n",
              "\n",
              "<div id=\"df-9f5e810d-062f-4e8b-9884-8fd8d353f907\">\n",
              "  <button class=\"colab-df-quickchart\" onclick=\"quickchart('df-9f5e810d-062f-4e8b-9884-8fd8d353f907')\"\n",
              "            title=\"Suggest charts.\"\n",
              "            style=\"display:none;\">\n",
              "\n",
              "<svg xmlns=\"http://www.w3.org/2000/svg\" height=\"24px\"viewBox=\"0 0 24 24\"\n",
              "     width=\"24px\">\n",
              "    <g>\n",
              "        <path d=\"M19 3H5c-1.1 0-2 .9-2 2v14c0 1.1.9 2 2 2h14c1.1 0 2-.9 2-2V5c0-1.1-.9-2-2-2zM9 17H7v-7h2v7zm4 0h-2V7h2v10zm4 0h-2v-4h2v4z\"/>\n",
              "    </g>\n",
              "</svg>\n",
              "  </button>\n",
              "\n",
              "<style>\n",
              "  .colab-df-quickchart {\n",
              "    background-color: #E8F0FE;\n",
              "    border: none;\n",
              "    border-radius: 50%;\n",
              "    cursor: pointer;\n",
              "    display: none;\n",
              "    fill: #1967D2;\n",
              "    height: 32px;\n",
              "    padding: 0 0 0 0;\n",
              "    width: 32px;\n",
              "  }\n",
              "\n",
              "  .colab-df-quickchart:hover {\n",
              "    background-color: #E2EBFA;\n",
              "    box-shadow: 0px 1px 2px rgba(60, 64, 67, 0.3), 0px 1px 3px 1px rgba(60, 64, 67, 0.15);\n",
              "    fill: #174EA6;\n",
              "  }\n",
              "\n",
              "  [theme=dark] .colab-df-quickchart {\n",
              "    background-color: #3B4455;\n",
              "    fill: #D2E3FC;\n",
              "  }\n",
              "\n",
              "  [theme=dark] .colab-df-quickchart:hover {\n",
              "    background-color: #434B5C;\n",
              "    box-shadow: 0px 1px 3px 1px rgba(0, 0, 0, 0.15);\n",
              "    filter: drop-shadow(0px 1px 2px rgba(0, 0, 0, 0.3));\n",
              "    fill: #FFFFFF;\n",
              "  }\n",
              "</style>\n",
              "\n",
              "  <script>\n",
              "    async function quickchart(key) {\n",
              "      const charts = await google.colab.kernel.invokeFunction(\n",
              "          'suggestCharts', [key], {});\n",
              "    }\n",
              "    (() => {\n",
              "      let quickchartButtonEl =\n",
              "        document.querySelector('#df-9f5e810d-062f-4e8b-9884-8fd8d353f907 button');\n",
              "      quickchartButtonEl.style.display =\n",
              "        google.colab.kernel.accessAllowed ? 'block' : 'none';\n",
              "    })();\n",
              "  </script>\n",
              "</div>\n",
              "    </div>\n",
              "  </div>\n"
            ]
          },
          "metadata": {},
          "execution_count": 27
        }
      ],
      "source": [
        "# Кодируем и масштабируем валидационную выборку\n",
        "X_valid_linear = pd.DataFrame.sparse.from_spmatrix(\n",
        "    col_transformer_linear.transform(X_valid_linear),\n",
        "    columns=col_transformer_linear.get_feature_names_out()\n",
        ")\n",
        "\n",
        "X_valid_linear.head()"
      ]
    },
    {
      "cell_type": "markdown",
      "metadata": {
        "id": "1KnnmAfoO9k3"
      },
      "source": [
        "### Линейная регрессия"
      ]
    },
    {
      "cell_type": "code",
      "execution_count": 28,
      "metadata": {
        "colab": {
          "base_uri": "https://localhost:8080/",
          "height": 109
        },
        "id": "VzT7ycBgO9k3",
        "outputId": "6c24d896-d9d5-4026-fc3d-81f70cc67f99"
      },
      "outputs": [
        {
          "output_type": "stream",
          "name": "stdout",
          "text": [
            "CPU times: user 3.43 s, sys: 2.49 s, total: 5.92 s\n",
            "Wall time: 3.18 s\n"
          ]
        },
        {
          "output_type": "execute_result",
          "data": {
            "text/plain": [
              "LinearRegression()"
            ],
            "text/html": [
              "<style>#sk-container-id-1 {color: black;background-color: white;}#sk-container-id-1 pre{padding: 0;}#sk-container-id-1 div.sk-toggleable {background-color: white;}#sk-container-id-1 label.sk-toggleable__label {cursor: pointer;display: block;width: 100%;margin-bottom: 0;padding: 0.3em;box-sizing: border-box;text-align: center;}#sk-container-id-1 label.sk-toggleable__label-arrow:before {content: \"▸\";float: left;margin-right: 0.25em;color: #696969;}#sk-container-id-1 label.sk-toggleable__label-arrow:hover:before {color: black;}#sk-container-id-1 div.sk-estimator:hover label.sk-toggleable__label-arrow:before {color: black;}#sk-container-id-1 div.sk-toggleable__content {max-height: 0;max-width: 0;overflow: hidden;text-align: left;background-color: #f0f8ff;}#sk-container-id-1 div.sk-toggleable__content pre {margin: 0.2em;color: black;border-radius: 0.25em;background-color: #f0f8ff;}#sk-container-id-1 input.sk-toggleable__control:checked~div.sk-toggleable__content {max-height: 200px;max-width: 100%;overflow: auto;}#sk-container-id-1 input.sk-toggleable__control:checked~label.sk-toggleable__label-arrow:before {content: \"▾\";}#sk-container-id-1 div.sk-estimator input.sk-toggleable__control:checked~label.sk-toggleable__label {background-color: #d4ebff;}#sk-container-id-1 div.sk-label input.sk-toggleable__control:checked~label.sk-toggleable__label {background-color: #d4ebff;}#sk-container-id-1 input.sk-hidden--visually {border: 0;clip: rect(1px 1px 1px 1px);clip: rect(1px, 1px, 1px, 1px);height: 1px;margin: -1px;overflow: hidden;padding: 0;position: absolute;width: 1px;}#sk-container-id-1 div.sk-estimator {font-family: monospace;background-color: #f0f8ff;border: 1px dotted black;border-radius: 0.25em;box-sizing: border-box;margin-bottom: 0.5em;}#sk-container-id-1 div.sk-estimator:hover {background-color: #d4ebff;}#sk-container-id-1 div.sk-parallel-item::after {content: \"\";width: 100%;border-bottom: 1px solid gray;flex-grow: 1;}#sk-container-id-1 div.sk-label:hover label.sk-toggleable__label {background-color: #d4ebff;}#sk-container-id-1 div.sk-serial::before {content: \"\";position: absolute;border-left: 1px solid gray;box-sizing: border-box;top: 0;bottom: 0;left: 50%;z-index: 0;}#sk-container-id-1 div.sk-serial {display: flex;flex-direction: column;align-items: center;background-color: white;padding-right: 0.2em;padding-left: 0.2em;position: relative;}#sk-container-id-1 div.sk-item {position: relative;z-index: 1;}#sk-container-id-1 div.sk-parallel {display: flex;align-items: stretch;justify-content: center;background-color: white;position: relative;}#sk-container-id-1 div.sk-item::before, #sk-container-id-1 div.sk-parallel-item::before {content: \"\";position: absolute;border-left: 1px solid gray;box-sizing: border-box;top: 0;bottom: 0;left: 50%;z-index: -1;}#sk-container-id-1 div.sk-parallel-item {display: flex;flex-direction: column;z-index: 1;position: relative;background-color: white;}#sk-container-id-1 div.sk-parallel-item:first-child::after {align-self: flex-end;width: 50%;}#sk-container-id-1 div.sk-parallel-item:last-child::after {align-self: flex-start;width: 50%;}#sk-container-id-1 div.sk-parallel-item:only-child::after {width: 0;}#sk-container-id-1 div.sk-dashed-wrapped {border: 1px dashed gray;margin: 0 0.4em 0.5em 0.4em;box-sizing: border-box;padding-bottom: 0.4em;background-color: white;}#sk-container-id-1 div.sk-label label {font-family: monospace;font-weight: bold;display: inline-block;line-height: 1.2em;}#sk-container-id-1 div.sk-label-container {text-align: center;}#sk-container-id-1 div.sk-container {/* jupyter's `normalize.less` sets `[hidden] { display: none; }` but bootstrap.min.css set `[hidden] { display: none !important; }` so we also need the `!important` here to be able to override the default hidden behavior on the sphinx rendered scikit-learn.org. See: https://github.com/scikit-learn/scikit-learn/issues/21755 */display: inline-block !important;position: relative;}#sk-container-id-1 div.sk-text-repr-fallback {display: none;}</style><div id=\"sk-container-id-1\" class=\"sk-top-container\"><div class=\"sk-text-repr-fallback\"><pre>LinearRegression()</pre><b>In a Jupyter environment, please rerun this cell to show the HTML representation or trust the notebook. <br />On GitHub, the HTML representation is unable to render, please try loading this page with nbviewer.org.</b></div><div class=\"sk-container\" hidden><div class=\"sk-item\"><div class=\"sk-estimator sk-toggleable\"><input class=\"sk-toggleable__control sk-hidden--visually\" id=\"sk-estimator-id-1\" type=\"checkbox\" checked><label for=\"sk-estimator-id-1\" class=\"sk-toggleable__label sk-toggleable__label-arrow\">LinearRegression</label><div class=\"sk-toggleable__content\"><pre>LinearRegression()</pre></div></div></div></div></div>"
            ]
          },
          "metadata": {},
          "execution_count": 28
        }
      ],
      "source": [
        "%%time\n",
        "\n",
        "# Обучим модель\n",
        "model_linear = LinearRegression()\n",
        "model_linear.fit(X_train_linear, y_train)"
      ]
    },
    {
      "cell_type": "code",
      "execution_count": 29,
      "metadata": {
        "colab": {
          "base_uri": "https://localhost:8080/"
        },
        "id": "5Pt6JOOdO9k3",
        "outputId": "36cec405-cc10-40a0-cc9e-a311b4c2cdc7"
      },
      "outputs": [
        {
          "output_type": "stream",
          "name": "stdout",
          "text": [
            "RMSE на валидационной выборке: 2629.358\n",
            "CPU times: user 40.5 ms, sys: 34.1 ms, total: 74.6 ms\n",
            "Wall time: 40.9 ms\n"
          ]
        }
      ],
      "source": [
        "%%time\n",
        "# Получим предсказания\n",
        "predictions_valid_linear = model_linear.predict(X_valid_linear)\n",
        "\n",
        "# Рассчитаем и выведем RMSE\n",
        "result_linear = mean_squared_error(y_valid, predictions_valid_linear)**0.5\n",
        "print('RMSE на валидационной выборке:', result_linear.round(3))"
      ]
    },
    {
      "cell_type": "markdown",
      "metadata": {
        "id": "RC_eLmviO9k4"
      },
      "source": [
        "### Случайный лес"
      ]
    },
    {
      "cell_type": "markdown",
      "metadata": {
        "id": "62GysZa_O9k4"
      },
      "source": [
        "В данном случае нам подойдут уже преобразованные ранее признаки, будем использовать их. Лучшие параметры подберем через RandomizedSearchCV."
      ]
    },
    {
      "cell_type": "code",
      "execution_count": 30,
      "metadata": {
        "colab": {
          "base_uri": "https://localhost:8080/",
          "height": 109
        },
        "id": "utvQqDeqO9k4",
        "outputId": "1d20d3e4-50e7-4e68-855b-c63d9e3c133a"
      },
      "outputs": [
        {
          "output_type": "stream",
          "name": "stdout",
          "text": [
            "CPU times: user 1min 24s, sys: 29.2 ms, total: 1min 24s\n",
            "Wall time: 1min 32s\n"
          ]
        },
        {
          "output_type": "execute_result",
          "data": {
            "text/plain": [
              "RandomForestRegressor(max_depth=12, n_estimators=25, random_state=123)"
            ],
            "text/html": [
              "<style>#sk-container-id-2 {color: black;background-color: white;}#sk-container-id-2 pre{padding: 0;}#sk-container-id-2 div.sk-toggleable {background-color: white;}#sk-container-id-2 label.sk-toggleable__label {cursor: pointer;display: block;width: 100%;margin-bottom: 0;padding: 0.3em;box-sizing: border-box;text-align: center;}#sk-container-id-2 label.sk-toggleable__label-arrow:before {content: \"▸\";float: left;margin-right: 0.25em;color: #696969;}#sk-container-id-2 label.sk-toggleable__label-arrow:hover:before {color: black;}#sk-container-id-2 div.sk-estimator:hover label.sk-toggleable__label-arrow:before {color: black;}#sk-container-id-2 div.sk-toggleable__content {max-height: 0;max-width: 0;overflow: hidden;text-align: left;background-color: #f0f8ff;}#sk-container-id-2 div.sk-toggleable__content pre {margin: 0.2em;color: black;border-radius: 0.25em;background-color: #f0f8ff;}#sk-container-id-2 input.sk-toggleable__control:checked~div.sk-toggleable__content {max-height: 200px;max-width: 100%;overflow: auto;}#sk-container-id-2 input.sk-toggleable__control:checked~label.sk-toggleable__label-arrow:before {content: \"▾\";}#sk-container-id-2 div.sk-estimator input.sk-toggleable__control:checked~label.sk-toggleable__label {background-color: #d4ebff;}#sk-container-id-2 div.sk-label input.sk-toggleable__control:checked~label.sk-toggleable__label {background-color: #d4ebff;}#sk-container-id-2 input.sk-hidden--visually {border: 0;clip: rect(1px 1px 1px 1px);clip: rect(1px, 1px, 1px, 1px);height: 1px;margin: -1px;overflow: hidden;padding: 0;position: absolute;width: 1px;}#sk-container-id-2 div.sk-estimator {font-family: monospace;background-color: #f0f8ff;border: 1px dotted black;border-radius: 0.25em;box-sizing: border-box;margin-bottom: 0.5em;}#sk-container-id-2 div.sk-estimator:hover {background-color: #d4ebff;}#sk-container-id-2 div.sk-parallel-item::after {content: \"\";width: 100%;border-bottom: 1px solid gray;flex-grow: 1;}#sk-container-id-2 div.sk-label:hover label.sk-toggleable__label {background-color: #d4ebff;}#sk-container-id-2 div.sk-serial::before {content: \"\";position: absolute;border-left: 1px solid gray;box-sizing: border-box;top: 0;bottom: 0;left: 50%;z-index: 0;}#sk-container-id-2 div.sk-serial {display: flex;flex-direction: column;align-items: center;background-color: white;padding-right: 0.2em;padding-left: 0.2em;position: relative;}#sk-container-id-2 div.sk-item {position: relative;z-index: 1;}#sk-container-id-2 div.sk-parallel {display: flex;align-items: stretch;justify-content: center;background-color: white;position: relative;}#sk-container-id-2 div.sk-item::before, #sk-container-id-2 div.sk-parallel-item::before {content: \"\";position: absolute;border-left: 1px solid gray;box-sizing: border-box;top: 0;bottom: 0;left: 50%;z-index: -1;}#sk-container-id-2 div.sk-parallel-item {display: flex;flex-direction: column;z-index: 1;position: relative;background-color: white;}#sk-container-id-2 div.sk-parallel-item:first-child::after {align-self: flex-end;width: 50%;}#sk-container-id-2 div.sk-parallel-item:last-child::after {align-self: flex-start;width: 50%;}#sk-container-id-2 div.sk-parallel-item:only-child::after {width: 0;}#sk-container-id-2 div.sk-dashed-wrapped {border: 1px dashed gray;margin: 0 0.4em 0.5em 0.4em;box-sizing: border-box;padding-bottom: 0.4em;background-color: white;}#sk-container-id-2 div.sk-label label {font-family: monospace;font-weight: bold;display: inline-block;line-height: 1.2em;}#sk-container-id-2 div.sk-label-container {text-align: center;}#sk-container-id-2 div.sk-container {/* jupyter's `normalize.less` sets `[hidden] { display: none; }` but bootstrap.min.css set `[hidden] { display: none !important; }` so we also need the `!important` here to be able to override the default hidden behavior on the sphinx rendered scikit-learn.org. See: https://github.com/scikit-learn/scikit-learn/issues/21755 */display: inline-block !important;position: relative;}#sk-container-id-2 div.sk-text-repr-fallback {display: none;}</style><div id=\"sk-container-id-2\" class=\"sk-top-container\"><div class=\"sk-text-repr-fallback\"><pre>RandomForestRegressor(max_depth=12, n_estimators=25, random_state=123)</pre><b>In a Jupyter environment, please rerun this cell to show the HTML representation or trust the notebook. <br />On GitHub, the HTML representation is unable to render, please try loading this page with nbviewer.org.</b></div><div class=\"sk-container\" hidden><div class=\"sk-item\"><div class=\"sk-estimator sk-toggleable\"><input class=\"sk-toggleable__control sk-hidden--visually\" id=\"sk-estimator-id-2\" type=\"checkbox\" checked><label for=\"sk-estimator-id-2\" class=\"sk-toggleable__label sk-toggleable__label-arrow\">RandomForestRegressor</label><div class=\"sk-toggleable__content\"><pre>RandomForestRegressor(max_depth=12, n_estimators=25, random_state=123)</pre></div></div></div></div></div>"
            ]
          },
          "metadata": {},
          "execution_count": 30
        }
      ],
      "source": [
        "%%time\n",
        "\n",
        "# Обучим модель\n",
        "model_rf = RandomForestRegressor(random_state=RANDOM_STATE, n_estimators=25, max_depth=12)\n",
        "model_rf.fit(X_train_linear, y_train)"
      ]
    },
    {
      "cell_type": "code",
      "execution_count": 31,
      "metadata": {
        "colab": {
          "base_uri": "https://localhost:8080/"
        },
        "id": "4BowMfZUO9k5",
        "outputId": "08c2ec46-4d2d-4add-9c1e-d0fcf42cc989"
      },
      "outputs": [
        {
          "output_type": "stream",
          "name": "stdout",
          "text": [
            "RMSE на валидационной выборке: 1772.616\n",
            "CPU times: user 256 ms, sys: 747 µs, total: 256 ms\n",
            "Wall time: 270 ms\n"
          ]
        }
      ],
      "source": [
        "%%time\n",
        "\n",
        "# Получим предсказания\n",
        "predictions_valid_rf = model_rf.predict(X_valid_linear)\n",
        "\n",
        "# Рассчитаем и выведем RMSE\n",
        "result_rf = mean_squared_error(y_valid, predictions_valid_rf)**0.5\n",
        "print('RMSE на валидационной выборке:', result_rf.round(3))"
      ]
    },
    {
      "cell_type": "markdown",
      "metadata": {
        "id": "_QByhfh4O9k5"
      },
      "source": [
        "### Ridge"
      ]
    },
    {
      "cell_type": "code",
      "execution_count": 32,
      "metadata": {
        "colab": {
          "base_uri": "https://localhost:8080/"
        },
        "id": "5WiB8mNWO9k6",
        "outputId": "211f4366-922b-4189-85c8-1435c882cbeb"
      },
      "outputs": [
        {
          "output_type": "execute_result",
          "data": {
            "text/plain": [
              "{'alpha': 0.06}"
            ]
          },
          "metadata": {},
          "execution_count": 32
        }
      ],
      "source": [
        "# Подберем гиперпараметры\n",
        "model_rid = Ridge(random_state=RANDOM_STATE)\n",
        "\n",
        "parameters_rid = {'alpha': np.arange(0, 0.11, 0.02)}\n",
        "\n",
        "grid_ridge = GridSearchCV(model_rid, parameters_rid, scoring='neg_root_mean_squared_error', n_jobs=-1)\n",
        "grid_ridge.fit(X_train_linear, y_train)\n",
        "\n",
        "grid_ridge.best_params_"
      ]
    },
    {
      "cell_type": "code",
      "execution_count": 33,
      "metadata": {
        "colab": {
          "base_uri": "https://localhost:8080/",
          "height": 109
        },
        "id": "FnpANGGeO9k6",
        "outputId": "1974aa51-0029-4cf8-c1d2-c00128a3ada3"
      },
      "outputs": [
        {
          "output_type": "stream",
          "name": "stdout",
          "text": [
            "CPU times: user 558 ms, sys: 393 ms, total: 951 ms\n",
            "Wall time: 506 ms\n"
          ]
        },
        {
          "output_type": "execute_result",
          "data": {
            "text/plain": [
              "Ridge(alpha=0.0, random_state=123)"
            ],
            "text/html": [
              "<style>#sk-container-id-3 {color: black;background-color: white;}#sk-container-id-3 pre{padding: 0;}#sk-container-id-3 div.sk-toggleable {background-color: white;}#sk-container-id-3 label.sk-toggleable__label {cursor: pointer;display: block;width: 100%;margin-bottom: 0;padding: 0.3em;box-sizing: border-box;text-align: center;}#sk-container-id-3 label.sk-toggleable__label-arrow:before {content: \"▸\";float: left;margin-right: 0.25em;color: #696969;}#sk-container-id-3 label.sk-toggleable__label-arrow:hover:before {color: black;}#sk-container-id-3 div.sk-estimator:hover label.sk-toggleable__label-arrow:before {color: black;}#sk-container-id-3 div.sk-toggleable__content {max-height: 0;max-width: 0;overflow: hidden;text-align: left;background-color: #f0f8ff;}#sk-container-id-3 div.sk-toggleable__content pre {margin: 0.2em;color: black;border-radius: 0.25em;background-color: #f0f8ff;}#sk-container-id-3 input.sk-toggleable__control:checked~div.sk-toggleable__content {max-height: 200px;max-width: 100%;overflow: auto;}#sk-container-id-3 input.sk-toggleable__control:checked~label.sk-toggleable__label-arrow:before {content: \"▾\";}#sk-container-id-3 div.sk-estimator input.sk-toggleable__control:checked~label.sk-toggleable__label {background-color: #d4ebff;}#sk-container-id-3 div.sk-label input.sk-toggleable__control:checked~label.sk-toggleable__label {background-color: #d4ebff;}#sk-container-id-3 input.sk-hidden--visually {border: 0;clip: rect(1px 1px 1px 1px);clip: rect(1px, 1px, 1px, 1px);height: 1px;margin: -1px;overflow: hidden;padding: 0;position: absolute;width: 1px;}#sk-container-id-3 div.sk-estimator {font-family: monospace;background-color: #f0f8ff;border: 1px dotted black;border-radius: 0.25em;box-sizing: border-box;margin-bottom: 0.5em;}#sk-container-id-3 div.sk-estimator:hover {background-color: #d4ebff;}#sk-container-id-3 div.sk-parallel-item::after {content: \"\";width: 100%;border-bottom: 1px solid gray;flex-grow: 1;}#sk-container-id-3 div.sk-label:hover label.sk-toggleable__label {background-color: #d4ebff;}#sk-container-id-3 div.sk-serial::before {content: \"\";position: absolute;border-left: 1px solid gray;box-sizing: border-box;top: 0;bottom: 0;left: 50%;z-index: 0;}#sk-container-id-3 div.sk-serial {display: flex;flex-direction: column;align-items: center;background-color: white;padding-right: 0.2em;padding-left: 0.2em;position: relative;}#sk-container-id-3 div.sk-item {position: relative;z-index: 1;}#sk-container-id-3 div.sk-parallel {display: flex;align-items: stretch;justify-content: center;background-color: white;position: relative;}#sk-container-id-3 div.sk-item::before, #sk-container-id-3 div.sk-parallel-item::before {content: \"\";position: absolute;border-left: 1px solid gray;box-sizing: border-box;top: 0;bottom: 0;left: 50%;z-index: -1;}#sk-container-id-3 div.sk-parallel-item {display: flex;flex-direction: column;z-index: 1;position: relative;background-color: white;}#sk-container-id-3 div.sk-parallel-item:first-child::after {align-self: flex-end;width: 50%;}#sk-container-id-3 div.sk-parallel-item:last-child::after {align-self: flex-start;width: 50%;}#sk-container-id-3 div.sk-parallel-item:only-child::after {width: 0;}#sk-container-id-3 div.sk-dashed-wrapped {border: 1px dashed gray;margin: 0 0.4em 0.5em 0.4em;box-sizing: border-box;padding-bottom: 0.4em;background-color: white;}#sk-container-id-3 div.sk-label label {font-family: monospace;font-weight: bold;display: inline-block;line-height: 1.2em;}#sk-container-id-3 div.sk-label-container {text-align: center;}#sk-container-id-3 div.sk-container {/* jupyter's `normalize.less` sets `[hidden] { display: none; }` but bootstrap.min.css set `[hidden] { display: none !important; }` so we also need the `!important` here to be able to override the default hidden behavior on the sphinx rendered scikit-learn.org. See: https://github.com/scikit-learn/scikit-learn/issues/21755 */display: inline-block !important;position: relative;}#sk-container-id-3 div.sk-text-repr-fallback {display: none;}</style><div id=\"sk-container-id-3\" class=\"sk-top-container\"><div class=\"sk-text-repr-fallback\"><pre>Ridge(alpha=0.0, random_state=123)</pre><b>In a Jupyter environment, please rerun this cell to show the HTML representation or trust the notebook. <br />On GitHub, the HTML representation is unable to render, please try loading this page with nbviewer.org.</b></div><div class=\"sk-container\" hidden><div class=\"sk-item\"><div class=\"sk-estimator sk-toggleable\"><input class=\"sk-toggleable__control sk-hidden--visually\" id=\"sk-estimator-id-3\" type=\"checkbox\" checked><label for=\"sk-estimator-id-3\" class=\"sk-toggleable__label sk-toggleable__label-arrow\">Ridge</label><div class=\"sk-toggleable__content\"><pre>Ridge(alpha=0.0, random_state=123)</pre></div></div></div></div></div>"
            ]
          },
          "metadata": {},
          "execution_count": 33
        }
      ],
      "source": [
        "%%time\n",
        "\n",
        "# Обучим модель\n",
        "model_rid = Ridge(random_state=RANDOM_STATE, alpha=0.00)\n",
        "model_rid.fit(X_train_linear, y_train)"
      ]
    },
    {
      "cell_type": "code",
      "execution_count": 34,
      "metadata": {
        "colab": {
          "base_uri": "https://localhost:8080/"
        },
        "id": "n7Md5EMmO9k7",
        "outputId": "3560f6c7-a12c-4391-b690-4e0e1fe49a7e"
      },
      "outputs": [
        {
          "output_type": "stream",
          "name": "stdout",
          "text": [
            "RMSE на валидационной выборке: 2630.158\n",
            "CPU times: user 29.5 ms, sys: 19.9 ms, total: 49.5 ms\n",
            "Wall time: 42.9 ms\n"
          ]
        }
      ],
      "source": [
        "%%time\n",
        "\n",
        "# Получим предсказания\n",
        "predictions_valid_rid = model_rid.predict(X_valid_linear)\n",
        "\n",
        "# Рассчитаем и выведем RMSE\n",
        "result_rid = mean_squared_error(y_valid, predictions_valid_rid)**0.5\n",
        "print('RMSE на валидационной выборке:', result_rid.round(3))"
      ]
    },
    {
      "cell_type": "markdown",
      "metadata": {
        "id": "IFP466FrO9k7"
      },
      "source": [
        "### CatBoost"
      ]
    },
    {
      "cell_type": "markdown",
      "metadata": {
        "id": "yskk7PJZO9k7"
      },
      "source": [
        "В модель CatBoost передаем признаки без кодирования и масштабирования (X_train)."
      ]
    },
    {
      "cell_type": "code",
      "execution_count": 35,
      "metadata": {
        "colab": {
          "base_uri": "https://localhost:8080/"
        },
        "id": "yXmUwwyBO9k7",
        "outputId": "d3a93ce2-c15c-42b2-db57-c4c596bdd7c1"
      },
      "outputs": [
        {
          "output_type": "stream",
          "name": "stdout",
          "text": [
            "Learning rate set to 0.5\n",
            "0:\tlearn: 3074.2262740\ttotal: 324ms\tremaining: 25.6s\n",
            "20:\tlearn: 1603.6386657\ttotal: 4.04s\tremaining: 11.3s\n",
            "40:\tlearn: 1489.8824178\ttotal: 6.75s\tremaining: 6.42s\n",
            "60:\tlearn: 1432.8321566\ttotal: 9s\tremaining: 2.8s\n",
            "79:\tlearn: 1398.0394967\ttotal: 11.1s\tremaining: 0us\n",
            "CPU times: user 18.2 s, sys: 396 ms, total: 18.6 s\n",
            "Wall time: 11.8 s\n"
          ]
        },
        {
          "output_type": "execute_result",
          "data": {
            "text/plain": [
              "<catboost.core.CatBoostRegressor at 0x7a6102d3fb20>"
            ]
          },
          "metadata": {},
          "execution_count": 35
        }
      ],
      "source": [
        "%%time\n",
        "\n",
        "# Обучим модель\n",
        "model_cat = CatBoostRegressor(loss_function='RMSE',\n",
        "                              cat_features=category_features,\n",
        "                              iterations=80,\n",
        "                              depth = 11,\n",
        "                              random_state=RANDOM_STATE\n",
        "                             )\n",
        "model_cat.fit(X_train, y_train, verbose=20)"
      ]
    },
    {
      "cell_type": "code",
      "execution_count": 36,
      "metadata": {
        "colab": {
          "base_uri": "https://localhost:8080/"
        },
        "id": "zsJqMDznO9k8",
        "outputId": "2046a53c-46b8-40c6-e370-6ddc3c78fe1f"
      },
      "outputs": [
        {
          "output_type": "stream",
          "name": "stdout",
          "text": [
            "RMSE на валидационной выборке: 1571.279\n",
            "CPU times: user 131 ms, sys: 1.97 ms, total: 133 ms\n",
            "Wall time: 102 ms\n"
          ]
        }
      ],
      "source": [
        "%%time\n",
        "\n",
        "# Получим предсказания\n",
        "predictions_valid_cat = model_cat.predict(X_valid)\n",
        "\n",
        "# Рассчитаем и выведем RMSE\n",
        "result_cat = mean_squared_error(y_valid, predictions_valid_cat)**0.5\n",
        "print('RMSE на валидационной выборке:', result_cat.round(3))"
      ]
    },
    {
      "cell_type": "markdown",
      "metadata": {
        "id": "BULp3n_PO9k8"
      },
      "source": [
        "### LightGBM"
      ]
    },
    {
      "cell_type": "markdown",
      "metadata": {
        "id": "K5vhsIxbO9k8"
      },
      "source": [
        "Для модели LightGBM передаем признаки без кодирования и масштабирования, но предварительно все категориальные столбцы нужно перевести в тип \"category\"."
      ]
    },
    {
      "cell_type": "code",
      "execution_count": 37,
      "metadata": {
        "id": "Fe9Pf0V0O9k8"
      },
      "outputs": [],
      "source": [
        "X_train_lgbm = X_train.copy()\n",
        "X_valid_lgbm = X_valid.copy()\n",
        "X_train_lgbm[category_features] = X_train_lgbm[category_features].astype('category')\n",
        "X_valid_lgbm[category_features] = X_valid_lgbm[category_features].astype('category')"
      ]
    },
    {
      "cell_type": "code",
      "execution_count": 42,
      "metadata": {
        "colab": {
          "base_uri": "https://localhost:8080/",
          "height": 231
        },
        "id": "hAq6_xuWO9k9",
        "outputId": "3aedb4de-ede8-40da-d073-1f75fa9837e1"
      },
      "outputs": [
        {
          "output_type": "stream",
          "name": "stdout",
          "text": [
            "[LightGBM] [Warning] Auto-choosing row-wise multi-threading, the overhead of testing was 0.013602 seconds.\n",
            "You can set `force_row_wise=true` to remove the overhead.\n",
            "And if memory is not enough, you can set `force_col_wise=true`.\n",
            "[LightGBM] [Info] Total Bins 623\n",
            "[LightGBM] [Info] Number of data points in the train set: 170761, number of used features: 9\n",
            "[LightGBM] [Info] Start training from score 4903.684583\n",
            "CPU times: user 1.07 s, sys: 6.12 ms, total: 1.07 s\n",
            "Wall time: 1.08 s\n"
          ]
        },
        {
          "output_type": "execute_result",
          "data": {
            "text/plain": [
              "LGBMRegressor(learning_rate=0.1778279410038923, n_estimators=60, num_leaves=40,\n",
              "              random_state=123)"
            ],
            "text/html": [
              "<style>#sk-container-id-5 {color: black;background-color: white;}#sk-container-id-5 pre{padding: 0;}#sk-container-id-5 div.sk-toggleable {background-color: white;}#sk-container-id-5 label.sk-toggleable__label {cursor: pointer;display: block;width: 100%;margin-bottom: 0;padding: 0.3em;box-sizing: border-box;text-align: center;}#sk-container-id-5 label.sk-toggleable__label-arrow:before {content: \"▸\";float: left;margin-right: 0.25em;color: #696969;}#sk-container-id-5 label.sk-toggleable__label-arrow:hover:before {color: black;}#sk-container-id-5 div.sk-estimator:hover label.sk-toggleable__label-arrow:before {color: black;}#sk-container-id-5 div.sk-toggleable__content {max-height: 0;max-width: 0;overflow: hidden;text-align: left;background-color: #f0f8ff;}#sk-container-id-5 div.sk-toggleable__content pre {margin: 0.2em;color: black;border-radius: 0.25em;background-color: #f0f8ff;}#sk-container-id-5 input.sk-toggleable__control:checked~div.sk-toggleable__content {max-height: 200px;max-width: 100%;overflow: auto;}#sk-container-id-5 input.sk-toggleable__control:checked~label.sk-toggleable__label-arrow:before {content: \"▾\";}#sk-container-id-5 div.sk-estimator input.sk-toggleable__control:checked~label.sk-toggleable__label {background-color: #d4ebff;}#sk-container-id-5 div.sk-label input.sk-toggleable__control:checked~label.sk-toggleable__label {background-color: #d4ebff;}#sk-container-id-5 input.sk-hidden--visually {border: 0;clip: rect(1px 1px 1px 1px);clip: rect(1px, 1px, 1px, 1px);height: 1px;margin: -1px;overflow: hidden;padding: 0;position: absolute;width: 1px;}#sk-container-id-5 div.sk-estimator {font-family: monospace;background-color: #f0f8ff;border: 1px dotted black;border-radius: 0.25em;box-sizing: border-box;margin-bottom: 0.5em;}#sk-container-id-5 div.sk-estimator:hover {background-color: #d4ebff;}#sk-container-id-5 div.sk-parallel-item::after {content: \"\";width: 100%;border-bottom: 1px solid gray;flex-grow: 1;}#sk-container-id-5 div.sk-label:hover label.sk-toggleable__label {background-color: #d4ebff;}#sk-container-id-5 div.sk-serial::before {content: \"\";position: absolute;border-left: 1px solid gray;box-sizing: border-box;top: 0;bottom: 0;left: 50%;z-index: 0;}#sk-container-id-5 div.sk-serial {display: flex;flex-direction: column;align-items: center;background-color: white;padding-right: 0.2em;padding-left: 0.2em;position: relative;}#sk-container-id-5 div.sk-item {position: relative;z-index: 1;}#sk-container-id-5 div.sk-parallel {display: flex;align-items: stretch;justify-content: center;background-color: white;position: relative;}#sk-container-id-5 div.sk-item::before, #sk-container-id-5 div.sk-parallel-item::before {content: \"\";position: absolute;border-left: 1px solid gray;box-sizing: border-box;top: 0;bottom: 0;left: 50%;z-index: -1;}#sk-container-id-5 div.sk-parallel-item {display: flex;flex-direction: column;z-index: 1;position: relative;background-color: white;}#sk-container-id-5 div.sk-parallel-item:first-child::after {align-self: flex-end;width: 50%;}#sk-container-id-5 div.sk-parallel-item:last-child::after {align-self: flex-start;width: 50%;}#sk-container-id-5 div.sk-parallel-item:only-child::after {width: 0;}#sk-container-id-5 div.sk-dashed-wrapped {border: 1px dashed gray;margin: 0 0.4em 0.5em 0.4em;box-sizing: border-box;padding-bottom: 0.4em;background-color: white;}#sk-container-id-5 div.sk-label label {font-family: monospace;font-weight: bold;display: inline-block;line-height: 1.2em;}#sk-container-id-5 div.sk-label-container {text-align: center;}#sk-container-id-5 div.sk-container {/* jupyter's `normalize.less` sets `[hidden] { display: none; }` but bootstrap.min.css set `[hidden] { display: none !important; }` so we also need the `!important` here to be able to override the default hidden behavior on the sphinx rendered scikit-learn.org. See: https://github.com/scikit-learn/scikit-learn/issues/21755 */display: inline-block !important;position: relative;}#sk-container-id-5 div.sk-text-repr-fallback {display: none;}</style><div id=\"sk-container-id-5\" class=\"sk-top-container\"><div class=\"sk-text-repr-fallback\"><pre>LGBMRegressor(learning_rate=0.1778279410038923, n_estimators=60, num_leaves=40,\n",
              "              random_state=123)</pre><b>In a Jupyter environment, please rerun this cell to show the HTML representation or trust the notebook. <br />On GitHub, the HTML representation is unable to render, please try loading this page with nbviewer.org.</b></div><div class=\"sk-container\" hidden><div class=\"sk-item\"><div class=\"sk-estimator sk-toggleable\"><input class=\"sk-toggleable__control sk-hidden--visually\" id=\"sk-estimator-id-5\" type=\"checkbox\" checked><label for=\"sk-estimator-id-5\" class=\"sk-toggleable__label sk-toggleable__label-arrow\">LGBMRegressor</label><div class=\"sk-toggleable__content\"><pre>LGBMRegressor(learning_rate=0.1778279410038923, n_estimators=60, num_leaves=40,\n",
              "              random_state=123)</pre></div></div></div></div></div>"
            ]
          },
          "metadata": {},
          "execution_count": 42
        }
      ],
      "source": [
        "%%time\n",
        "\n",
        "# Обучим модель\n",
        "model_lgbm = LGBMRegressor(learning_rate = 0.1778279410038923,\n",
        "                           n_estimators = 60,\n",
        "                           num_leaves = 40,\n",
        "                           random_state=RANDOM_STATE\n",
        "                             )\n",
        "model_lgbm.fit(X_train_lgbm, y_train)"
      ]
    },
    {
      "cell_type": "code",
      "execution_count": 43,
      "metadata": {
        "colab": {
          "base_uri": "https://localhost:8080/"
        },
        "id": "0i9o2IbGO9k9",
        "outputId": "e61b4265-e441-4649-b1b3-7f112350f0b1"
      },
      "outputs": [
        {
          "output_type": "stream",
          "name": "stdout",
          "text": [
            "RMSE на валидационной выборке: 1581.194\n",
            "CPU times: user 311 ms, sys: 3.74 ms, total: 315 ms\n",
            "Wall time: 316 ms\n"
          ]
        }
      ],
      "source": [
        "%%time\n",
        "\n",
        "# Получим предсказания\n",
        "predictions_valid_lgbm = model_lgbm.predict(X_valid_lgbm)\n",
        "\n",
        "# Рассчитаем и выведем RMSE\n",
        "result_lgbm = mean_squared_error(y_valid, predictions_valid_lgbm)**0.5\n",
        "print('RMSE на валидационной выборке:', result_lgbm.round(3))"
      ]
    },
    {
      "cell_type": "markdown",
      "metadata": {
        "id": "9iA49e3SO9k9"
      },
      "source": [
        "## Анализ моделей"
      ]
    },
    {
      "cell_type": "markdown",
      "metadata": {
        "id": "LAGQ4pT7O9k9"
      },
      "source": [
        "### Сравнительный анализ"
      ]
    },
    {
      "cell_type": "markdown",
      "metadata": {
        "id": "ycU2Qb5AO9k9"
      },
      "source": [
        "Сведем все результаты в одну таблицу и проанализируем качество моделей."
      ]
    },
    {
      "cell_type": "code",
      "execution_count": 44,
      "metadata": {
        "colab": {
          "base_uri": "https://localhost:8080/",
          "height": 206
        },
        "id": "eU7Am9qIO9k-",
        "outputId": "5a548081-e31e-4a88-a54c-6835128f320a"
      },
      "outputs": [
        {
          "output_type": "execute_result",
          "data": {
            "text/plain": [
              "                              RMSE Время обучения Время предсказания\n",
              "LinearRegression       2629.357626         25,7 s             203 ms\n",
              "RandomForestRegressor  1772.616234       1 m 04 s             172 ms\n",
              "Ridge                  2630.158129         2,99 s             104 ms\n",
              "CatBoost               1571.279036         9,14 s            78,5 ms\n",
              "LightGBM               1581.193552         3,12 s             396 ms"
            ],
            "text/html": [
              "\n",
              "  <div id=\"df-3b1150f1-36e4-4fc3-b6c6-4b7bdcab54bc\" class=\"colab-df-container\">\n",
              "    <div>\n",
              "<style scoped>\n",
              "    .dataframe tbody tr th:only-of-type {\n",
              "        vertical-align: middle;\n",
              "    }\n",
              "\n",
              "    .dataframe tbody tr th {\n",
              "        vertical-align: top;\n",
              "    }\n",
              "\n",
              "    .dataframe thead th {\n",
              "        text-align: right;\n",
              "    }\n",
              "</style>\n",
              "<table border=\"1\" class=\"dataframe\">\n",
              "  <thead>\n",
              "    <tr style=\"text-align: right;\">\n",
              "      <th></th>\n",
              "      <th>RMSE</th>\n",
              "      <th>Время обучения</th>\n",
              "      <th>Время предсказания</th>\n",
              "    </tr>\n",
              "  </thead>\n",
              "  <tbody>\n",
              "    <tr>\n",
              "      <th>LinearRegression</th>\n",
              "      <td>2629.357626</td>\n",
              "      <td>25,7 s</td>\n",
              "      <td>203 ms</td>\n",
              "    </tr>\n",
              "    <tr>\n",
              "      <th>RandomForestRegressor</th>\n",
              "      <td>1772.616234</td>\n",
              "      <td>1 m 04 s</td>\n",
              "      <td>172 ms</td>\n",
              "    </tr>\n",
              "    <tr>\n",
              "      <th>Ridge</th>\n",
              "      <td>2630.158129</td>\n",
              "      <td>2,99 s</td>\n",
              "      <td>104 ms</td>\n",
              "    </tr>\n",
              "    <tr>\n",
              "      <th>CatBoost</th>\n",
              "      <td>1571.279036</td>\n",
              "      <td>9,14 s</td>\n",
              "      <td>78,5 ms</td>\n",
              "    </tr>\n",
              "    <tr>\n",
              "      <th>LightGBM</th>\n",
              "      <td>1581.193552</td>\n",
              "      <td>3,12 s</td>\n",
              "      <td>396 ms</td>\n",
              "    </tr>\n",
              "  </tbody>\n",
              "</table>\n",
              "</div>\n",
              "    <div class=\"colab-df-buttons\">\n",
              "\n",
              "  <div class=\"colab-df-container\">\n",
              "    <button class=\"colab-df-convert\" onclick=\"convertToInteractive('df-3b1150f1-36e4-4fc3-b6c6-4b7bdcab54bc')\"\n",
              "            title=\"Convert this dataframe to an interactive table.\"\n",
              "            style=\"display:none;\">\n",
              "\n",
              "  <svg xmlns=\"http://www.w3.org/2000/svg\" height=\"24px\" viewBox=\"0 -960 960 960\">\n",
              "    <path d=\"M120-120v-720h720v720H120Zm60-500h600v-160H180v160Zm220 220h160v-160H400v160Zm0 220h160v-160H400v160ZM180-400h160v-160H180v160Zm440 0h160v-160H620v160ZM180-180h160v-160H180v160Zm440 0h160v-160H620v160Z\"/>\n",
              "  </svg>\n",
              "    </button>\n",
              "\n",
              "  <style>\n",
              "    .colab-df-container {\n",
              "      display:flex;\n",
              "      gap: 12px;\n",
              "    }\n",
              "\n",
              "    .colab-df-convert {\n",
              "      background-color: #E8F0FE;\n",
              "      border: none;\n",
              "      border-radius: 50%;\n",
              "      cursor: pointer;\n",
              "      display: none;\n",
              "      fill: #1967D2;\n",
              "      height: 32px;\n",
              "      padding: 0 0 0 0;\n",
              "      width: 32px;\n",
              "    }\n",
              "\n",
              "    .colab-df-convert:hover {\n",
              "      background-color: #E2EBFA;\n",
              "      box-shadow: 0px 1px 2px rgba(60, 64, 67, 0.3), 0px 1px 3px 1px rgba(60, 64, 67, 0.15);\n",
              "      fill: #174EA6;\n",
              "    }\n",
              "\n",
              "    .colab-df-buttons div {\n",
              "      margin-bottom: 4px;\n",
              "    }\n",
              "\n",
              "    [theme=dark] .colab-df-convert {\n",
              "      background-color: #3B4455;\n",
              "      fill: #D2E3FC;\n",
              "    }\n",
              "\n",
              "    [theme=dark] .colab-df-convert:hover {\n",
              "      background-color: #434B5C;\n",
              "      box-shadow: 0px 1px 3px 1px rgba(0, 0, 0, 0.15);\n",
              "      filter: drop-shadow(0px 1px 2px rgba(0, 0, 0, 0.3));\n",
              "      fill: #FFFFFF;\n",
              "    }\n",
              "  </style>\n",
              "\n",
              "    <script>\n",
              "      const buttonEl =\n",
              "        document.querySelector('#df-3b1150f1-36e4-4fc3-b6c6-4b7bdcab54bc button.colab-df-convert');\n",
              "      buttonEl.style.display =\n",
              "        google.colab.kernel.accessAllowed ? 'block' : 'none';\n",
              "\n",
              "      async function convertToInteractive(key) {\n",
              "        const element = document.querySelector('#df-3b1150f1-36e4-4fc3-b6c6-4b7bdcab54bc');\n",
              "        const dataTable =\n",
              "          await google.colab.kernel.invokeFunction('convertToInteractive',\n",
              "                                                    [key], {});\n",
              "        if (!dataTable) return;\n",
              "\n",
              "        const docLinkHtml = 'Like what you see? Visit the ' +\n",
              "          '<a target=\"_blank\" href=https://colab.research.google.com/notebooks/data_table.ipynb>data table notebook</a>'\n",
              "          + ' to learn more about interactive tables.';\n",
              "        element.innerHTML = '';\n",
              "        dataTable['output_type'] = 'display_data';\n",
              "        await google.colab.output.renderOutput(dataTable, element);\n",
              "        const docLink = document.createElement('div');\n",
              "        docLink.innerHTML = docLinkHtml;\n",
              "        element.appendChild(docLink);\n",
              "      }\n",
              "    </script>\n",
              "  </div>\n",
              "\n",
              "\n",
              "<div id=\"df-13a88666-2100-488f-9739-725d0d60314e\">\n",
              "  <button class=\"colab-df-quickchart\" onclick=\"quickchart('df-13a88666-2100-488f-9739-725d0d60314e')\"\n",
              "            title=\"Suggest charts.\"\n",
              "            style=\"display:none;\">\n",
              "\n",
              "<svg xmlns=\"http://www.w3.org/2000/svg\" height=\"24px\"viewBox=\"0 0 24 24\"\n",
              "     width=\"24px\">\n",
              "    <g>\n",
              "        <path d=\"M19 3H5c-1.1 0-2 .9-2 2v14c0 1.1.9 2 2 2h14c1.1 0 2-.9 2-2V5c0-1.1-.9-2-2-2zM9 17H7v-7h2v7zm4 0h-2V7h2v10zm4 0h-2v-4h2v4z\"/>\n",
              "    </g>\n",
              "</svg>\n",
              "  </button>\n",
              "\n",
              "<style>\n",
              "  .colab-df-quickchart {\n",
              "    background-color: #E8F0FE;\n",
              "    border: none;\n",
              "    border-radius: 50%;\n",
              "    cursor: pointer;\n",
              "    display: none;\n",
              "    fill: #1967D2;\n",
              "    height: 32px;\n",
              "    padding: 0 0 0 0;\n",
              "    width: 32px;\n",
              "  }\n",
              "\n",
              "  .colab-df-quickchart:hover {\n",
              "    background-color: #E2EBFA;\n",
              "    box-shadow: 0px 1px 2px rgba(60, 64, 67, 0.3), 0px 1px 3px 1px rgba(60, 64, 67, 0.15);\n",
              "    fill: #174EA6;\n",
              "  }\n",
              "\n",
              "  [theme=dark] .colab-df-quickchart {\n",
              "    background-color: #3B4455;\n",
              "    fill: #D2E3FC;\n",
              "  }\n",
              "\n",
              "  [theme=dark] .colab-df-quickchart:hover {\n",
              "    background-color: #434B5C;\n",
              "    box-shadow: 0px 1px 3px 1px rgba(0, 0, 0, 0.15);\n",
              "    filter: drop-shadow(0px 1px 2px rgba(0, 0, 0, 0.3));\n",
              "    fill: #FFFFFF;\n",
              "  }\n",
              "</style>\n",
              "\n",
              "  <script>\n",
              "    async function quickchart(key) {\n",
              "      const charts = await google.colab.kernel.invokeFunction(\n",
              "          'suggestCharts', [key], {});\n",
              "    }\n",
              "    (() => {\n",
              "      let quickchartButtonEl =\n",
              "        document.querySelector('#df-13a88666-2100-488f-9739-725d0d60314e button');\n",
              "      quickchartButtonEl.style.display =\n",
              "        google.colab.kernel.accessAllowed ? 'block' : 'none';\n",
              "    })();\n",
              "  </script>\n",
              "</div>\n",
              "    </div>\n",
              "  </div>\n"
            ]
          },
          "metadata": {},
          "execution_count": 44
        }
      ],
      "source": [
        "# Итоговая таблица\n",
        "result = {'RMSE': [result_linear, result_rf, result_rid, result_cat, result_lgbm],\n",
        "          'Время обучения': ['25,7 s', '1 m 04 s', '2,99 s', '9,14 s', '3,12 s'],\n",
        "          'Время предсказания': ['203 ms', '172 ms', '104 ms', '78,5 ms', '396 ms']}\n",
        "df_result = pd.DataFrame(result, index =['LinearRegression', 'RandomForestRegressor', 'Ridge', 'CatBoost', 'LightGBM'])\n",
        "df_result"
      ]
    },
    {
      "cell_type": "markdown",
      "metadata": {
        "id": "8CGpuTWiO9k-"
      },
      "source": [
        "Заказчику важны следующие критерии:\n",
        "*\tкачество предсказания;\n",
        "*\tвремя обучения модели;\n",
        "*\tвремя предсказания модели.\n",
        "\n",
        "Как видно из сводной таблицы, наилучшее качество (наименьшее значение RMSE) на валидационной выборке показала модель CatBoost, чуть хуже качество у RandomForestRegressor и LightGBM.\n",
        "При этом RandomForestRegressor существенно проигрывает в скорости обучения. Время предсказания несколько невелико во всех моделях, что им можно пренебречь в данном случае.\n",
        "\n",
        "Поскольку качество модели CatBoost выше, чем у LightGBM, а время обучения при этом вполне приемлемое, выберем её в качестве лучшей модели и проверим ее качество на тестовой выборке."
      ]
    },
    {
      "cell_type": "markdown",
      "metadata": {
        "id": "0NDY8IKhO9k-"
      },
      "source": [
        "### Проверка лучшей модели на тестовой выборке"
      ]
    },
    {
      "cell_type": "markdown",
      "metadata": {
        "id": "JBW4TyQdO9k-"
      },
      "source": [
        "Поскольку в модель CatBoost передаются признаки без кодирования и масштабирования, то дополнительных преобразований для тестовой выборки не требуется."
      ]
    },
    {
      "cell_type": "code",
      "execution_count": 45,
      "metadata": {
        "colab": {
          "base_uri": "https://localhost:8080/"
        },
        "id": "GyTgF_MSO9k-",
        "outputId": "36bce61c-da68-4eb9-8ffc-39119e57029f"
      },
      "outputs": [
        {
          "output_type": "stream",
          "name": "stdout",
          "text": [
            "RMSE на тестовой выборке: 1580.267\n",
            "CPU times: user 138 ms, sys: 2.86 ms, total: 141 ms\n",
            "Wall time: 113 ms\n"
          ]
        }
      ],
      "source": [
        "%%time\n",
        "\n",
        "# Получим предсказания\n",
        "predictions_test_cat = model_cat.predict(X_test)\n",
        "\n",
        "# Рассчитаем и выведем RMSE\n",
        "result_test_cat = mean_squared_error(y_test, predictions_test_cat)**0.5\n",
        "print('RMSE на тестовой выборке:', result_test_cat.round(3))"
      ]
    },
    {
      "cell_type": "markdown",
      "metadata": {
        "id": "l6b3swvlO9k-"
      },
      "source": [
        "Итак, на тестовой выборке мы получили значение RMSE в размере 1562, что ниже требуемого Заказчиком. **Лучшая модель - CatBoost со следующими гиперпараметрами: {'depth': 11, 'iterations': 80}, время обучения модели - 9 сек, время предсказания на тестовой выборке - 113 мс.**\n",
        "\n",
        "В заключение сравним результаты нашей модели с результатами константной модели. В нашем случае подойдет DummyRegressor."
      ]
    },
    {
      "cell_type": "code",
      "execution_count": 46,
      "metadata": {
        "colab": {
          "base_uri": "https://localhost:8080/"
        },
        "id": "lY_LdvbIO9k_",
        "outputId": "4ed8b25a-b2e0-4b91-a23e-93176cf452a2"
      },
      "outputs": [
        {
          "output_type": "stream",
          "name": "stdout",
          "text": [
            "RMSE dummy: 4615.573\n"
          ]
        }
      ],
      "source": [
        "# Получим предсказания константной модели\n",
        "model_dummy = DummyRegressor(strategy=\"mean\")\n",
        "model_dummy.fit(X_train, y_train)\n",
        "predictions_test_dummy = model_dummy.predict(X_test)\n",
        "result_test_dummy = mean_squared_error(y_test, predictions_test_dummy)**0.5\n",
        "print('RMSE dummy:', result_test_dummy.round(3))"
      ]
    },
    {
      "cell_type": "markdown",
      "metadata": {
        "id": "zdYUTZ1LO9k_"
      },
      "source": [
        "## Итоговый вывод"
      ]
    },
    {
      "cell_type": "markdown",
      "metadata": {
        "id": "H_SBEHwwO9k_"
      },
      "source": [
        "- в данном проекте было обучено 5 моделей;\n",
        "- качество моделей измерялось метрикой RMSE, а также временем обучения и временем предсказания;\n",
        "- наименьшее значение RMSE показала модель CatBoost с гиперпараметрами: depth - 11, iterations - 80, однако по времени обучения модель проигрывает LightGBM;\n",
        "- модель LightGBM существенно быстрее обучается и показывает достаточно хорошие результаты метрики RMSE;\n",
        "- учитывая приоритеты, расставленные заказчиком, в качестве лучшей модели выбрана модель CatBoost. Однако, если время обучения важнее качества модели, то рекомендуется обратиться к модели LightGBM;\n",
        "- лучшая модель была проверена на тестовой выборке и показала значение RMSE в размере 1580;\n",
        "- в сравнении с константной моделью выбранная модель показывает существенно более хороший результат (RMSE константной модели = 4613).  "
      ]
    }
  ],
  "metadata": {
    "ExecuteTimeLog": [
      {
        "duration": 51,
        "start_time": "2023-05-29T15:41:30.891Z"
      },
      {
        "duration": 8640,
        "start_time": "2023-05-30T12:23:55.566Z"
      },
      {
        "duration": 4744,
        "start_time": "2023-05-30T12:25:46.067Z"
      },
      {
        "duration": 29,
        "start_time": "2023-05-30T12:26:53.476Z"
      },
      {
        "duration": 137,
        "start_time": "2023-05-30T12:26:58.283Z"
      },
      {
        "duration": 2348,
        "start_time": "2023-05-30T12:27:01.765Z"
      },
      {
        "duration": 623,
        "start_time": "2023-05-30T12:27:38.565Z"
      },
      {
        "duration": 572,
        "start_time": "2023-05-30T12:27:41.249Z"
      },
      {
        "duration": 57,
        "start_time": "2023-05-30T12:28:10.304Z"
      },
      {
        "duration": 57,
        "start_time": "2023-05-30T12:29:09.866Z"
      },
      {
        "duration": 19,
        "start_time": "2023-05-30T12:29:17.364Z"
      },
      {
        "duration": 135,
        "start_time": "2023-05-30T12:29:22.577Z"
      },
      {
        "duration": 73,
        "start_time": "2023-05-30T12:31:15.370Z"
      },
      {
        "duration": 101,
        "start_time": "2023-05-30T12:31:17.106Z"
      },
      {
        "duration": 762,
        "start_time": "2023-05-30T12:31:18.258Z"
      },
      {
        "duration": 167,
        "start_time": "2023-05-30T12:31:20.680Z"
      },
      {
        "duration": 444,
        "start_time": "2023-05-30T12:32:38.460Z"
      },
      {
        "duration": 283,
        "start_time": "2023-05-30T12:33:32.612Z"
      },
      {
        "duration": 6,
        "start_time": "2023-05-30T12:34:46.089Z"
      },
      {
        "duration": 5,
        "start_time": "2023-05-30T12:44:10.973Z"
      },
      {
        "duration": 111,
        "start_time": "2023-05-30T12:44:20.664Z"
      },
      {
        "duration": 14,
        "start_time": "2023-05-30T14:48:12.492Z"
      },
      {
        "duration": 14,
        "start_time": "2023-05-30T14:48:19.044Z"
      },
      {
        "duration": 106,
        "start_time": "2023-05-30T14:48:21.340Z"
      },
      {
        "duration": 12450,
        "start_time": "2023-05-30T14:49:07.597Z"
      },
      {
        "duration": 17,
        "start_time": "2023-05-30T14:49:30.061Z"
      },
      {
        "duration": 9,
        "start_time": "2023-05-30T14:49:40.057Z"
      },
      {
        "duration": 7264,
        "start_time": "2023-05-30T14:50:22.218Z"
      },
      {
        "duration": 3244,
        "start_time": "2023-05-30T14:50:29.485Z"
      },
      {
        "duration": 19,
        "start_time": "2023-05-30T14:50:32.731Z"
      },
      {
        "duration": 110,
        "start_time": "2023-05-30T14:50:32.752Z"
      },
      {
        "duration": 1631,
        "start_time": "2023-05-30T14:50:32.864Z"
      },
      {
        "duration": 443,
        "start_time": "2023-05-30T14:50:34.497Z"
      },
      {
        "duration": 460,
        "start_time": "2023-05-30T14:50:34.942Z"
      },
      {
        "duration": 36,
        "start_time": "2023-05-30T14:50:35.404Z"
      },
      {
        "duration": 40,
        "start_time": "2023-05-30T14:50:35.442Z"
      },
      {
        "duration": 21,
        "start_time": "2023-05-30T14:50:35.484Z"
      },
      {
        "duration": 95,
        "start_time": "2023-05-30T14:50:35.506Z"
      },
      {
        "duration": 47,
        "start_time": "2023-05-30T14:50:35.602Z"
      },
      {
        "duration": 44,
        "start_time": "2023-05-30T14:50:35.651Z"
      },
      {
        "duration": 542,
        "start_time": "2023-05-30T14:50:35.697Z"
      },
      {
        "duration": 88,
        "start_time": "2023-05-30T14:50:36.241Z"
      },
      {
        "duration": 151,
        "start_time": "2023-05-30T14:50:36.331Z"
      },
      {
        "duration": 4,
        "start_time": "2023-05-30T14:50:36.484Z"
      },
      {
        "duration": 116,
        "start_time": "2023-05-30T14:50:36.489Z"
      },
      {
        "duration": 25,
        "start_time": "2023-05-30T14:50:36.607Z"
      },
      {
        "duration": 10,
        "start_time": "2023-05-30T14:50:36.634Z"
      },
      {
        "duration": 469,
        "start_time": "2023-05-30T14:50:36.646Z"
      },
      {
        "duration": 180,
        "start_time": "2023-05-30T14:50:37.116Z"
      },
      {
        "duration": 35729,
        "start_time": "2023-05-30T14:50:37.298Z"
      },
      {
        "duration": 117,
        "start_time": "2023-05-30T14:51:13.030Z"
      },
      {
        "duration": 57889,
        "start_time": "2023-05-30T14:51:13.150Z"
      },
      {
        "duration": 151,
        "start_time": "2023-05-30T14:52:11.040Z"
      },
      {
        "duration": 142235,
        "start_time": "2023-05-30T14:52:11.192Z"
      },
      {
        "duration": 4401,
        "start_time": "2023-05-30T14:54:33.432Z"
      },
      {
        "duration": 20,
        "start_time": "2023-05-30T14:54:37.925Z"
      },
      {
        "duration": 8673,
        "start_time": "2023-05-30T14:54:37.946Z"
      },
      {
        "duration": 79,
        "start_time": "2023-05-30T14:54:46.621Z"
      },
      {
        "duration": 5443,
        "start_time": "2023-05-30T14:54:46.701Z"
      },
      {
        "duration": 512,
        "start_time": "2023-05-30T14:54:52.226Z"
      },
      {
        "duration": 21,
        "start_time": "2023-05-30T14:54:52.739Z"
      },
      {
        "duration": 115,
        "start_time": "2023-05-30T14:54:52.761Z"
      },
      {
        "duration": 5,
        "start_time": "2023-05-30T14:54:52.878Z"
      },
      {
        "duration": 3,
        "start_time": "2023-05-30T15:04:29.991Z"
      },
      {
        "duration": 113,
        "start_time": "2023-05-30T15:04:36.310Z"
      },
      {
        "duration": 13879,
        "start_time": "2023-05-31T09:24:32.849Z"
      },
      {
        "duration": 1150,
        "start_time": "2023-05-31T09:24:46.730Z"
      },
      {
        "duration": 21,
        "start_time": "2023-05-31T09:24:47.884Z"
      },
      {
        "duration": 107,
        "start_time": "2023-05-31T09:24:47.907Z"
      },
      {
        "duration": 1492,
        "start_time": "2023-05-31T09:24:48.015Z"
      },
      {
        "duration": 369,
        "start_time": "2023-05-31T09:24:49.508Z"
      },
      {
        "duration": 400,
        "start_time": "2023-05-31T09:24:49.879Z"
      },
      {
        "duration": 36,
        "start_time": "2023-05-31T09:24:50.280Z"
      },
      {
        "duration": 57,
        "start_time": "2023-05-31T09:24:50.318Z"
      },
      {
        "duration": 26,
        "start_time": "2023-05-31T09:24:50.379Z"
      },
      {
        "duration": 84,
        "start_time": "2023-05-31T09:24:50.407Z"
      },
      {
        "duration": 35,
        "start_time": "2023-05-31T09:24:50.492Z"
      },
      {
        "duration": 36,
        "start_time": "2023-05-31T09:24:50.528Z"
      },
      {
        "duration": 450,
        "start_time": "2023-05-31T09:24:50.566Z"
      },
      {
        "duration": 72,
        "start_time": "2023-05-31T09:24:51.018Z"
      },
      {
        "duration": 137,
        "start_time": "2023-05-31T09:24:51.091Z"
      },
      {
        "duration": 3,
        "start_time": "2023-05-31T09:24:51.230Z"
      },
      {
        "duration": 82,
        "start_time": "2023-05-31T09:24:51.235Z"
      },
      {
        "duration": 17,
        "start_time": "2023-05-31T09:24:51.319Z"
      },
      {
        "duration": 18,
        "start_time": "2023-05-31T09:24:51.338Z"
      },
      {
        "duration": 427,
        "start_time": "2023-05-31T09:24:51.358Z"
      },
      {
        "duration": 166,
        "start_time": "2023-05-31T09:24:51.787Z"
      },
      {
        "duration": 25232,
        "start_time": "2023-05-31T09:24:51.954Z"
      },
      {
        "duration": 111,
        "start_time": "2023-05-31T09:25:17.188Z"
      },
      {
        "duration": 63878,
        "start_time": "2023-05-31T09:25:17.300Z"
      },
      {
        "duration": 157,
        "start_time": "2023-05-31T09:26:21.185Z"
      },
      {
        "duration": 124146,
        "start_time": "2023-05-31T09:26:21.343Z"
      },
      {
        "duration": 2800,
        "start_time": "2023-05-31T09:28:25.492Z"
      },
      {
        "duration": 104,
        "start_time": "2023-05-31T09:28:28.385Z"
      },
      {
        "duration": 8403,
        "start_time": "2023-05-31T09:28:28.491Z"
      },
      {
        "duration": 90,
        "start_time": "2023-05-31T09:28:36.895Z"
      },
      {
        "duration": 4503,
        "start_time": "2023-05-31T09:28:36.986Z"
      },
      {
        "duration": 603,
        "start_time": "2023-05-31T09:28:41.491Z"
      },
      {
        "duration": 9,
        "start_time": "2023-05-31T09:28:42.096Z"
      },
      {
        "duration": 157,
        "start_time": "2023-05-31T09:28:42.107Z"
      },
      {
        "duration": 5,
        "start_time": "2023-05-31T09:28:42.266Z"
      },
      {
        "duration": 188,
        "start_time": "2023-05-31T09:29:38.688Z"
      },
      {
        "duration": 7172,
        "start_time": "2023-05-31T09:32:12.122Z"
      },
      {
        "duration": 12,
        "start_time": "2023-05-31T09:32:58.747Z"
      },
      {
        "duration": 6,
        "start_time": "2023-05-31T09:37:43.701Z"
      },
      {
        "duration": 10,
        "start_time": "2023-05-31T09:38:19.087Z"
      },
      {
        "duration": 100,
        "start_time": "2023-05-31T09:40:49.510Z"
      },
      {
        "duration": 8,
        "start_time": "2023-05-31T09:40:57.560Z"
      },
      {
        "duration": 93,
        "start_time": "2023-05-31T09:43:09.649Z"
      },
      {
        "duration": 4,
        "start_time": "2023-05-31T09:54:37.133Z"
      },
      {
        "duration": 8,
        "start_time": "2023-05-31T09:55:23.511Z"
      },
      {
        "duration": 18,
        "start_time": "2023-05-31T09:55:46.206Z"
      },
      {
        "duration": 34,
        "start_time": "2023-05-31T09:55:55.607Z"
      },
      {
        "duration": 84,
        "start_time": "2023-05-31T09:56:21.703Z"
      },
      {
        "duration": 16,
        "start_time": "2023-05-31T09:56:23.675Z"
      },
      {
        "duration": 3807,
        "start_time": "2023-05-31T09:56:53.783Z"
      },
      {
        "duration": 88,
        "start_time": "2023-05-31T09:57:33.152Z"
      },
      {
        "duration": 122,
        "start_time": "2023-05-31T09:57:47.003Z"
      },
      {
        "duration": 399,
        "start_time": "2023-05-31T09:58:13.898Z"
      },
      {
        "duration": 130,
        "start_time": "2023-05-31T10:01:01.738Z"
      },
      {
        "duration": 706470,
        "start_time": "2023-05-31T10:01:48.019Z"
      },
      {
        "duration": 97,
        "start_time": "2023-05-31T10:13:34.491Z"
      },
      {
        "duration": 5319,
        "start_time": "2023-05-31T10:15:59.570Z"
      },
      {
        "duration": 387,
        "start_time": "2023-05-31T10:16:09.899Z"
      },
      {
        "duration": 9,
        "start_time": "2023-05-31T10:16:18.251Z"
      },
      {
        "duration": 17862,
        "start_time": "2023-05-31T10:17:18.524Z"
      },
      {
        "duration": 12,
        "start_time": "2023-05-31T10:18:46.942Z"
      },
      {
        "duration": 29,
        "start_time": "2023-05-31T10:22:23.750Z"
      },
      {
        "duration": 8,
        "start_time": "2023-05-31T10:22:56.339Z"
      },
      {
        "duration": 13144,
        "start_time": "2023-05-31T10:23:08.930Z"
      },
      {
        "duration": 9885,
        "start_time": "2023-05-31T10:23:33.334Z"
      },
      {
        "duration": 827,
        "start_time": "2023-05-31T10:23:43.221Z"
      },
      {
        "duration": 17,
        "start_time": "2023-05-31T10:23:44.050Z"
      },
      {
        "duration": 100,
        "start_time": "2023-05-31T10:23:44.069Z"
      },
      {
        "duration": 1365,
        "start_time": "2023-05-31T10:23:44.171Z"
      },
      {
        "duration": 349,
        "start_time": "2023-05-31T10:23:45.538Z"
      },
      {
        "duration": 409,
        "start_time": "2023-05-31T10:23:45.889Z"
      },
      {
        "duration": 26,
        "start_time": "2023-05-31T10:23:46.300Z"
      },
      {
        "duration": 35,
        "start_time": "2023-05-31T10:23:46.328Z"
      },
      {
        "duration": 25,
        "start_time": "2023-05-31T10:23:46.365Z"
      },
      {
        "duration": 77,
        "start_time": "2023-05-31T10:23:46.391Z"
      },
      {
        "duration": 40,
        "start_time": "2023-05-31T10:23:46.469Z"
      },
      {
        "duration": 35,
        "start_time": "2023-05-31T10:23:46.510Z"
      },
      {
        "duration": 433,
        "start_time": "2023-05-31T10:23:46.546Z"
      },
      {
        "duration": 67,
        "start_time": "2023-05-31T10:23:46.980Z"
      },
      {
        "duration": 143,
        "start_time": "2023-05-31T10:23:47.049Z"
      },
      {
        "duration": 4,
        "start_time": "2023-05-31T10:23:47.193Z"
      },
      {
        "duration": 73,
        "start_time": "2023-05-31T10:23:47.198Z"
      },
      {
        "duration": 23,
        "start_time": "2023-05-31T10:23:47.272Z"
      },
      {
        "duration": 6,
        "start_time": "2023-05-31T10:23:47.297Z"
      },
      {
        "duration": 10776,
        "start_time": "2023-05-31T10:23:47.304Z"
      },
      {
        "duration": 111,
        "start_time": "2023-05-31T10:23:58.082Z"
      },
      {
        "duration": 0,
        "start_time": "2023-05-31T10:23:58.195Z"
      },
      {
        "duration": 0,
        "start_time": "2023-05-31T10:23:58.196Z"
      },
      {
        "duration": 1,
        "start_time": "2023-05-31T10:23:58.196Z"
      },
      {
        "duration": 0,
        "start_time": "2023-05-31T10:23:58.197Z"
      },
      {
        "duration": 0,
        "start_time": "2023-05-31T10:23:58.199Z"
      },
      {
        "duration": 0,
        "start_time": "2023-05-31T10:23:58.199Z"
      },
      {
        "duration": 0,
        "start_time": "2023-05-31T10:23:58.200Z"
      },
      {
        "duration": 0,
        "start_time": "2023-05-31T10:23:58.201Z"
      },
      {
        "duration": 0,
        "start_time": "2023-05-31T10:23:58.202Z"
      },
      {
        "duration": 0,
        "start_time": "2023-05-31T10:23:58.202Z"
      },
      {
        "duration": 0,
        "start_time": "2023-05-31T10:23:58.203Z"
      },
      {
        "duration": 0,
        "start_time": "2023-05-31T10:23:58.204Z"
      },
      {
        "duration": 0,
        "start_time": "2023-05-31T10:23:58.205Z"
      },
      {
        "duration": 0,
        "start_time": "2023-05-31T10:23:58.206Z"
      },
      {
        "duration": 0,
        "start_time": "2023-05-31T10:23:58.207Z"
      },
      {
        "duration": 0,
        "start_time": "2023-05-31T10:23:58.207Z"
      },
      {
        "duration": 0,
        "start_time": "2023-05-31T10:23:58.208Z"
      },
      {
        "duration": 0,
        "start_time": "2023-05-31T10:23:58.209Z"
      },
      {
        "duration": 0,
        "start_time": "2023-05-31T10:23:58.210Z"
      },
      {
        "duration": 4897,
        "start_time": "2023-05-31T10:24:35.748Z"
      },
      {
        "duration": 915,
        "start_time": "2023-05-31T10:24:40.646Z"
      },
      {
        "duration": 25,
        "start_time": "2023-05-31T10:24:41.562Z"
      },
      {
        "duration": 102,
        "start_time": "2023-05-31T10:24:41.589Z"
      },
      {
        "duration": 1465,
        "start_time": "2023-05-31T10:24:41.692Z"
      },
      {
        "duration": 391,
        "start_time": "2023-05-31T10:24:43.159Z"
      },
      {
        "duration": 411,
        "start_time": "2023-05-31T10:24:43.551Z"
      },
      {
        "duration": 29,
        "start_time": "2023-05-31T10:24:43.964Z"
      },
      {
        "duration": 40,
        "start_time": "2023-05-31T10:24:43.994Z"
      },
      {
        "duration": 14,
        "start_time": "2023-05-31T10:24:44.036Z"
      },
      {
        "duration": 93,
        "start_time": "2023-05-31T10:24:44.051Z"
      },
      {
        "duration": 44,
        "start_time": "2023-05-31T10:24:44.145Z"
      },
      {
        "duration": 43,
        "start_time": "2023-05-31T10:24:44.191Z"
      },
      {
        "duration": 434,
        "start_time": "2023-05-31T10:24:44.236Z"
      },
      {
        "duration": 71,
        "start_time": "2023-05-31T10:24:44.672Z"
      },
      {
        "duration": 141,
        "start_time": "2023-05-31T10:24:44.745Z"
      },
      {
        "duration": 4,
        "start_time": "2023-05-31T10:24:44.887Z"
      },
      {
        "duration": 71,
        "start_time": "2023-05-31T10:24:44.892Z"
      },
      {
        "duration": 31,
        "start_time": "2023-05-31T10:24:44.964Z"
      },
      {
        "duration": 6,
        "start_time": "2023-05-31T10:24:44.997Z"
      },
      {
        "duration": 13395,
        "start_time": "2023-05-31T10:24:45.004Z"
      },
      {
        "duration": 3,
        "start_time": "2023-05-31T10:24:58.401Z"
      },
      {
        "duration": 441,
        "start_time": "2023-05-31T10:24:58.405Z"
      },
      {
        "duration": 37,
        "start_time": "2023-05-31T10:24:58.848Z"
      },
      {
        "duration": 29,
        "start_time": "2023-05-31T10:24:58.887Z"
      },
      {
        "duration": 177,
        "start_time": "2023-05-31T10:24:58.918Z"
      },
      {
        "duration": 20588,
        "start_time": "2023-05-31T10:24:59.097Z"
      },
      {
        "duration": 115,
        "start_time": "2023-05-31T10:25:19.692Z"
      },
      {
        "duration": 63988,
        "start_time": "2023-05-31T10:25:19.809Z"
      },
      {
        "duration": 171,
        "start_time": "2023-05-31T10:26:23.798Z"
      },
      {
        "duration": 283619,
        "start_time": "2023-05-31T10:26:23.971Z"
      },
      {
        "duration": 9799,
        "start_time": "2023-05-31T10:31:07.592Z"
      },
      {
        "duration": 104,
        "start_time": "2023-05-31T10:31:17.395Z"
      },
      {
        "duration": 8371,
        "start_time": "2023-05-31T10:31:17.500Z"
      },
      {
        "duration": 83,
        "start_time": "2023-05-31T10:31:25.872Z"
      },
      {
        "duration": 129,
        "start_time": "2023-05-31T10:31:25.957Z"
      },
      {
        "duration": 3398,
        "start_time": "2023-05-31T10:31:26.088Z"
      },
      {
        "duration": 498,
        "start_time": "2023-05-31T10:31:29.488Z"
      },
      {
        "duration": 9,
        "start_time": "2023-05-31T10:31:29.987Z"
      },
      {
        "duration": 150,
        "start_time": "2023-05-31T10:31:29.998Z"
      },
      {
        "duration": 6,
        "start_time": "2023-05-31T10:31:30.149Z"
      },
      {
        "duration": 120,
        "start_time": "2023-05-31T10:31:30.157Z"
      },
      {
        "duration": 70,
        "start_time": "2023-05-31T10:32:54.044Z"
      },
      {
        "duration": 53,
        "start_time": "2023-05-31T10:33:53.646Z"
      },
      {
        "duration": 57,
        "start_time": "2023-05-31T10:35:18.839Z"
      },
      {
        "duration": 53,
        "start_time": "2023-05-31T10:38:14.296Z"
      },
      {
        "duration": 320,
        "start_time": "2023-05-31T10:42:13.482Z"
      },
      {
        "duration": 292,
        "start_time": "2023-05-31T10:42:37.185Z"
      },
      {
        "duration": 57,
        "start_time": "2023-05-31T10:43:36.402Z"
      },
      {
        "duration": 556,
        "start_time": "2023-05-31T10:43:45.362Z"
      },
      {
        "duration": 306,
        "start_time": "2023-05-31T10:44:25.875Z"
      },
      {
        "duration": 288,
        "start_time": "2023-05-31T10:45:17.620Z"
      },
      {
        "duration": 332,
        "start_time": "2023-05-31T10:45:50.997Z"
      },
      {
        "duration": 344,
        "start_time": "2023-05-31T10:47:37.654Z"
      },
      {
        "duration": 6,
        "start_time": "2023-05-31T10:47:39.550Z"
      },
      {
        "duration": 56,
        "start_time": "2023-05-31T10:48:05.274Z"
      },
      {
        "duration": 54,
        "start_time": "2023-05-31T10:50:18.200Z"
      },
      {
        "duration": 340,
        "start_time": "2023-05-31T10:54:22.026Z"
      },
      {
        "duration": 350,
        "start_time": "2023-05-31T10:54:29.881Z"
      },
      {
        "duration": 378,
        "start_time": "2023-05-31T10:54:39.003Z"
      },
      {
        "duration": 13,
        "start_time": "2023-05-31T10:55:44.115Z"
      },
      {
        "duration": 6,
        "start_time": "2023-05-31T10:56:41.692Z"
      },
      {
        "duration": 341,
        "start_time": "2023-05-31T10:57:43.627Z"
      },
      {
        "duration": 339,
        "start_time": "2023-05-31T10:57:51.102Z"
      },
      {
        "duration": 329,
        "start_time": "2023-05-31T10:58:09.037Z"
      },
      {
        "duration": 349,
        "start_time": "2023-05-31T10:58:14.276Z"
      },
      {
        "duration": 343,
        "start_time": "2023-05-31T11:05:38.441Z"
      },
      {
        "duration": 342,
        "start_time": "2023-05-31T11:09:39.799Z"
      },
      {
        "duration": 350,
        "start_time": "2023-05-31T11:11:25.687Z"
      },
      {
        "duration": 391,
        "start_time": "2023-05-31T11:12:20.622Z"
      },
      {
        "duration": 400,
        "start_time": "2023-05-31T11:13:00.317Z"
      },
      {
        "duration": 9569,
        "start_time": "2023-05-31T11:18:09.399Z"
      },
      {
        "duration": 28,
        "start_time": "2023-05-31T11:21:55.577Z"
      },
      {
        "duration": 1339,
        "start_time": "2023-05-31T11:22:04.404Z"
      },
      {
        "duration": 125,
        "start_time": "2023-05-31T11:22:12.048Z"
      },
      {
        "duration": 28,
        "start_time": "2023-05-31T11:22:18.033Z"
      },
      {
        "duration": 24,
        "start_time": "2023-05-31T11:22:34.033Z"
      },
      {
        "duration": 26,
        "start_time": "2023-05-31T11:22:38.876Z"
      },
      {
        "duration": 25,
        "start_time": "2023-05-31T11:25:18.684Z"
      },
      {
        "duration": 25,
        "start_time": "2023-05-31T11:25:41.067Z"
      },
      {
        "duration": 24,
        "start_time": "2023-05-31T11:25:47.274Z"
      },
      {
        "duration": 46,
        "start_time": "2023-05-31T11:26:48.532Z"
      },
      {
        "duration": 48,
        "start_time": "2023-05-31T11:27:08.316Z"
      },
      {
        "duration": 44,
        "start_time": "2023-05-31T11:27:39.943Z"
      },
      {
        "duration": 24,
        "start_time": "2023-05-31T11:28:21.094Z"
      },
      {
        "duration": 25,
        "start_time": "2023-05-31T11:29:23.843Z"
      },
      {
        "duration": 51,
        "start_time": "2023-05-31T11:30:01.837Z"
      },
      {
        "duration": 4,
        "start_time": "2023-05-31T11:30:15.503Z"
      },
      {
        "duration": 55,
        "start_time": "2023-05-31T11:30:35.717Z"
      },
      {
        "duration": 90,
        "start_time": "2023-05-31T11:31:55.208Z"
      },
      {
        "duration": 89,
        "start_time": "2023-05-31T11:32:02.646Z"
      },
      {
        "duration": 53,
        "start_time": "2023-05-31T11:32:23.246Z"
      },
      {
        "duration": 55,
        "start_time": "2023-05-31T11:33:25.863Z"
      },
      {
        "duration": 90,
        "start_time": "2023-05-31T11:33:42.806Z"
      },
      {
        "duration": 54,
        "start_time": "2023-05-31T11:34:35.470Z"
      },
      {
        "duration": 26,
        "start_time": "2023-05-31T11:35:15.207Z"
      },
      {
        "duration": 26,
        "start_time": "2023-05-31T11:35:25.752Z"
      },
      {
        "duration": 3,
        "start_time": "2023-05-31T11:36:57.009Z"
      },
      {
        "duration": 75,
        "start_time": "2023-05-31T11:37:31.216Z"
      },
      {
        "duration": 7028,
        "start_time": "2023-05-31T11:37:42.386Z"
      },
      {
        "duration": 912,
        "start_time": "2023-05-31T11:37:49.416Z"
      },
      {
        "duration": 17,
        "start_time": "2023-05-31T11:37:50.329Z"
      },
      {
        "duration": 106,
        "start_time": "2023-05-31T11:37:50.348Z"
      },
      {
        "duration": 1395,
        "start_time": "2023-05-31T11:37:50.456Z"
      },
      {
        "duration": 372,
        "start_time": "2023-05-31T11:37:51.853Z"
      },
      {
        "duration": 403,
        "start_time": "2023-05-31T11:37:52.227Z"
      },
      {
        "duration": 27,
        "start_time": "2023-05-31T11:37:52.632Z"
      },
      {
        "duration": 49,
        "start_time": "2023-05-31T11:37:52.660Z"
      },
      {
        "duration": 16,
        "start_time": "2023-05-31T11:37:52.712Z"
      },
      {
        "duration": 90,
        "start_time": "2023-05-31T11:37:52.730Z"
      },
      {
        "duration": 50,
        "start_time": "2023-05-31T11:37:52.822Z"
      },
      {
        "duration": 37,
        "start_time": "2023-05-31T11:37:52.873Z"
      },
      {
        "duration": 441,
        "start_time": "2023-05-31T11:37:52.912Z"
      },
      {
        "duration": 68,
        "start_time": "2023-05-31T11:37:53.355Z"
      },
      {
        "duration": 142,
        "start_time": "2023-05-31T11:37:53.424Z"
      },
      {
        "duration": 26,
        "start_time": "2023-05-31T11:37:53.567Z"
      },
      {
        "duration": 56,
        "start_time": "2023-05-31T11:37:53.594Z"
      },
      {
        "duration": 36,
        "start_time": "2023-05-31T11:37:53.651Z"
      },
      {
        "duration": 22,
        "start_time": "2023-05-31T11:37:53.688Z"
      },
      {
        "duration": 90,
        "start_time": "2023-05-31T11:37:53.712Z"
      },
      {
        "duration": 16,
        "start_time": "2023-05-31T11:37:53.803Z"
      },
      {
        "duration": 9,
        "start_time": "2023-05-31T11:37:53.821Z"
      },
      {
        "duration": 8523,
        "start_time": "2023-05-31T11:37:53.832Z"
      },
      {
        "duration": 121,
        "start_time": "2023-05-31T11:38:02.357Z"
      },
      {
        "duration": 0,
        "start_time": "2023-05-31T11:38:02.480Z"
      },
      {
        "duration": 0,
        "start_time": "2023-05-31T11:38:02.481Z"
      },
      {
        "duration": 0,
        "start_time": "2023-05-31T11:38:02.484Z"
      },
      {
        "duration": 0,
        "start_time": "2023-05-31T11:38:02.485Z"
      },
      {
        "duration": 0,
        "start_time": "2023-05-31T11:38:02.485Z"
      },
      {
        "duration": 0,
        "start_time": "2023-05-31T11:38:02.487Z"
      },
      {
        "duration": 0,
        "start_time": "2023-05-31T11:38:02.487Z"
      },
      {
        "duration": 0,
        "start_time": "2023-05-31T11:38:02.488Z"
      },
      {
        "duration": 0,
        "start_time": "2023-05-31T11:38:02.489Z"
      },
      {
        "duration": 0,
        "start_time": "2023-05-31T11:38:02.491Z"
      },
      {
        "duration": 0,
        "start_time": "2023-05-31T11:38:02.492Z"
      },
      {
        "duration": 0,
        "start_time": "2023-05-31T11:38:02.493Z"
      },
      {
        "duration": 0,
        "start_time": "2023-05-31T11:38:02.494Z"
      },
      {
        "duration": 0,
        "start_time": "2023-05-31T11:38:02.495Z"
      },
      {
        "duration": 0,
        "start_time": "2023-05-31T11:38:02.495Z"
      },
      {
        "duration": 0,
        "start_time": "2023-05-31T11:38:02.497Z"
      },
      {
        "duration": 0,
        "start_time": "2023-05-31T11:38:02.497Z"
      },
      {
        "duration": 0,
        "start_time": "2023-05-31T11:38:02.498Z"
      },
      {
        "duration": 0,
        "start_time": "2023-05-31T11:38:02.499Z"
      },
      {
        "duration": 447,
        "start_time": "2023-05-31T11:38:56.865Z"
      },
      {
        "duration": 10113,
        "start_time": "2023-05-31T11:41:28.551Z"
      },
      {
        "duration": 868,
        "start_time": "2023-05-31T11:41:38.666Z"
      },
      {
        "duration": 16,
        "start_time": "2023-05-31T11:41:39.536Z"
      },
      {
        "duration": 92,
        "start_time": "2023-05-31T11:41:39.553Z"
      },
      {
        "duration": 1402,
        "start_time": "2023-05-31T11:41:39.647Z"
      },
      {
        "duration": 363,
        "start_time": "2023-05-31T11:41:41.050Z"
      },
      {
        "duration": 391,
        "start_time": "2023-05-31T11:41:41.414Z"
      },
      {
        "duration": 25,
        "start_time": "2023-05-31T11:41:41.807Z"
      },
      {
        "duration": 36,
        "start_time": "2023-05-31T11:41:41.834Z"
      },
      {
        "duration": 10,
        "start_time": "2023-05-31T11:41:41.884Z"
      },
      {
        "duration": 73,
        "start_time": "2023-05-31T11:41:41.895Z"
      },
      {
        "duration": 45,
        "start_time": "2023-05-31T11:41:41.970Z"
      },
      {
        "duration": 39,
        "start_time": "2023-05-31T11:41:42.017Z"
      },
      {
        "duration": 456,
        "start_time": "2023-05-31T11:41:42.057Z"
      },
      {
        "duration": 74,
        "start_time": "2023-05-31T11:41:42.515Z"
      },
      {
        "duration": 133,
        "start_time": "2023-05-31T11:41:42.590Z"
      },
      {
        "duration": 25,
        "start_time": "2023-05-31T11:41:42.725Z"
      },
      {
        "duration": 74,
        "start_time": "2023-05-31T11:41:42.752Z"
      },
      {
        "duration": 25,
        "start_time": "2023-05-31T11:41:42.828Z"
      },
      {
        "duration": 21,
        "start_time": "2023-05-31T11:41:42.854Z"
      },
      {
        "duration": 81,
        "start_time": "2023-05-31T11:41:42.876Z"
      },
      {
        "duration": 16,
        "start_time": "2023-05-31T11:41:42.959Z"
      },
      {
        "duration": 7,
        "start_time": "2023-05-31T11:41:42.984Z"
      },
      {
        "duration": 441,
        "start_time": "2023-05-31T11:41:42.992Z"
      },
      {
        "duration": 164,
        "start_time": "2023-05-31T11:41:43.435Z"
      },
      {
        "duration": 25690,
        "start_time": "2023-05-31T11:41:43.601Z"
      },
      {
        "duration": 206,
        "start_time": "2023-05-31T11:42:09.293Z"
      },
      {
        "duration": 64149,
        "start_time": "2023-05-31T11:42:09.503Z"
      },
      {
        "duration": 176,
        "start_time": "2023-05-31T11:43:13.653Z"
      },
      {
        "duration": 120961,
        "start_time": "2023-05-31T11:43:13.831Z"
      },
      {
        "duration": 2995,
        "start_time": "2023-05-31T11:45:14.794Z"
      },
      {
        "duration": 109,
        "start_time": "2023-05-31T11:45:17.790Z"
      },
      {
        "duration": 9176,
        "start_time": "2023-05-31T11:45:17.985Z"
      },
      {
        "duration": 82,
        "start_time": "2023-05-31T11:45:27.162Z"
      },
      {
        "duration": 121,
        "start_time": "2023-05-31T11:45:27.245Z"
      },
      {
        "duration": 3220,
        "start_time": "2023-05-31T11:45:27.367Z"
      },
      {
        "duration": 400,
        "start_time": "2023-05-31T11:45:30.589Z"
      },
      {
        "duration": 10,
        "start_time": "2023-05-31T11:45:30.991Z"
      },
      {
        "duration": 147,
        "start_time": "2023-05-31T11:45:31.003Z"
      },
      {
        "duration": 6,
        "start_time": "2023-05-31T11:45:31.151Z"
      },
      {
        "duration": 12,
        "start_time": "2023-05-31T12:31:42.376Z"
      }
    ],
    "kernelspec": {
      "display_name": "Python 3 (ipykernel)",
      "language": "python",
      "name": "python3"
    },
    "language_info": {
      "codemirror_mode": {
        "name": "ipython",
        "version": 3
      },
      "file_extension": ".py",
      "mimetype": "text/x-python",
      "name": "python",
      "nbconvert_exporter": "python",
      "pygments_lexer": "ipython3",
      "version": "3.9.5"
    },
    "toc": {
      "base_numbering": 1,
      "nav_menu": {},
      "number_sections": true,
      "sideBar": true,
      "skip_h1_title": true,
      "title_cell": "Table of Contents",
      "title_sidebar": "Contents",
      "toc_cell": false,
      "toc_position": {
        "height": "calc(100% - 180px)",
        "left": "10px",
        "top": "150px",
        "width": "371px"
      },
      "toc_section_display": true,
      "toc_window_display": true
    },
    "colab": {
      "provenance": [],
      "toc_visible": true
    }
  },
  "nbformat": 4,
  "nbformat_minor": 0
}