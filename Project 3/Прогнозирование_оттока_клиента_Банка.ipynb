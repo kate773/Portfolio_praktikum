{
  "cells": [
    {
      "cell_type": "markdown",
      "metadata": {
        "id": "EsUmq1MMQJ8O"
      },
      "source": [
        "# Отток клиентов"
      ]
    },
    {
      "cell_type": "markdown",
      "metadata": {
        "id": "mN7inBF6QJ8O"
      },
      "source": [
        "Из «Банка» стали уходить клиенты. Каждый месяц. Немного, но заметно. Банковские маркетологи посчитали: сохранять текущих клиентов дешевле, чем привлекать новых.\n",
        "\n",
        "Нужно спрогнозировать, уйдёт клиент из банка в ближайшее время или нет. Вам предоставлены исторические данные о поведении клиентов и расторжении договоров с банком.\n",
        "\n",
        "Постройте модель с предельно большим значением *F1*-меры. Дополнительно измеряйте *AUC-ROC*, сравнивайте её значение с *F1*-мерой.\n",
        "\n",
        "Источник данных: [https://www.kaggle.com/barelydedicated/bank-customer-churn-modeling](https://www.kaggle.com/barelydedicated/bank-customer-churn-modeling)"
      ]
    },
    {
      "cell_type": "markdown",
      "metadata": {
        "id": "xZ_b1V-sQJ8O"
      },
      "source": [
        "## Подготовка данных"
      ]
    },
    {
      "cell_type": "code",
      "execution_count": 1,
      "metadata": {
        "id": "ZfGx-1N5QJ8O"
      },
      "outputs": [],
      "source": [
        "import pandas as pd\n",
        "import matplotlib.pyplot as plt\n",
        "\n",
        "from sklearn.preprocessing import StandardScaler\n",
        "from sklearn.model_selection import train_test_split\n",
        "from sklearn.metrics import f1_score, roc_curve, roc_auc_score, recall_score\n",
        "\n",
        "from sklearn.tree import DecisionTreeClassifier\n",
        "from sklearn.ensemble import RandomForestClassifier\n",
        "from sklearn.linear_model import LogisticRegression\n",
        "\n",
        "from sklearn.utils import shuffle\n",
        "from sklearn.dummy import DummyClassifier"
      ]
    },
    {
      "cell_type": "code",
      "execution_count": 5,
      "metadata": {
        "scrolled": true,
        "colab": {
          "base_uri": "https://localhost:8080/",
          "height": 588
        },
        "id": "Domfn12_QJ8P",
        "outputId": "ed3d3412-1558-4569-b782-ead3c4dce404"
      },
      "outputs": [
        {
          "output_type": "stream",
          "name": "stdout",
          "text": [
            "<class 'pandas.core.frame.DataFrame'>\n",
            "RangeIndex: 10000 entries, 0 to 9999\n",
            "Data columns (total 14 columns):\n",
            " #   Column           Non-Null Count  Dtype  \n",
            "---  ------           --------------  -----  \n",
            " 0   RowNumber        10000 non-null  int64  \n",
            " 1   CustomerId       10000 non-null  int64  \n",
            " 2   Surname          10000 non-null  object \n",
            " 3   CreditScore      10000 non-null  int64  \n",
            " 4   Geography        10000 non-null  object \n",
            " 5   Gender           10000 non-null  object \n",
            " 6   Age              10000 non-null  int64  \n",
            " 7   Tenure           9091 non-null   float64\n",
            " 8   Balance          10000 non-null  float64\n",
            " 9   NumOfProducts    10000 non-null  int64  \n",
            " 10  HasCrCard        10000 non-null  int64  \n",
            " 11  IsActiveMember   10000 non-null  int64  \n",
            " 12  EstimatedSalary  10000 non-null  float64\n",
            " 13  Exited           10000 non-null  int64  \n",
            "dtypes: float64(3), int64(8), object(3)\n",
            "memory usage: 1.1+ MB\n",
            "None\n"
          ]
        },
        {
          "output_type": "execute_result",
          "data": {
            "text/plain": [
              "   RowNumber  CustomerId   Surname  CreditScore Geography  Gender  Age  \\\n",
              "0          1    15634602  Hargrave          619    France  Female   42   \n",
              "1          2    15647311      Hill          608     Spain  Female   41   \n",
              "2          3    15619304      Onio          502    France  Female   42   \n",
              "3          4    15701354      Boni          699    France  Female   39   \n",
              "4          5    15737888  Mitchell          850     Spain  Female   43   \n",
              "\n",
              "   Tenure    Balance  NumOfProducts  HasCrCard  IsActiveMember  \\\n",
              "0     2.0       0.00              1          1               1   \n",
              "1     1.0   83807.86              1          0               1   \n",
              "2     8.0  159660.80              3          1               0   \n",
              "3     1.0       0.00              2          0               0   \n",
              "4     2.0  125510.82              1          1               1   \n",
              "\n",
              "   EstimatedSalary  Exited  \n",
              "0        101348.88       1  \n",
              "1        112542.58       0  \n",
              "2        113931.57       1  \n",
              "3         93826.63       0  \n",
              "4         79084.10       0  "
            ],
            "text/html": [
              "\n",
              "\n",
              "  <div id=\"df-e8b1b317-83ee-4b72-a51e-7be387f18e48\">\n",
              "    <div class=\"colab-df-container\">\n",
              "      <div>\n",
              "<style scoped>\n",
              "    .dataframe tbody tr th:only-of-type {\n",
              "        vertical-align: middle;\n",
              "    }\n",
              "\n",
              "    .dataframe tbody tr th {\n",
              "        vertical-align: top;\n",
              "    }\n",
              "\n",
              "    .dataframe thead th {\n",
              "        text-align: right;\n",
              "    }\n",
              "</style>\n",
              "<table border=\"1\" class=\"dataframe\">\n",
              "  <thead>\n",
              "    <tr style=\"text-align: right;\">\n",
              "      <th></th>\n",
              "      <th>RowNumber</th>\n",
              "      <th>CustomerId</th>\n",
              "      <th>Surname</th>\n",
              "      <th>CreditScore</th>\n",
              "      <th>Geography</th>\n",
              "      <th>Gender</th>\n",
              "      <th>Age</th>\n",
              "      <th>Tenure</th>\n",
              "      <th>Balance</th>\n",
              "      <th>NumOfProducts</th>\n",
              "      <th>HasCrCard</th>\n",
              "      <th>IsActiveMember</th>\n",
              "      <th>EstimatedSalary</th>\n",
              "      <th>Exited</th>\n",
              "    </tr>\n",
              "  </thead>\n",
              "  <tbody>\n",
              "    <tr>\n",
              "      <th>0</th>\n",
              "      <td>1</td>\n",
              "      <td>15634602</td>\n",
              "      <td>Hargrave</td>\n",
              "      <td>619</td>\n",
              "      <td>France</td>\n",
              "      <td>Female</td>\n",
              "      <td>42</td>\n",
              "      <td>2.0</td>\n",
              "      <td>0.00</td>\n",
              "      <td>1</td>\n",
              "      <td>1</td>\n",
              "      <td>1</td>\n",
              "      <td>101348.88</td>\n",
              "      <td>1</td>\n",
              "    </tr>\n",
              "    <tr>\n",
              "      <th>1</th>\n",
              "      <td>2</td>\n",
              "      <td>15647311</td>\n",
              "      <td>Hill</td>\n",
              "      <td>608</td>\n",
              "      <td>Spain</td>\n",
              "      <td>Female</td>\n",
              "      <td>41</td>\n",
              "      <td>1.0</td>\n",
              "      <td>83807.86</td>\n",
              "      <td>1</td>\n",
              "      <td>0</td>\n",
              "      <td>1</td>\n",
              "      <td>112542.58</td>\n",
              "      <td>0</td>\n",
              "    </tr>\n",
              "    <tr>\n",
              "      <th>2</th>\n",
              "      <td>3</td>\n",
              "      <td>15619304</td>\n",
              "      <td>Onio</td>\n",
              "      <td>502</td>\n",
              "      <td>France</td>\n",
              "      <td>Female</td>\n",
              "      <td>42</td>\n",
              "      <td>8.0</td>\n",
              "      <td>159660.80</td>\n",
              "      <td>3</td>\n",
              "      <td>1</td>\n",
              "      <td>0</td>\n",
              "      <td>113931.57</td>\n",
              "      <td>1</td>\n",
              "    </tr>\n",
              "    <tr>\n",
              "      <th>3</th>\n",
              "      <td>4</td>\n",
              "      <td>15701354</td>\n",
              "      <td>Boni</td>\n",
              "      <td>699</td>\n",
              "      <td>France</td>\n",
              "      <td>Female</td>\n",
              "      <td>39</td>\n",
              "      <td>1.0</td>\n",
              "      <td>0.00</td>\n",
              "      <td>2</td>\n",
              "      <td>0</td>\n",
              "      <td>0</td>\n",
              "      <td>93826.63</td>\n",
              "      <td>0</td>\n",
              "    </tr>\n",
              "    <tr>\n",
              "      <th>4</th>\n",
              "      <td>5</td>\n",
              "      <td>15737888</td>\n",
              "      <td>Mitchell</td>\n",
              "      <td>850</td>\n",
              "      <td>Spain</td>\n",
              "      <td>Female</td>\n",
              "      <td>43</td>\n",
              "      <td>2.0</td>\n",
              "      <td>125510.82</td>\n",
              "      <td>1</td>\n",
              "      <td>1</td>\n",
              "      <td>1</td>\n",
              "      <td>79084.10</td>\n",
              "      <td>0</td>\n",
              "    </tr>\n",
              "  </tbody>\n",
              "</table>\n",
              "</div>\n",
              "      <button class=\"colab-df-convert\" onclick=\"convertToInteractive('df-e8b1b317-83ee-4b72-a51e-7be387f18e48')\"\n",
              "              title=\"Convert this dataframe to an interactive table.\"\n",
              "              style=\"display:none;\">\n",
              "\n",
              "  <svg xmlns=\"http://www.w3.org/2000/svg\" height=\"24px\"viewBox=\"0 0 24 24\"\n",
              "       width=\"24px\">\n",
              "    <path d=\"M0 0h24v24H0V0z\" fill=\"none\"/>\n",
              "    <path d=\"M18.56 5.44l.94 2.06.94-2.06 2.06-.94-2.06-.94-.94-2.06-.94 2.06-2.06.94zm-11 1L8.5 8.5l.94-2.06 2.06-.94-2.06-.94L8.5 2.5l-.94 2.06-2.06.94zm10 10l.94 2.06.94-2.06 2.06-.94-2.06-.94-.94-2.06-.94 2.06-2.06.94z\"/><path d=\"M17.41 7.96l-1.37-1.37c-.4-.4-.92-.59-1.43-.59-.52 0-1.04.2-1.43.59L10.3 9.45l-7.72 7.72c-.78.78-.78 2.05 0 2.83L4 21.41c.39.39.9.59 1.41.59.51 0 1.02-.2 1.41-.59l7.78-7.78 2.81-2.81c.8-.78.8-2.07 0-2.86zM5.41 20L4 18.59l7.72-7.72 1.47 1.35L5.41 20z\"/>\n",
              "  </svg>\n",
              "      </button>\n",
              "\n",
              "\n",
              "\n",
              "    <div id=\"df-a4f08040-ae0c-4fe1-94ad-4b882f83d31c\">\n",
              "      <button class=\"colab-df-quickchart\" onclick=\"quickchart('df-a4f08040-ae0c-4fe1-94ad-4b882f83d31c')\"\n",
              "              title=\"Suggest charts.\"\n",
              "              style=\"display:none;\">\n",
              "\n",
              "<svg xmlns=\"http://www.w3.org/2000/svg\" height=\"24px\"viewBox=\"0 0 24 24\"\n",
              "     width=\"24px\">\n",
              "    <g>\n",
              "        <path d=\"M19 3H5c-1.1 0-2 .9-2 2v14c0 1.1.9 2 2 2h14c1.1 0 2-.9 2-2V5c0-1.1-.9-2-2-2zM9 17H7v-7h2v7zm4 0h-2V7h2v10zm4 0h-2v-4h2v4z\"/>\n",
              "    </g>\n",
              "</svg>\n",
              "      </button>\n",
              "    </div>\n",
              "\n",
              "<style>\n",
              "  .colab-df-quickchart {\n",
              "    background-color: #E8F0FE;\n",
              "    border: none;\n",
              "    border-radius: 50%;\n",
              "    cursor: pointer;\n",
              "    display: none;\n",
              "    fill: #1967D2;\n",
              "    height: 32px;\n",
              "    padding: 0 0 0 0;\n",
              "    width: 32px;\n",
              "  }\n",
              "\n",
              "  .colab-df-quickchart:hover {\n",
              "    background-color: #E2EBFA;\n",
              "    box-shadow: 0px 1px 2px rgba(60, 64, 67, 0.3), 0px 1px 3px 1px rgba(60, 64, 67, 0.15);\n",
              "    fill: #174EA6;\n",
              "  }\n",
              "\n",
              "  [theme=dark] .colab-df-quickchart {\n",
              "    background-color: #3B4455;\n",
              "    fill: #D2E3FC;\n",
              "  }\n",
              "\n",
              "  [theme=dark] .colab-df-quickchart:hover {\n",
              "    background-color: #434B5C;\n",
              "    box-shadow: 0px 1px 3px 1px rgba(0, 0, 0, 0.15);\n",
              "    filter: drop-shadow(0px 1px 2px rgba(0, 0, 0, 0.3));\n",
              "    fill: #FFFFFF;\n",
              "  }\n",
              "</style>\n",
              "\n",
              "    <script>\n",
              "      async function quickchart(key) {\n",
              "        const containerElement = document.querySelector('#' + key);\n",
              "        const charts = await google.colab.kernel.invokeFunction(\n",
              "            'suggestCharts', [key], {});\n",
              "      }\n",
              "    </script>\n",
              "\n",
              "      <script>\n",
              "\n",
              "function displayQuickchartButton(domScope) {\n",
              "  let quickchartButtonEl =\n",
              "    domScope.querySelector('#df-a4f08040-ae0c-4fe1-94ad-4b882f83d31c button.colab-df-quickchart');\n",
              "  quickchartButtonEl.style.display =\n",
              "    google.colab.kernel.accessAllowed ? 'block' : 'none';\n",
              "}\n",
              "\n",
              "        displayQuickchartButton(document);\n",
              "      </script>\n",
              "      <style>\n",
              "    .colab-df-container {\n",
              "      display:flex;\n",
              "      flex-wrap:wrap;\n",
              "      gap: 12px;\n",
              "    }\n",
              "\n",
              "    .colab-df-convert {\n",
              "      background-color: #E8F0FE;\n",
              "      border: none;\n",
              "      border-radius: 50%;\n",
              "      cursor: pointer;\n",
              "      display: none;\n",
              "      fill: #1967D2;\n",
              "      height: 32px;\n",
              "      padding: 0 0 0 0;\n",
              "      width: 32px;\n",
              "    }\n",
              "\n",
              "    .colab-df-convert:hover {\n",
              "      background-color: #E2EBFA;\n",
              "      box-shadow: 0px 1px 2px rgba(60, 64, 67, 0.3), 0px 1px 3px 1px rgba(60, 64, 67, 0.15);\n",
              "      fill: #174EA6;\n",
              "    }\n",
              "\n",
              "    [theme=dark] .colab-df-convert {\n",
              "      background-color: #3B4455;\n",
              "      fill: #D2E3FC;\n",
              "    }\n",
              "\n",
              "    [theme=dark] .colab-df-convert:hover {\n",
              "      background-color: #434B5C;\n",
              "      box-shadow: 0px 1px 3px 1px rgba(0, 0, 0, 0.15);\n",
              "      filter: drop-shadow(0px 1px 2px rgba(0, 0, 0, 0.3));\n",
              "      fill: #FFFFFF;\n",
              "    }\n",
              "  </style>\n",
              "\n",
              "      <script>\n",
              "        const buttonEl =\n",
              "          document.querySelector('#df-e8b1b317-83ee-4b72-a51e-7be387f18e48 button.colab-df-convert');\n",
              "        buttonEl.style.display =\n",
              "          google.colab.kernel.accessAllowed ? 'block' : 'none';\n",
              "\n",
              "        async function convertToInteractive(key) {\n",
              "          const element = document.querySelector('#df-e8b1b317-83ee-4b72-a51e-7be387f18e48');\n",
              "          const dataTable =\n",
              "            await google.colab.kernel.invokeFunction('convertToInteractive',\n",
              "                                                     [key], {});\n",
              "          if (!dataTable) return;\n",
              "\n",
              "          const docLinkHtml = 'Like what you see? Visit the ' +\n",
              "            '<a target=\"_blank\" href=https://colab.research.google.com/notebooks/data_table.ipynb>data table notebook</a>'\n",
              "            + ' to learn more about interactive tables.';\n",
              "          element.innerHTML = '';\n",
              "          dataTable['output_type'] = 'display_data';\n",
              "          await google.colab.output.renderOutput(dataTable, element);\n",
              "          const docLink = document.createElement('div');\n",
              "          docLink.innerHTML = docLinkHtml;\n",
              "          element.appendChild(docLink);\n",
              "        }\n",
              "      </script>\n",
              "    </div>\n",
              "  </div>\n"
            ]
          },
          "metadata": {},
          "execution_count": 5
        }
      ],
      "source": [
        "# откроем файл\n",
        "data = pd.read_csv('Churn.csv')\n",
        "\n",
        "# изучим основную информацию о данных\n",
        "print(data.info())\n",
        "data.head()"
      ]
    },
    {
      "cell_type": "markdown",
      "metadata": {
        "id": "lcwsT32eQJ8Q"
      },
      "source": [
        "### Предобработка данных"
      ]
    },
    {
      "cell_type": "markdown",
      "metadata": {
        "id": "bT7RarxbQJ8Q"
      },
      "source": [
        "Видим, что с данными практически всё в порядке. Приведем наименования столбцов к нижнему регистру, данные столбца \"Tenure\" приведем к целочисленному значению. Проверим данные на наличие явных дубликатов. Видим, что дубликатов нет.\n",
        "\n",
        "Пропуски есть только в столбце \"tenure\", 9% от всех строк, в ячейке ниже посмотрим на эти объекты. Видим, что это достаточно активные пользователи банковских услуг. Сложно предположить, связаны ли пропуски с тем, что человек является клиентом банка менее 1 года. Или пропуски появились случайно/в результате технической ошибки и т.п. Корректно заполнить данные пропуски не представляется возможным, поэтому удалим данные строки."
      ]
    },
    {
      "cell_type": "code",
      "execution_count": 6,
      "metadata": {
        "colab": {
          "base_uri": "https://localhost:8080/"
        },
        "id": "cYht9ak1QJ8Q",
        "outputId": "e56205f8-2655-427a-ec50-06a51bcdf63a"
      },
      "outputs": [
        {
          "output_type": "execute_result",
          "data": {
            "text/plain": [
              "0"
            ]
          },
          "metadata": {},
          "execution_count": 6
        }
      ],
      "source": [
        "# переименуем названия столбцов - приведем к нижнему регистру\n",
        "data.columns = data.columns.str.lower()\n",
        "\n",
        "# проверим датасет на наличие явных дубликатов\n",
        "data.duplicated().sum()"
      ]
    },
    {
      "cell_type": "code",
      "execution_count": 7,
      "metadata": {
        "colab": {
          "base_uri": "https://localhost:8080/",
          "height": 206
        },
        "id": "Ndc3zWtaQJ8Q",
        "outputId": "a624d82e-0999-43ed-95f5-ae5aafa70c9a"
      },
      "outputs": [
        {
          "output_type": "execute_result",
          "data": {
            "text/plain": [
              "    rownumber  customerid    surname  creditscore geography  gender  age  \\\n",
              "30         31    15589475    Azikiwe          591     Spain  Female   39   \n",
              "48         49    15766205        Yin          550   Germany    Male   38   \n",
              "51         52    15768193  Trevisani          585   Germany    Male   36   \n",
              "53         54    15702298   Parkhill          655   Germany    Male   41   \n",
              "60         61    15651280     Hunter          742   Germany    Male   35   \n",
              "\n",
              "    tenure    balance  numofproducts  hascrcard  isactivemember  \\\n",
              "30     NaN       0.00              3          1               0   \n",
              "48     NaN  103391.38              1          0               1   \n",
              "51     NaN  146050.97              2          0               0   \n",
              "53     NaN  125561.97              1          0               0   \n",
              "60     NaN  136857.00              1          0               0   \n",
              "\n",
              "    estimatedsalary  exited  \n",
              "30        140469.38       1  \n",
              "48         90878.13       0  \n",
              "51         86424.57       0  \n",
              "53        164040.94       1  \n",
              "60         84509.57       0  "
            ],
            "text/html": [
              "\n",
              "\n",
              "  <div id=\"df-be4851d9-7fdf-48e5-bde9-4a02ed8727dc\">\n",
              "    <div class=\"colab-df-container\">\n",
              "      <div>\n",
              "<style scoped>\n",
              "    .dataframe tbody tr th:only-of-type {\n",
              "        vertical-align: middle;\n",
              "    }\n",
              "\n",
              "    .dataframe tbody tr th {\n",
              "        vertical-align: top;\n",
              "    }\n",
              "\n",
              "    .dataframe thead th {\n",
              "        text-align: right;\n",
              "    }\n",
              "</style>\n",
              "<table border=\"1\" class=\"dataframe\">\n",
              "  <thead>\n",
              "    <tr style=\"text-align: right;\">\n",
              "      <th></th>\n",
              "      <th>rownumber</th>\n",
              "      <th>customerid</th>\n",
              "      <th>surname</th>\n",
              "      <th>creditscore</th>\n",
              "      <th>geography</th>\n",
              "      <th>gender</th>\n",
              "      <th>age</th>\n",
              "      <th>tenure</th>\n",
              "      <th>balance</th>\n",
              "      <th>numofproducts</th>\n",
              "      <th>hascrcard</th>\n",
              "      <th>isactivemember</th>\n",
              "      <th>estimatedsalary</th>\n",
              "      <th>exited</th>\n",
              "    </tr>\n",
              "  </thead>\n",
              "  <tbody>\n",
              "    <tr>\n",
              "      <th>30</th>\n",
              "      <td>31</td>\n",
              "      <td>15589475</td>\n",
              "      <td>Azikiwe</td>\n",
              "      <td>591</td>\n",
              "      <td>Spain</td>\n",
              "      <td>Female</td>\n",
              "      <td>39</td>\n",
              "      <td>NaN</td>\n",
              "      <td>0.00</td>\n",
              "      <td>3</td>\n",
              "      <td>1</td>\n",
              "      <td>0</td>\n",
              "      <td>140469.38</td>\n",
              "      <td>1</td>\n",
              "    </tr>\n",
              "    <tr>\n",
              "      <th>48</th>\n",
              "      <td>49</td>\n",
              "      <td>15766205</td>\n",
              "      <td>Yin</td>\n",
              "      <td>550</td>\n",
              "      <td>Germany</td>\n",
              "      <td>Male</td>\n",
              "      <td>38</td>\n",
              "      <td>NaN</td>\n",
              "      <td>103391.38</td>\n",
              "      <td>1</td>\n",
              "      <td>0</td>\n",
              "      <td>1</td>\n",
              "      <td>90878.13</td>\n",
              "      <td>0</td>\n",
              "    </tr>\n",
              "    <tr>\n",
              "      <th>51</th>\n",
              "      <td>52</td>\n",
              "      <td>15768193</td>\n",
              "      <td>Trevisani</td>\n",
              "      <td>585</td>\n",
              "      <td>Germany</td>\n",
              "      <td>Male</td>\n",
              "      <td>36</td>\n",
              "      <td>NaN</td>\n",
              "      <td>146050.97</td>\n",
              "      <td>2</td>\n",
              "      <td>0</td>\n",
              "      <td>0</td>\n",
              "      <td>86424.57</td>\n",
              "      <td>0</td>\n",
              "    </tr>\n",
              "    <tr>\n",
              "      <th>53</th>\n",
              "      <td>54</td>\n",
              "      <td>15702298</td>\n",
              "      <td>Parkhill</td>\n",
              "      <td>655</td>\n",
              "      <td>Germany</td>\n",
              "      <td>Male</td>\n",
              "      <td>41</td>\n",
              "      <td>NaN</td>\n",
              "      <td>125561.97</td>\n",
              "      <td>1</td>\n",
              "      <td>0</td>\n",
              "      <td>0</td>\n",
              "      <td>164040.94</td>\n",
              "      <td>1</td>\n",
              "    </tr>\n",
              "    <tr>\n",
              "      <th>60</th>\n",
              "      <td>61</td>\n",
              "      <td>15651280</td>\n",
              "      <td>Hunter</td>\n",
              "      <td>742</td>\n",
              "      <td>Germany</td>\n",
              "      <td>Male</td>\n",
              "      <td>35</td>\n",
              "      <td>NaN</td>\n",
              "      <td>136857.00</td>\n",
              "      <td>1</td>\n",
              "      <td>0</td>\n",
              "      <td>0</td>\n",
              "      <td>84509.57</td>\n",
              "      <td>0</td>\n",
              "    </tr>\n",
              "  </tbody>\n",
              "</table>\n",
              "</div>\n",
              "      <button class=\"colab-df-convert\" onclick=\"convertToInteractive('df-be4851d9-7fdf-48e5-bde9-4a02ed8727dc')\"\n",
              "              title=\"Convert this dataframe to an interactive table.\"\n",
              "              style=\"display:none;\">\n",
              "\n",
              "  <svg xmlns=\"http://www.w3.org/2000/svg\" height=\"24px\"viewBox=\"0 0 24 24\"\n",
              "       width=\"24px\">\n",
              "    <path d=\"M0 0h24v24H0V0z\" fill=\"none\"/>\n",
              "    <path d=\"M18.56 5.44l.94 2.06.94-2.06 2.06-.94-2.06-.94-.94-2.06-.94 2.06-2.06.94zm-11 1L8.5 8.5l.94-2.06 2.06-.94-2.06-.94L8.5 2.5l-.94 2.06-2.06.94zm10 10l.94 2.06.94-2.06 2.06-.94-2.06-.94-.94-2.06-.94 2.06-2.06.94z\"/><path d=\"M17.41 7.96l-1.37-1.37c-.4-.4-.92-.59-1.43-.59-.52 0-1.04.2-1.43.59L10.3 9.45l-7.72 7.72c-.78.78-.78 2.05 0 2.83L4 21.41c.39.39.9.59 1.41.59.51 0 1.02-.2 1.41-.59l7.78-7.78 2.81-2.81c.8-.78.8-2.07 0-2.86zM5.41 20L4 18.59l7.72-7.72 1.47 1.35L5.41 20z\"/>\n",
              "  </svg>\n",
              "      </button>\n",
              "\n",
              "\n",
              "\n",
              "    <div id=\"df-d0245c76-1a7e-421b-a69c-eb9a186cab2c\">\n",
              "      <button class=\"colab-df-quickchart\" onclick=\"quickchart('df-d0245c76-1a7e-421b-a69c-eb9a186cab2c')\"\n",
              "              title=\"Suggest charts.\"\n",
              "              style=\"display:none;\">\n",
              "\n",
              "<svg xmlns=\"http://www.w3.org/2000/svg\" height=\"24px\"viewBox=\"0 0 24 24\"\n",
              "     width=\"24px\">\n",
              "    <g>\n",
              "        <path d=\"M19 3H5c-1.1 0-2 .9-2 2v14c0 1.1.9 2 2 2h14c1.1 0 2-.9 2-2V5c0-1.1-.9-2-2-2zM9 17H7v-7h2v7zm4 0h-2V7h2v10zm4 0h-2v-4h2v4z\"/>\n",
              "    </g>\n",
              "</svg>\n",
              "      </button>\n",
              "    </div>\n",
              "\n",
              "<style>\n",
              "  .colab-df-quickchart {\n",
              "    background-color: #E8F0FE;\n",
              "    border: none;\n",
              "    border-radius: 50%;\n",
              "    cursor: pointer;\n",
              "    display: none;\n",
              "    fill: #1967D2;\n",
              "    height: 32px;\n",
              "    padding: 0 0 0 0;\n",
              "    width: 32px;\n",
              "  }\n",
              "\n",
              "  .colab-df-quickchart:hover {\n",
              "    background-color: #E2EBFA;\n",
              "    box-shadow: 0px 1px 2px rgba(60, 64, 67, 0.3), 0px 1px 3px 1px rgba(60, 64, 67, 0.15);\n",
              "    fill: #174EA6;\n",
              "  }\n",
              "\n",
              "  [theme=dark] .colab-df-quickchart {\n",
              "    background-color: #3B4455;\n",
              "    fill: #D2E3FC;\n",
              "  }\n",
              "\n",
              "  [theme=dark] .colab-df-quickchart:hover {\n",
              "    background-color: #434B5C;\n",
              "    box-shadow: 0px 1px 3px 1px rgba(0, 0, 0, 0.15);\n",
              "    filter: drop-shadow(0px 1px 2px rgba(0, 0, 0, 0.3));\n",
              "    fill: #FFFFFF;\n",
              "  }\n",
              "</style>\n",
              "\n",
              "    <script>\n",
              "      async function quickchart(key) {\n",
              "        const containerElement = document.querySelector('#' + key);\n",
              "        const charts = await google.colab.kernel.invokeFunction(\n",
              "            'suggestCharts', [key], {});\n",
              "      }\n",
              "    </script>\n",
              "\n",
              "      <script>\n",
              "\n",
              "function displayQuickchartButton(domScope) {\n",
              "  let quickchartButtonEl =\n",
              "    domScope.querySelector('#df-d0245c76-1a7e-421b-a69c-eb9a186cab2c button.colab-df-quickchart');\n",
              "  quickchartButtonEl.style.display =\n",
              "    google.colab.kernel.accessAllowed ? 'block' : 'none';\n",
              "}\n",
              "\n",
              "        displayQuickchartButton(document);\n",
              "      </script>\n",
              "      <style>\n",
              "    .colab-df-container {\n",
              "      display:flex;\n",
              "      flex-wrap:wrap;\n",
              "      gap: 12px;\n",
              "    }\n",
              "\n",
              "    .colab-df-convert {\n",
              "      background-color: #E8F0FE;\n",
              "      border: none;\n",
              "      border-radius: 50%;\n",
              "      cursor: pointer;\n",
              "      display: none;\n",
              "      fill: #1967D2;\n",
              "      height: 32px;\n",
              "      padding: 0 0 0 0;\n",
              "      width: 32px;\n",
              "    }\n",
              "\n",
              "    .colab-df-convert:hover {\n",
              "      background-color: #E2EBFA;\n",
              "      box-shadow: 0px 1px 2px rgba(60, 64, 67, 0.3), 0px 1px 3px 1px rgba(60, 64, 67, 0.15);\n",
              "      fill: #174EA6;\n",
              "    }\n",
              "\n",
              "    [theme=dark] .colab-df-convert {\n",
              "      background-color: #3B4455;\n",
              "      fill: #D2E3FC;\n",
              "    }\n",
              "\n",
              "    [theme=dark] .colab-df-convert:hover {\n",
              "      background-color: #434B5C;\n",
              "      box-shadow: 0px 1px 3px 1px rgba(0, 0, 0, 0.15);\n",
              "      filter: drop-shadow(0px 1px 2px rgba(0, 0, 0, 0.3));\n",
              "      fill: #FFFFFF;\n",
              "    }\n",
              "  </style>\n",
              "\n",
              "      <script>\n",
              "        const buttonEl =\n",
              "          document.querySelector('#df-be4851d9-7fdf-48e5-bde9-4a02ed8727dc button.colab-df-convert');\n",
              "        buttonEl.style.display =\n",
              "          google.colab.kernel.accessAllowed ? 'block' : 'none';\n",
              "\n",
              "        async function convertToInteractive(key) {\n",
              "          const element = document.querySelector('#df-be4851d9-7fdf-48e5-bde9-4a02ed8727dc');\n",
              "          const dataTable =\n",
              "            await google.colab.kernel.invokeFunction('convertToInteractive',\n",
              "                                                     [key], {});\n",
              "          if (!dataTable) return;\n",
              "\n",
              "          const docLinkHtml = 'Like what you see? Visit the ' +\n",
              "            '<a target=\"_blank\" href=https://colab.research.google.com/notebooks/data_table.ipynb>data table notebook</a>'\n",
              "            + ' to learn more about interactive tables.';\n",
              "          element.innerHTML = '';\n",
              "          dataTable['output_type'] = 'display_data';\n",
              "          await google.colab.output.renderOutput(dataTable, element);\n",
              "          const docLink = document.createElement('div');\n",
              "          docLink.innerHTML = docLinkHtml;\n",
              "          element.appendChild(docLink);\n",
              "        }\n",
              "      </script>\n",
              "    </div>\n",
              "  </div>\n"
            ]
          },
          "metadata": {},
          "execution_count": 7
        }
      ],
      "source": [
        "# проанализируем строки с пропусками\n",
        "data.loc[data['tenure'].isna()].head()"
      ]
    },
    {
      "cell_type": "code",
      "execution_count": 8,
      "metadata": {
        "colab": {
          "base_uri": "https://localhost:8080/"
        },
        "id": "K2Sthg5fQJ8R",
        "outputId": "d9008a22-bc46-4526-f20c-ae7fe14604da"
      },
      "outputs": [
        {
          "output_type": "stream",
          "name": "stdout",
          "text": [
            "<class 'pandas.core.frame.DataFrame'>\n",
            "Int64Index: 9091 entries, 0 to 9998\n",
            "Data columns (total 14 columns):\n",
            " #   Column           Non-Null Count  Dtype  \n",
            "---  ------           --------------  -----  \n",
            " 0   rownumber        9091 non-null   int64  \n",
            " 1   customerid       9091 non-null   int64  \n",
            " 2   surname          9091 non-null   object \n",
            " 3   creditscore      9091 non-null   int64  \n",
            " 4   geography        9091 non-null   object \n",
            " 5   gender           9091 non-null   object \n",
            " 6   age              9091 non-null   int64  \n",
            " 7   tenure           9091 non-null   Int64  \n",
            " 8   balance          9091 non-null   float64\n",
            " 9   numofproducts    9091 non-null   int64  \n",
            " 10  hascrcard        9091 non-null   int64  \n",
            " 11  isactivemember   9091 non-null   int64  \n",
            " 12  estimatedsalary  9091 non-null   float64\n",
            " 13  exited           9091 non-null   int64  \n",
            "dtypes: Int64(1), float64(2), int64(8), object(3)\n",
            "memory usage: 1.0+ MB\n"
          ]
        }
      ],
      "source": [
        "# переведем данные столбца \"Tenure\" к целочисленному значению и заполним пропуски нулями\n",
        "data['tenure'] = data['tenure'].astype('Int64')\n",
        "\n",
        "# удалим пропуски\n",
        "data = data.dropna(subset=['tenure'])\n",
        "\n",
        "# проверим результат\n",
        "data.info()"
      ]
    },
    {
      "cell_type": "markdown",
      "metadata": {
        "id": "uEl6AyE4QJ8R"
      },
      "source": [
        "### Подготовка признаков"
      ]
    },
    {
      "cell_type": "markdown",
      "metadata": {
        "id": "UtV_vKKuQJ8R"
      },
      "source": [
        "В таблице есть несколько столбцов, которые будут мешать модели обучаться - от их значения результат никак не зависит. Это столбцы \"RowNumber — индекс строки в данных\", \"CustomerId — уникальный идентификатор клиента\", \"Surname — фамилия\". Удалим эти столбцы."
      ]
    },
    {
      "cell_type": "code",
      "execution_count": 9,
      "metadata": {
        "colab": {
          "base_uri": "https://localhost:8080/",
          "height": 206
        },
        "id": "kaVyxXNlQJ8R",
        "outputId": "6c0349f3-f001-4183-a773-cdce16cd7d94"
      },
      "outputs": [
        {
          "output_type": "execute_result",
          "data": {
            "text/plain": [
              "   creditscore geography  gender  age  tenure    balance  numofproducts  \\\n",
              "0          619    France  Female   42       2       0.00              1   \n",
              "1          608     Spain  Female   41       1   83807.86              1   \n",
              "2          502    France  Female   42       8  159660.80              3   \n",
              "3          699    France  Female   39       1       0.00              2   \n",
              "4          850     Spain  Female   43       2  125510.82              1   \n",
              "\n",
              "   hascrcard  isactivemember  estimatedsalary  exited  \n",
              "0          1               1        101348.88       1  \n",
              "1          0               1        112542.58       0  \n",
              "2          1               0        113931.57       1  \n",
              "3          0               0         93826.63       0  \n",
              "4          1               1         79084.10       0  "
            ],
            "text/html": [
              "\n",
              "\n",
              "  <div id=\"df-f273a008-d1c0-4ba2-a198-1abf62612704\">\n",
              "    <div class=\"colab-df-container\">\n",
              "      <div>\n",
              "<style scoped>\n",
              "    .dataframe tbody tr th:only-of-type {\n",
              "        vertical-align: middle;\n",
              "    }\n",
              "\n",
              "    .dataframe tbody tr th {\n",
              "        vertical-align: top;\n",
              "    }\n",
              "\n",
              "    .dataframe thead th {\n",
              "        text-align: right;\n",
              "    }\n",
              "</style>\n",
              "<table border=\"1\" class=\"dataframe\">\n",
              "  <thead>\n",
              "    <tr style=\"text-align: right;\">\n",
              "      <th></th>\n",
              "      <th>creditscore</th>\n",
              "      <th>geography</th>\n",
              "      <th>gender</th>\n",
              "      <th>age</th>\n",
              "      <th>tenure</th>\n",
              "      <th>balance</th>\n",
              "      <th>numofproducts</th>\n",
              "      <th>hascrcard</th>\n",
              "      <th>isactivemember</th>\n",
              "      <th>estimatedsalary</th>\n",
              "      <th>exited</th>\n",
              "    </tr>\n",
              "  </thead>\n",
              "  <tbody>\n",
              "    <tr>\n",
              "      <th>0</th>\n",
              "      <td>619</td>\n",
              "      <td>France</td>\n",
              "      <td>Female</td>\n",
              "      <td>42</td>\n",
              "      <td>2</td>\n",
              "      <td>0.00</td>\n",
              "      <td>1</td>\n",
              "      <td>1</td>\n",
              "      <td>1</td>\n",
              "      <td>101348.88</td>\n",
              "      <td>1</td>\n",
              "    </tr>\n",
              "    <tr>\n",
              "      <th>1</th>\n",
              "      <td>608</td>\n",
              "      <td>Spain</td>\n",
              "      <td>Female</td>\n",
              "      <td>41</td>\n",
              "      <td>1</td>\n",
              "      <td>83807.86</td>\n",
              "      <td>1</td>\n",
              "      <td>0</td>\n",
              "      <td>1</td>\n",
              "      <td>112542.58</td>\n",
              "      <td>0</td>\n",
              "    </tr>\n",
              "    <tr>\n",
              "      <th>2</th>\n",
              "      <td>502</td>\n",
              "      <td>France</td>\n",
              "      <td>Female</td>\n",
              "      <td>42</td>\n",
              "      <td>8</td>\n",
              "      <td>159660.80</td>\n",
              "      <td>3</td>\n",
              "      <td>1</td>\n",
              "      <td>0</td>\n",
              "      <td>113931.57</td>\n",
              "      <td>1</td>\n",
              "    </tr>\n",
              "    <tr>\n",
              "      <th>3</th>\n",
              "      <td>699</td>\n",
              "      <td>France</td>\n",
              "      <td>Female</td>\n",
              "      <td>39</td>\n",
              "      <td>1</td>\n",
              "      <td>0.00</td>\n",
              "      <td>2</td>\n",
              "      <td>0</td>\n",
              "      <td>0</td>\n",
              "      <td>93826.63</td>\n",
              "      <td>0</td>\n",
              "    </tr>\n",
              "    <tr>\n",
              "      <th>4</th>\n",
              "      <td>850</td>\n",
              "      <td>Spain</td>\n",
              "      <td>Female</td>\n",
              "      <td>43</td>\n",
              "      <td>2</td>\n",
              "      <td>125510.82</td>\n",
              "      <td>1</td>\n",
              "      <td>1</td>\n",
              "      <td>1</td>\n",
              "      <td>79084.10</td>\n",
              "      <td>0</td>\n",
              "    </tr>\n",
              "  </tbody>\n",
              "</table>\n",
              "</div>\n",
              "      <button class=\"colab-df-convert\" onclick=\"convertToInteractive('df-f273a008-d1c0-4ba2-a198-1abf62612704')\"\n",
              "              title=\"Convert this dataframe to an interactive table.\"\n",
              "              style=\"display:none;\">\n",
              "\n",
              "  <svg xmlns=\"http://www.w3.org/2000/svg\" height=\"24px\"viewBox=\"0 0 24 24\"\n",
              "       width=\"24px\">\n",
              "    <path d=\"M0 0h24v24H0V0z\" fill=\"none\"/>\n",
              "    <path d=\"M18.56 5.44l.94 2.06.94-2.06 2.06-.94-2.06-.94-.94-2.06-.94 2.06-2.06.94zm-11 1L8.5 8.5l.94-2.06 2.06-.94-2.06-.94L8.5 2.5l-.94 2.06-2.06.94zm10 10l.94 2.06.94-2.06 2.06-.94-2.06-.94-.94-2.06-.94 2.06-2.06.94z\"/><path d=\"M17.41 7.96l-1.37-1.37c-.4-.4-.92-.59-1.43-.59-.52 0-1.04.2-1.43.59L10.3 9.45l-7.72 7.72c-.78.78-.78 2.05 0 2.83L4 21.41c.39.39.9.59 1.41.59.51 0 1.02-.2 1.41-.59l7.78-7.78 2.81-2.81c.8-.78.8-2.07 0-2.86zM5.41 20L4 18.59l7.72-7.72 1.47 1.35L5.41 20z\"/>\n",
              "  </svg>\n",
              "      </button>\n",
              "\n",
              "\n",
              "\n",
              "    <div id=\"df-129bbb16-3f66-476e-8feb-f54613a3e085\">\n",
              "      <button class=\"colab-df-quickchart\" onclick=\"quickchart('df-129bbb16-3f66-476e-8feb-f54613a3e085')\"\n",
              "              title=\"Suggest charts.\"\n",
              "              style=\"display:none;\">\n",
              "\n",
              "<svg xmlns=\"http://www.w3.org/2000/svg\" height=\"24px\"viewBox=\"0 0 24 24\"\n",
              "     width=\"24px\">\n",
              "    <g>\n",
              "        <path d=\"M19 3H5c-1.1 0-2 .9-2 2v14c0 1.1.9 2 2 2h14c1.1 0 2-.9 2-2V5c0-1.1-.9-2-2-2zM9 17H7v-7h2v7zm4 0h-2V7h2v10zm4 0h-2v-4h2v4z\"/>\n",
              "    </g>\n",
              "</svg>\n",
              "      </button>\n",
              "    </div>\n",
              "\n",
              "<style>\n",
              "  .colab-df-quickchart {\n",
              "    background-color: #E8F0FE;\n",
              "    border: none;\n",
              "    border-radius: 50%;\n",
              "    cursor: pointer;\n",
              "    display: none;\n",
              "    fill: #1967D2;\n",
              "    height: 32px;\n",
              "    padding: 0 0 0 0;\n",
              "    width: 32px;\n",
              "  }\n",
              "\n",
              "  .colab-df-quickchart:hover {\n",
              "    background-color: #E2EBFA;\n",
              "    box-shadow: 0px 1px 2px rgba(60, 64, 67, 0.3), 0px 1px 3px 1px rgba(60, 64, 67, 0.15);\n",
              "    fill: #174EA6;\n",
              "  }\n",
              "\n",
              "  [theme=dark] .colab-df-quickchart {\n",
              "    background-color: #3B4455;\n",
              "    fill: #D2E3FC;\n",
              "  }\n",
              "\n",
              "  [theme=dark] .colab-df-quickchart:hover {\n",
              "    background-color: #434B5C;\n",
              "    box-shadow: 0px 1px 3px 1px rgba(0, 0, 0, 0.15);\n",
              "    filter: drop-shadow(0px 1px 2px rgba(0, 0, 0, 0.3));\n",
              "    fill: #FFFFFF;\n",
              "  }\n",
              "</style>\n",
              "\n",
              "    <script>\n",
              "      async function quickchart(key) {\n",
              "        const containerElement = document.querySelector('#' + key);\n",
              "        const charts = await google.colab.kernel.invokeFunction(\n",
              "            'suggestCharts', [key], {});\n",
              "      }\n",
              "    </script>\n",
              "\n",
              "      <script>\n",
              "\n",
              "function displayQuickchartButton(domScope) {\n",
              "  let quickchartButtonEl =\n",
              "    domScope.querySelector('#df-129bbb16-3f66-476e-8feb-f54613a3e085 button.colab-df-quickchart');\n",
              "  quickchartButtonEl.style.display =\n",
              "    google.colab.kernel.accessAllowed ? 'block' : 'none';\n",
              "}\n",
              "\n",
              "        displayQuickchartButton(document);\n",
              "      </script>\n",
              "      <style>\n",
              "    .colab-df-container {\n",
              "      display:flex;\n",
              "      flex-wrap:wrap;\n",
              "      gap: 12px;\n",
              "    }\n",
              "\n",
              "    .colab-df-convert {\n",
              "      background-color: #E8F0FE;\n",
              "      border: none;\n",
              "      border-radius: 50%;\n",
              "      cursor: pointer;\n",
              "      display: none;\n",
              "      fill: #1967D2;\n",
              "      height: 32px;\n",
              "      padding: 0 0 0 0;\n",
              "      width: 32px;\n",
              "    }\n",
              "\n",
              "    .colab-df-convert:hover {\n",
              "      background-color: #E2EBFA;\n",
              "      box-shadow: 0px 1px 2px rgba(60, 64, 67, 0.3), 0px 1px 3px 1px rgba(60, 64, 67, 0.15);\n",
              "      fill: #174EA6;\n",
              "    }\n",
              "\n",
              "    [theme=dark] .colab-df-convert {\n",
              "      background-color: #3B4455;\n",
              "      fill: #D2E3FC;\n",
              "    }\n",
              "\n",
              "    [theme=dark] .colab-df-convert:hover {\n",
              "      background-color: #434B5C;\n",
              "      box-shadow: 0px 1px 3px 1px rgba(0, 0, 0, 0.15);\n",
              "      filter: drop-shadow(0px 1px 2px rgba(0, 0, 0, 0.3));\n",
              "      fill: #FFFFFF;\n",
              "    }\n",
              "  </style>\n",
              "\n",
              "      <script>\n",
              "        const buttonEl =\n",
              "          document.querySelector('#df-f273a008-d1c0-4ba2-a198-1abf62612704 button.colab-df-convert');\n",
              "        buttonEl.style.display =\n",
              "          google.colab.kernel.accessAllowed ? 'block' : 'none';\n",
              "\n",
              "        async function convertToInteractive(key) {\n",
              "          const element = document.querySelector('#df-f273a008-d1c0-4ba2-a198-1abf62612704');\n",
              "          const dataTable =\n",
              "            await google.colab.kernel.invokeFunction('convertToInteractive',\n",
              "                                                     [key], {});\n",
              "          if (!dataTable) return;\n",
              "\n",
              "          const docLinkHtml = 'Like what you see? Visit the ' +\n",
              "            '<a target=\"_blank\" href=https://colab.research.google.com/notebooks/data_table.ipynb>data table notebook</a>'\n",
              "            + ' to learn more about interactive tables.';\n",
              "          element.innerHTML = '';\n",
              "          dataTable['output_type'] = 'display_data';\n",
              "          await google.colab.output.renderOutput(dataTable, element);\n",
              "          const docLink = document.createElement('div');\n",
              "          docLink.innerHTML = docLinkHtml;\n",
              "          element.appendChild(docLink);\n",
              "        }\n",
              "      </script>\n",
              "    </div>\n",
              "  </div>\n"
            ]
          },
          "metadata": {},
          "execution_count": 9
        }
      ],
      "source": [
        "# удалим столбцы 'rownumber', 'customerid', 'surname'\n",
        "df = data.drop(columns = ['rownumber', 'customerid', 'surname'])\n",
        "\n",
        "# посмотрим на получившуюся таблицу\n",
        "df.head()"
      ]
    },
    {
      "cell_type": "markdown",
      "metadata": {
        "id": "oBYMeEMmQJ8S"
      },
      "source": [
        "Целью нашего исследования является прогноз, уйдёт клиент из банка в ближайшее время (значение целевого признака = 1) или нет (значение целевого признака = 0). Таким образом, нам необходимо решить **задачу классификации**. Для этого обучим 3 вида моделей: решающее дерево, случайный лес, логистическая регрессия. Перед обучением подготовим признаки:\n",
        "- выполним кодирование категориальных признаков методом OHE для всех типов моделей.\n",
        "- отмасштабируем численные признаки методом стандартизации - сделаем это после разделения данных на тренировочную, валидационную и тестовую выборки"
      ]
    },
    {
      "cell_type": "code",
      "execution_count": 10,
      "metadata": {
        "id": "HhC_eXBLQJ8S"
      },
      "outputs": [],
      "source": [
        "# кодирование техникой OHE\n",
        "df_ohe = pd.get_dummies(df, drop_first=True)"
      ]
    },
    {
      "cell_type": "markdown",
      "metadata": {
        "id": "TKta5V27QJ8T"
      },
      "source": [
        "Разделим исходные данные на обучающую, валидационную и тестовую выборки. Размеры тестового и валидационного наборов обычно равны. Таким образом, нам необходимо разбить данные в соотношении 3:1:1. Или 60% - обучающая выборка, и по 20% - тестовая и валидационная."
      ]
    },
    {
      "cell_type": "code",
      "execution_count": 11,
      "metadata": {
        "id": "NhAr7WMRQJ8T"
      },
      "outputs": [],
      "source": [
        "# разделим выборку на 2 части: целевой признак и остальные признаки\n",
        "features = df_ohe.drop(['exited'], axis=1)\n",
        "target = df_ohe['exited']"
      ]
    },
    {
      "cell_type": "code",
      "execution_count": 12,
      "metadata": {
        "scrolled": true,
        "colab": {
          "base_uri": "https://localhost:8080/"
        },
        "id": "xeu-09anQJ8T",
        "outputId": "700bc28a-50f1-40b8-a6d3-7faa40cfb4a4"
      },
      "outputs": [
        {
          "output_type": "stream",
          "name": "stdout",
          "text": [
            "(5454, 11)\n",
            "(1818, 11)\n"
          ]
        },
        {
          "output_type": "execute_result",
          "data": {
            "text/plain": [
              "(1819, 11)"
            ]
          },
          "metadata": {},
          "execution_count": 12
        }
      ],
      "source": [
        "# разделим данные на 2 выборки: 40% тестовая и валидационная вместе взятые, и 60% обучающая\n",
        "features_train, features_test, target_train, target_test = \\\n",
        "    train_test_split(features, target, test_size=0.4, random_state=12345)\n",
        "\n",
        "# разделим 40% на тестовую и валидационную выборки\n",
        "features_test, features_valid, target_test, target_valid = \\\n",
        "    train_test_split(features_test, target_test, test_size=0.5, random_state=12345)\n",
        "\n",
        "# проверим размер получившихся выборок\n",
        "print(features_train.shape)\n",
        "print(features_test.shape)\n",
        "features_valid.shape"
      ]
    },
    {
      "cell_type": "code",
      "execution_count": 13,
      "metadata": {
        "id": "Efq6sUXsQJ8T"
      },
      "outputs": [],
      "source": [
        "# стандартизируем все численные признаки\n",
        "numeric = ['creditscore', 'age', 'tenure', 'balance', 'numofproducts', 'estimatedsalary']\n",
        "\n",
        "scaler = StandardScaler()\n",
        "scaler.fit(features_train[numeric])\n",
        "\n",
        "features_train[numeric] = scaler.transform(features_train[numeric])\n",
        "features_valid[numeric] = scaler.transform(features_valid[numeric])\n",
        "features_test[numeric] = scaler.transform(features_test[numeric])\n",
        "pd.set_option('chained_assignment', None)"
      ]
    },
    {
      "cell_type": "markdown",
      "metadata": {
        "id": "f7DR04U1QJ8U"
      },
      "source": [
        "## Исследование задачи"
      ]
    },
    {
      "cell_type": "markdown",
      "metadata": {
        "id": "0Y0VEvnQQJ8U"
      },
      "source": [
        "### Баланс классов"
      ]
    },
    {
      "cell_type": "markdown",
      "metadata": {
        "id": "q8DdHupVQJ8U"
      },
      "source": [
        "Проверим датасет на сбалансированность классов в таргете. Видим существенный дисбаланс. В данном разделе обучим модели без учета данного дисбаланса."
      ]
    },
    {
      "cell_type": "code",
      "execution_count": 14,
      "metadata": {
        "colab": {
          "base_uri": "https://localhost:8080/"
        },
        "id": "DkAv2OcIQJ8U",
        "outputId": "ba8a4b9b-4b55-41e2-a321-4fa94e87dfa1"
      },
      "outputs": [
        {
          "output_type": "stream",
          "name": "stdout",
          "text": [
            "Количество строк, клиент не ушел (класс 0): 7237\n",
            "Количество строк, клиент ушел (класс 1): 1854\n",
            "Процент класса \"1\": 20\n"
          ]
        }
      ],
      "source": [
        "# выведем количество строк в разных классах\n",
        "print('Количество строк, клиент не ушел (класс 0):', df.query('exited == 0').shape[0])\n",
        "print('Количество строк, клиент ушел (класс 1):', df.query('exited == 1').shape[0])\n",
        "print('Процент класса \"1\":', round((df.query('exited == 1').shape[0]) / df.shape[0] * 100))"
      ]
    },
    {
      "cell_type": "markdown",
      "metadata": {
        "id": "Oq34PRkIQJ8U"
      },
      "source": [
        "### Дерево решений"
      ]
    },
    {
      "cell_type": "markdown",
      "metadata": {
        "id": "-QYMXXXtQJ8V"
      },
      "source": [
        "Обучим модель \"Дерево решений\" на обучающей выборке и затем проверим F1-меру на валидационной выборке. Обучим несколько моделей с разной максимальной глубиной дерева и затем выберем наиболее адекватную из них. Чтобы автоматизировать процесс, сделаем это с помощью цикла."
      ]
    },
    {
      "cell_type": "code",
      "execution_count": 15,
      "metadata": {
        "colab": {
          "base_uri": "https://localhost:8080/"
        },
        "id": "UvpCYXtMQJ8V",
        "outputId": "c06a78a3-9c3b-4193-f98a-6971b879bea1"
      },
      "outputs": [
        {
          "output_type": "stream",
          "name": "stdout",
          "text": [
            "\n",
            "F1 лучшей модели дерева решений: 0.55348 . Максимальная глубина дерева: 7\n"
          ]
        }
      ],
      "source": [
        "# DecisionTreeClassifier\n",
        "best_tree = None\n",
        "best_result = 0\n",
        "best_depth = 0\n",
        "\n",
        "for depth in range(1, 11):\n",
        "    model = DecisionTreeClassifier(random_state=12345, max_depth=depth)\n",
        "    model.fit(features_train, target_train)\n",
        "    predictions_valid = model.predict(features_valid)\n",
        "    f1 = f1_score(target_valid, predictions_valid)\n",
        "    if f1 > best_result:\n",
        "        best_tree = model\n",
        "        best_result = f1\n",
        "        best_depth = depth\n",
        "print()\n",
        "print('F1 лучшей модели дерева решений:', best_result.round(5), '. Максимальная глубина дерева:', best_depth)"
      ]
    },
    {
      "cell_type": "code",
      "execution_count": 16,
      "metadata": {
        "colab": {
          "base_uri": "https://localhost:8080/"
        },
        "id": "-skcr5L8QJ8W",
        "outputId": "4c4c48d9-853a-4415-f2ad-7d44c96e2b83"
      },
      "outputs": [
        {
          "output_type": "stream",
          "name": "stdout",
          "text": [
            "AUC-ROC лучшей модели: 0.82802\n"
          ]
        }
      ],
      "source": [
        "# рассчитаем AUC-ROC лучшей модели\n",
        "model = DecisionTreeClassifier(random_state=12345, max_depth=7)\n",
        "model.fit(features_train, target_train)\n",
        "\n",
        "probabilities = model.predict_proba(features_valid)\n",
        "probabilities_one = probabilities[:, 1]\n",
        "print('AUC-ROC лучшей модели:', roc_auc_score(target_valid, probabilities_one).round(5))"
      ]
    },
    {
      "cell_type": "markdown",
      "metadata": {
        "id": "jZZFCt_sQJ8W"
      },
      "source": [
        "### Случайный лес"
      ]
    },
    {
      "cell_type": "markdown",
      "metadata": {
        "id": "teJxsYn2QJ8W"
      },
      "source": [
        "Обучим модель \"Случайный лес\" на обучающей выборке и затем проверим F1-меру на валидационной выборке. Обучим несколько моделей с разным количеством деревьев и максимальной глубиной деревьев и затем выберем наиболее адекватную из них. Чтобы автоматизировать процесс, сделаем это с помощью цикла."
      ]
    },
    {
      "cell_type": "code",
      "execution_count": 17,
      "metadata": {
        "colab": {
          "base_uri": "https://localhost:8080/"
        },
        "id": "K1qdyxGzQJ8W",
        "outputId": "a3303c70-d061-4ef4-dc66-f576d2d478bb"
      },
      "outputs": [
        {
          "output_type": "stream",
          "name": "stdout",
          "text": [
            "F1 лучшей модели случайного леса: 0.58228 . Количество деревьев: 20 . Максимальная глубина деревьев: 10\n"
          ]
        }
      ],
      "source": [
        "# RandomForestClassifier\n",
        "best_forest = None\n",
        "best_result = 0\n",
        "best_est = 0\n",
        "best_depth = 0\n",
        "\n",
        "for est in range(10, 51, 10):\n",
        "    for depth in range(7, 21):\n",
        "        model = RandomForestClassifier(random_state=12345, n_estimators=est, max_depth=depth)\n",
        "        model.fit(features_train, target_train)\n",
        "        predictions_valid = model.predict(features_valid)\n",
        "        f1 = f1_score(target_valid, predictions_valid)\n",
        "        if f1 > best_result:\n",
        "            best_forest = model\n",
        "            best_result = f1\n",
        "            best_est = est\n",
        "            best_depth = depth\n",
        "print('F1 лучшей модели случайного леса:', best_result.round(5), '. Количество деревьев:', best_est, '. Максимальная глубина деревьев:', best_depth)"
      ]
    },
    {
      "cell_type": "code",
      "execution_count": 18,
      "metadata": {
        "colab": {
          "base_uri": "https://localhost:8080/"
        },
        "id": "1WmbdJ3zQJ8X",
        "outputId": "1aa49b54-5912-4947-92b2-c6d8f105505d"
      },
      "outputs": [
        {
          "output_type": "stream",
          "name": "stdout",
          "text": [
            "AUC-ROC лучшей модели: 0.85599\n"
          ]
        }
      ],
      "source": [
        "# рассчитаем AUC-ROC лучшей модели\n",
        "model = RandomForestClassifier(random_state=12345, n_estimators=20, max_depth=10)\n",
        "model.fit(features_train, target_train)\n",
        "\n",
        "probabilities = model.predict_proba(features_valid)\n",
        "probabilities_one = probabilities[:, 1]\n",
        "print('AUC-ROC лучшей модели:', roc_auc_score(target_valid, probabilities_one).round(5))"
      ]
    },
    {
      "cell_type": "markdown",
      "metadata": {
        "id": "anMdFScSQJ8X"
      },
      "source": [
        "### Логистическая регрессия"
      ]
    },
    {
      "cell_type": "markdown",
      "metadata": {
        "id": "uUf3G40VQJ8X"
      },
      "source": [
        "Обучим модель \"Логистическая регрессия\" на обучающей выборке и затем проверим F1-меру на валидационной выборке. Попробуем изменить гиперпараметр max_iter (максимальное количество итераций обучения) на значения 100 (по умолчанию), 500, 1000. Видим, что качество модели не меняется, значение F1 остается одинаковым."
      ]
    },
    {
      "cell_type": "code",
      "execution_count": 19,
      "metadata": {
        "scrolled": true,
        "colab": {
          "base_uri": "https://localhost:8080/"
        },
        "id": "hb8KfD-kQJ8X",
        "outputId": "b0b07f87-2d63-494c-beec-528a13afd26a"
      },
      "outputs": [
        {
          "output_type": "stream",
          "name": "stdout",
          "text": [
            "F1 модели логистической регрессии: 0.3176\n"
          ]
        }
      ],
      "source": [
        "# LogisticRegression\n",
        "model = LogisticRegression(random_state=12345, solver='liblinear')\n",
        "model.fit(features_train, target_train)\n",
        "predictions_valid = model.predict(features_valid)\n",
        "f1 = f1_score(target_valid, predictions_valid)\n",
        "print('F1 модели логистической регрессии:', f1.round(5))"
      ]
    },
    {
      "cell_type": "code",
      "execution_count": 20,
      "metadata": {
        "colab": {
          "base_uri": "https://localhost:8080/"
        },
        "id": "ZjlGVetPQJ8Y",
        "outputId": "fce609b7-c468-4d9e-e6cf-3a7e077adf11"
      },
      "outputs": [
        {
          "output_type": "stream",
          "name": "stdout",
          "text": [
            "AUC-ROC модели: 0.78094\n"
          ]
        }
      ],
      "source": [
        "# рассчитаем AUC-ROC модели\n",
        "probabilities = model.predict_proba(features_valid)\n",
        "probabilities_one = probabilities[:, 1]\n",
        "print('AUC-ROC модели:', roc_auc_score(target_valid, probabilities_one).round(5))"
      ]
    },
    {
      "cell_type": "markdown",
      "metadata": {
        "id": "u3WbweV3QJ8Y"
      },
      "source": [
        "### Вывод"
      ]
    },
    {
      "cell_type": "markdown",
      "metadata": {
        "id": "m0bZVKUBQJ8Z"
      },
      "source": [
        "В данном разделе мы обучили 3 типа моделей на данных с учетом имеющегося дисбаланса - около 20% данных относятся к классу \"1\" и 80% - к классу \"0\". Метрика F1 модели логистической регрессии существенно ниже, чем у моделей дерева решений и случайного леса.\\\n",
        "**На валидационной выборке наилучшее качество (F1=0,58) продемонстрировала модель случайного леса с гиперпараметрами: количество деревьев - 20, максимальная глубина деревьев: 10. Площадь ROC-кривой лучшей модели составила 0,86.**"
      ]
    },
    {
      "cell_type": "markdown",
      "metadata": {
        "id": "vVu4NvNCQJ8Z"
      },
      "source": [
        "## Борьба с дисбалансом"
      ]
    },
    {
      "cell_type": "markdown",
      "metadata": {
        "id": "b29gdDxTQJ8Z"
      },
      "source": [
        "В первоначальных данных имеется существенный дисбаланс классов - 20%/80%. Для более качественного обучения моделей сбалансируем выборки и попробуем добиться значения F1 выше, чем 0,59. Для этого воспользуемся следующими методами балансировки:\n",
        "- взвешивание классов;\n",
        "- увеличение выборки класса \"1\". Для достижения баланса нам потребуется умножить количество объектов класса \"1\" на 4;\n",
        "- уменьшение выборки класса \"0\". Для достижения баланса нам потребуется умножить количество объектов класса \"0\" на 0,3."
      ]
    },
    {
      "cell_type": "markdown",
      "metadata": {
        "id": "oq3gbOkTQJ8Z"
      },
      "source": [
        "Для определения качества моделей рассчитаем не только метрику F1, но и построим ROC-кривую."
      ]
    },
    {
      "cell_type": "markdown",
      "metadata": {
        "id": "dyDDy2igQJ8Z"
      },
      "source": [
        "### Дерево решений"
      ]
    },
    {
      "cell_type": "code",
      "execution_count": 21,
      "metadata": {
        "colab": {
          "base_uri": "https://localhost:8080/",
          "height": 524
        },
        "id": "3L2sP3lLQJ8Z",
        "outputId": "b6d4577f-b9dd-4923-8bd5-8645cf145864"
      },
      "outputs": [
        {
          "output_type": "stream",
          "name": "stdout",
          "text": [
            "Взвешивание классов:\n",
            "F1 лучшей модели дерева решений: 0.56536 . Максимальная глубина дерева: 5\n",
            "AUC-ROC модели: 0.75764\n"
          ]
        },
        {
          "output_type": "display_data",
          "data": {
            "text/plain": [
              "<Figure size 640x480 with 1 Axes>"
            ],
            "image/png": "[encoded data removed]"
          },
          "metadata": {}
        }
      ],
      "source": [
        "# взвешивание классов\n",
        "\n",
        "best_tree = None\n",
        "best_result = 0\n",
        "best_depth = 0\n",
        "\n",
        "for depth in range(1, 11):\n",
        "    model = DecisionTreeClassifier(random_state=12345, max_depth=depth, class_weight='balanced')\n",
        "    model.fit(features_train, target_train)\n",
        "    predictions_valid = model.predict(features_valid)\n",
        "    f1 = f1_score(target_valid, predictions_valid)\n",
        "    if f1 > best_result:\n",
        "        best_tree = model\n",
        "        best_result = f1\n",
        "        best_depth = depth\n",
        "print('Взвешивание классов:')\n",
        "print('F1 лучшей модели дерева решений:', best_result.round(5), '. Максимальная глубина дерева:', best_depth)\n",
        "\n",
        "# рассчитаем AUC-ROC и построим ROC-кривую\n",
        "probabilities_valid = model.predict_proba(features_valid)\n",
        "probabilities_one_valid = probabilities_valid[:, 1]\n",
        "fpr, tpr, thresholds = roc_curve(target_valid, probabilities_one_valid)\n",
        "auc_roc = roc_auc_score(target_valid, probabilities_one_valid)\n",
        "print('AUC-ROC модели:', auc_roc.round(5))\n",
        "\n",
        "plt.figure()\n",
        "plt.plot(fpr, tpr)\n",
        "plt.plot([0, 1], [0, 1], linestyle='--')\n",
        "\n",
        "plt.ylim([0.0, 1.0])\n",
        "plt.xlim([0.0, 1.0])\n",
        "plt.xlabel('False Positive Rate')\n",
        "plt.ylabel('True Positive Rate')\n",
        "plt.title('ROC-кривая')\n",
        "plt.show()"
      ]
    },
    {
      "cell_type": "code",
      "execution_count": 22,
      "metadata": {
        "id": "yjtFIL0BQJ8a"
      },
      "outputs": [],
      "source": [
        "# увеличение выборки\n",
        "\n",
        "def upsample(features, target, repeat):\n",
        "    features_zeros = features[target == 0]\n",
        "    features_ones = features[target == 1]\n",
        "    target_zeros = target[target == 0]\n",
        "    target_ones = target[target == 1]\n",
        "\n",
        "    features_upsampled = pd.concat([features_zeros] + [features_ones] * repeat)\n",
        "    target_upsampled = pd.concat([target_zeros] + [target_ones] * repeat)\n",
        "\n",
        "    features_upsampled, target_upsampled = shuffle(\n",
        "        features_upsampled, target_upsampled, random_state=12345)\n",
        "\n",
        "    return features_upsampled, target_upsampled\n",
        "\n",
        "features_upsampled, target_upsampled = upsample(features_train, target_train, 4)"
      ]
    },
    {
      "cell_type": "code",
      "execution_count": 23,
      "metadata": {
        "colab": {
          "base_uri": "https://localhost:8080/",
          "height": 524
        },
        "id": "BLJSU1S8QJ8a",
        "outputId": "613f21d9-249d-4114-cd14-5be99e9d2f7b"
      },
      "outputs": [
        {
          "output_type": "stream",
          "name": "stdout",
          "text": [
            "Увеличение выборки:\n",
            "F1 лучшей модели дерева решений: 0.56536 . Максимальная глубина дерева: 5\n",
            "AUC-ROC модели: 0.74891\n"
          ]
        },
        {
          "output_type": "display_data",
          "data": {
            "text/plain": [
              "<Figure size 640x480 with 1 Axes>"
            ],
            "image/png": "[encoded data removed]"
          },
          "metadata": {}
        }
      ],
      "source": [
        "# обучение модели после увеличения выборки\n",
        "\n",
        "best_tree = None\n",
        "best_result = 0\n",
        "best_depth = 0\n",
        "\n",
        "for depth in range(1, 11):\n",
        "    model = DecisionTreeClassifier(random_state=12345, max_depth=depth)\n",
        "    model.fit(features_upsampled, target_upsampled)\n",
        "    predictions_valid = model.predict(features_valid)\n",
        "    f1 = f1_score(target_valid, predictions_valid)\n",
        "    if f1 > best_result:\n",
        "        best_tree = model\n",
        "        best_result = f1\n",
        "        best_depth = depth\n",
        "print('Увеличение выборки:')\n",
        "print('F1 лучшей модели дерева решений:', best_result.round(5), '. Максимальная глубина дерева:', best_depth)\n",
        "\n",
        "# рассчитаем AUC-ROC и построим ROC-кривую\n",
        "probabilities_valid = model.predict_proba(features_valid)\n",
        "probabilities_one_valid = probabilities_valid[:, 1]\n",
        "fpr, tpr, thresholds = roc_curve(target_valid, probabilities_one_valid)\n",
        "auc_roc = roc_auc_score(target_valid, probabilities_one_valid)\n",
        "print('AUC-ROC модели:', auc_roc.round(5))\n",
        "\n",
        "plt.figure()\n",
        "plt.plot(fpr, tpr)\n",
        "plt.plot([0, 1], [0, 1], linestyle='--')\n",
        "\n",
        "plt.ylim([0.0, 1.0])\n",
        "plt.xlim([0.0, 1.0])\n",
        "plt.xlabel('False Positive Rate')\n",
        "plt.ylabel('True Positive Rate')\n",
        "plt.title('ROC-кривая')\n",
        "plt.show()"
      ]
    },
    {
      "cell_type": "code",
      "execution_count": 24,
      "metadata": {
        "scrolled": true,
        "id": "JFAWsoLGQJ8a"
      },
      "outputs": [],
      "source": [
        "# уменьшение выборки\n",
        "\n",
        "def downsample(features, target, fraction):\n",
        "    features_zeros = features[target == 0]\n",
        "    features_ones = features[target == 1]\n",
        "    target_zeros = target[target == 0]\n",
        "    target_ones = target[target == 1]\n",
        "\n",
        "    features_downsampled = pd.concat(\n",
        "        [features_zeros.sample(frac=fraction, random_state=12345)] + [features_ones])\n",
        "    target_downsampled = pd.concat(\n",
        "        [target_zeros.sample(frac=fraction, random_state=12345)] + [target_ones])\n",
        "\n",
        "    features_downsampled, target_downsampled = shuffle(\n",
        "        features_downsampled, target_downsampled, random_state=12345)\n",
        "\n",
        "    return features_downsampled, target_downsampled\n",
        "\n",
        "features_downsampled, target_downsampled = downsample(features_train, target_train, 0.3)"
      ]
    },
    {
      "cell_type": "code",
      "execution_count": 25,
      "metadata": {
        "colab": {
          "base_uri": "https://localhost:8080/",
          "height": 524
        },
        "id": "lpB3D0ryQJ8b",
        "outputId": "840705cb-1697-4b1d-d32c-c5149c7e8e5b"
      },
      "outputs": [
        {
          "output_type": "stream",
          "name": "stdout",
          "text": [
            "Уменьшение выборки:\n",
            "F1 лучшей модели дерева решений: 0.56028 . Максимальная глубина дерева: 5\n",
            "AUC-ROC модели: 0.74544\n"
          ]
        },
        {
          "output_type": "display_data",
          "data": {
            "text/plain": [
              "<Figure size 640x480 with 1 Axes>"
            ],
            "image/png": "[encoded data removed]"
          },
          "metadata": {}
        }
      ],
      "source": [
        "# обучение модели после уменьшения выборки\n",
        "\n",
        "best_tree = None\n",
        "best_result = 0\n",
        "best_depth = 0\n",
        "\n",
        "for depth in range(1, 11):\n",
        "    model = DecisionTreeClassifier(random_state=12345, max_depth=depth)\n",
        "    model.fit(features_downsampled, target_downsampled)\n",
        "    predictions_valid = model.predict(features_valid)\n",
        "    f1 = f1_score(target_valid, predictions_valid)\n",
        "    if f1 > best_result:\n",
        "        best_tree = model\n",
        "        best_result = f1\n",
        "        best_depth = depth\n",
        "print('Уменьшение выборки:')\n",
        "print('F1 лучшей модели дерева решений:', best_result.round(5), '. Максимальная глубина дерева:', best_depth)\n",
        "\n",
        "# рассчитаем AUC-ROC и построим ROC-кривую\n",
        "probabilities_valid = model.predict_proba(features_valid)\n",
        "probabilities_one_valid = probabilities_valid[:, 1]\n",
        "fpr, tpr, thresholds = roc_curve(target_valid, probabilities_one_valid)\n",
        "auc_roc = roc_auc_score(target_valid, probabilities_one_valid)\n",
        "print('AUC-ROC модели:', auc_roc.round(5))\n",
        "\n",
        "plt.figure()\n",
        "plt.plot(fpr, tpr)\n",
        "plt.plot([0, 1], [0, 1], linestyle='--')\n",
        "\n",
        "plt.ylim([0.0, 1.0])\n",
        "plt.xlim([0.0, 1.0])\n",
        "plt.xlabel('False Positive Rate')\n",
        "plt.ylabel('True Positive Rate')\n",
        "plt.title('ROC-кривая')\n",
        "plt.show()"
      ]
    },
    {
      "cell_type": "markdown",
      "metadata": {
        "id": "QPfDqIoYQJ8b"
      },
      "source": [
        "Видим, что борьба с дисбалансом помогает незначительно увеличить значение метрики F1, наибольший эффект дает метод увеличения выборки класса \"1\". Однако, достичь требуемого уровня F1 не удается."
      ]
    },
    {
      "cell_type": "markdown",
      "metadata": {
        "id": "Mdrng_HKQJ8b"
      },
      "source": [
        "### Случайный лес"
      ]
    },
    {
      "cell_type": "code",
      "execution_count": 26,
      "metadata": {
        "colab": {
          "base_uri": "https://localhost:8080/",
          "height": 559
        },
        "id": "NKOgQPa6QJ8c",
        "outputId": "79e4a0cd-04f5-444a-e509-7250e4dfff91"
      },
      "outputs": [
        {
          "output_type": "stream",
          "name": "stdout",
          "text": [
            "Взвешивание классов:\n",
            "F1 лучшей модели случайного леса: 0.61642 . Количество деревьев: 20 . Максимальная глубина деревьев: 9\n",
            "AUC-ROC модели: 0.83385\n"
          ]
        },
        {
          "output_type": "display_data",
          "data": {
            "text/plain": [
              "<Figure size 640x480 with 1 Axes>"
            ],
            "image/png": "[encoded data removed]"
          },
          "metadata": {}
        },
        {
          "output_type": "stream",
          "name": "stdout",
          "text": [
            "CPU times: user 5.55 s, sys: 115 ms, total: 5.67 s\n",
            "Wall time: 5.57 s\n"
          ]
        }
      ],
      "source": [
        "%%time\n",
        "\n",
        "# взвешивание классов\n",
        "best_tree = None\n",
        "best_result = 0\n",
        "best_depth = 0\n",
        "\n",
        "for est in range(10, 31, 10):\n",
        "    for depth in range(7, 21):\n",
        "        model = RandomForestClassifier(random_state=12345, n_estimators=est, max_depth=depth, class_weight='balanced')\n",
        "        model.fit(features_train, target_train)\n",
        "        predictions_valid = model.predict(features_valid)\n",
        "        f1 = f1_score(target_valid, predictions_valid)\n",
        "        if f1 > best_result:\n",
        "            best_forest = model\n",
        "            best_result = f1\n",
        "            best_est = est\n",
        "            best_depth = depth\n",
        "print('Взвешивание классов:')\n",
        "print('F1 лучшей модели случайного леса:', best_result.round(5), '. Количество деревьев:', best_est, '. Максимальная глубина деревьев:', best_depth)\n",
        "\n",
        "# рассчитаем AUC-ROC и построим ROC-кривую\n",
        "probabilities_valid = model.predict_proba(features_valid)\n",
        "probabilities_one_valid = probabilities_valid[:, 1]\n",
        "fpr, tpr, thresholds = roc_curve(target_valid, probabilities_one_valid)\n",
        "auc_roc = roc_auc_score(target_valid, probabilities_one_valid)\n",
        "print('AUC-ROC модели:', auc_roc.round(5))\n",
        "\n",
        "plt.figure()\n",
        "plt.plot(fpr, tpr)\n",
        "plt.plot([0, 1], [0, 1], linestyle='--')\n",
        "\n",
        "plt.ylim([0.0, 1.0])\n",
        "plt.xlim([0.0, 1.0])\n",
        "plt.xlabel('False Positive Rate')\n",
        "plt.ylabel('True Positive Rate')\n",
        "plt.title('ROC-кривая')\n",
        "plt.show()"
      ]
    },
    {
      "cell_type": "code",
      "execution_count": 27,
      "metadata": {
        "colab": {
          "base_uri": "https://localhost:8080/",
          "height": 559
        },
        "id": "dfWkITrvQJ8c",
        "outputId": "45911f01-b476-40a0-e0a7-9c57dce92a88"
      },
      "outputs": [
        {
          "output_type": "stream",
          "name": "stdout",
          "text": [
            "Увеличение выборки:\n",
            "F1 лучшей модели случайного леса: 0.61934 . Количество деревьев: 70 . Максимальная глубина деревьев: 18\n",
            "AUC-ROC модели: 0.84329\n"
          ]
        },
        {
          "output_type": "display_data",
          "data": {
            "text/plain": [
              "<Figure size 640x480 with 1 Axes>"
            ],
            "image/png": "[encoded data removed]"
          },
          "metadata": {}
        },
        {
          "output_type": "stream",
          "name": "stdout",
          "text": [
            "CPU times: user 44.1 s, sys: 198 ms, total: 44.3 s\n",
            "Wall time: 44.3 s\n"
          ]
        }
      ],
      "source": [
        "%%time\n",
        "\n",
        "# Метод увеличения выборки\n",
        "\n",
        "best_tree = None\n",
        "best_result = 0\n",
        "best_depth = 0\n",
        "\n",
        "for est in range(10, 81, 10):\n",
        "    for depth in range(7, 21):\n",
        "        model = RandomForestClassifier(random_state=12345, n_estimators=est, max_depth=depth)\n",
        "        model.fit(features_upsampled, target_upsampled)\n",
        "        predictions_valid = model.predict(features_valid)\n",
        "        f1 = f1_score(target_valid, predictions_valid)\n",
        "        if f1 > best_result:\n",
        "            best_forest = model\n",
        "            best_result = f1\n",
        "            best_est = est\n",
        "            best_depth = depth\n",
        "\n",
        "print('Увеличение выборки:')\n",
        "print('F1 лучшей модели случайного леса:', best_result.round(5), '. Количество деревьев:', best_est, '. Максимальная глубина деревьев:', best_depth)\n",
        "\n",
        "# рассчитаем AUC-ROC и построим ROC-кривую\n",
        "probabilities_valid = model.predict_proba(features_valid)\n",
        "probabilities_one_valid = probabilities_valid[:, 1]\n",
        "fpr, tpr, thresholds = roc_curve(target_valid, probabilities_one_valid)\n",
        "auc_roc = roc_auc_score(target_valid, probabilities_one_valid)\n",
        "print('AUC-ROC модели:', auc_roc.round(5))\n",
        "\n",
        "plt.figure()\n",
        "plt.plot(fpr, tpr)\n",
        "plt.plot([0, 1], [0, 1], linestyle='--')\n",
        "\n",
        "plt.ylim([0.0, 1.0])\n",
        "plt.xlim([0.0, 1.0])\n",
        "plt.xlabel('False Positive Rate')\n",
        "plt.ylabel('True Positive Rate')\n",
        "plt.title('ROC-кривая')\n",
        "plt.show()"
      ]
    },
    {
      "cell_type": "code",
      "execution_count": 28,
      "metadata": {
        "colab": {
          "base_uri": "https://localhost:8080/",
          "height": 559
        },
        "id": "ZcRGH4GGQJ8d",
        "outputId": "2b5538b5-1ced-4d54-e741-20f51d9da072"
      },
      "outputs": [
        {
          "output_type": "stream",
          "name": "stdout",
          "text": [
            "Уменьшение выборки:\n",
            "F1 лучшей модели случайного леса: 0.60296 . Количество деревьев: 40 . Максимальная глубина деревьев: 8\n",
            "AUC-ROC модели: 0.85382\n"
          ]
        },
        {
          "output_type": "display_data",
          "data": {
            "text/plain": [
              "<Figure size 640x480 with 1 Axes>"
            ],
            "image/png": "[encoded data removed]"
          },
          "metadata": {}
        },
        {
          "output_type": "stream",
          "name": "stdout",
          "text": [
            "CPU times: user 17.9 s, sys: 164 ms, total: 18 s\n",
            "Wall time: 18 s\n"
          ]
        }
      ],
      "source": [
        "%%time\n",
        "\n",
        "# метод уменьшения выборки\n",
        "\n",
        "best_tree = None\n",
        "best_result = 0\n",
        "best_depth = 0\n",
        "\n",
        "for est in range(10, 81, 10):\n",
        "    for depth in range(7, 21):\n",
        "        model = RandomForestClassifier(random_state=12345, n_estimators=est, max_depth=depth)\n",
        "        model.fit(features_downsampled, target_downsampled)\n",
        "        predictions_valid = model.predict(features_valid)\n",
        "        f1 = f1_score(target_valid, predictions_valid)\n",
        "        if f1 > best_result:\n",
        "            best_forest = model\n",
        "            best_result = f1\n",
        "            best_est = est\n",
        "            best_depth = depth\n",
        "\n",
        "print('Уменьшение выборки:')\n",
        "print('F1 лучшей модели случайного леса:', best_result.round(5), '. Количество деревьев:', best_est, '. Максимальная глубина деревьев:', best_depth)\n",
        "\n",
        "# рассчитаем AUC-ROC и построим ROC-кривую\n",
        "probabilities_valid = model.predict_proba(features_valid)\n",
        "probabilities_one_valid = probabilities_valid[:, 1]\n",
        "fpr, tpr, thresholds = roc_curve(target_valid, probabilities_one_valid)\n",
        "auc_roc = roc_auc_score(target_valid, probabilities_one_valid)\n",
        "print('AUC-ROC модели:', auc_roc.round(5))\n",
        "\n",
        "plt.figure()\n",
        "plt.plot(fpr, tpr)\n",
        "plt.plot([0, 1], [0, 1], linestyle='--')\n",
        "plt.ylim([0.0, 1.0])\n",
        "plt.xlim([0.0, 1.0])\n",
        "plt.xlabel('False Positive Rate')\n",
        "plt.ylabel('True Positive Rate')\n",
        "plt.title('ROC-кривая')\n",
        "plt.show()"
      ]
    },
    {
      "cell_type": "markdown",
      "metadata": {
        "id": "nt2tkCNJQJ8d"
      },
      "source": [
        "Модели случайного леса показывают существенное улучшение метрики F1 после устранения дисбаланса. Все они достигли требуемого порога F1 > 0,59.\n",
        "Наилучший результат (F1 = 0,62) дает метод увеличения выборки класса \"1\", модель случайного дерева с гиперпараметрами: количество деревьев: 70, максимальная глубина деревьев: 18."
      ]
    },
    {
      "cell_type": "markdown",
      "metadata": {
        "id": "Hqaj0REbQJ8d"
      },
      "source": [
        "### Логистическая регрессия"
      ]
    },
    {
      "cell_type": "code",
      "execution_count": 29,
      "metadata": {
        "colab": {
          "base_uri": "https://localhost:8080/",
          "height": 524
        },
        "id": "owrQEJmnQJ8e",
        "outputId": "60233c29-15a8-4a3c-d986-0c370df0ad15"
      },
      "outputs": [
        {
          "output_type": "stream",
          "name": "stdout",
          "text": [
            "Взвешивание классов:\n",
            "F1 модели логистической регрессии: 0.50254\n",
            "AUC-ROC модели: 0.78176\n"
          ]
        },
        {
          "output_type": "display_data",
          "data": {
            "text/plain": [
              "<Figure size 640x480 with 1 Axes>"
            ],
            "image/png": "[encoded data removed]"
          },
          "metadata": {}
        }
      ],
      "source": [
        "# взвешивание классов\n",
        "model = LogisticRegression(random_state=12345, solver='liblinear', class_weight='balanced')\n",
        "model.fit(features_train, target_train)\n",
        "predictions_valid = model.predict(features_valid)\n",
        "f1 = f1_score(target_valid, predictions_valid)\n",
        "print('Взвешивание классов:')\n",
        "print('F1 модели логистической регрессии:', f1.round(5))\n",
        "\n",
        "# рассчитаем AUC-ROC и построим ROC-кривую\n",
        "probabilities_valid = model.predict_proba(features_valid)\n",
        "probabilities_one_valid = probabilities_valid[:, 1]\n",
        "fpr, tpr, thresholds = roc_curve(target_valid, probabilities_one_valid)\n",
        "auc_roc = roc_auc_score(target_valid, probabilities_one_valid)\n",
        "print('AUC-ROC модели:', auc_roc.round(5))\n",
        "\n",
        "plt.figure()\n",
        "plt.plot(fpr, tpr)\n",
        "plt.plot([0, 1], [0, 1], linestyle='--')\n",
        "\n",
        "plt.ylim([0.0, 1.0])\n",
        "plt.xlim([0.0, 1.0])\n",
        "plt.xlabel('False Positive Rate')\n",
        "plt.ylabel('True Positive Rate')\n",
        "plt.title('ROC-кривая')\n",
        "plt.show()"
      ]
    },
    {
      "cell_type": "code",
      "execution_count": 30,
      "metadata": {
        "colab": {
          "base_uri": "https://localhost:8080/",
          "height": 524
        },
        "id": "As2XU4uOQJ8e",
        "outputId": "d989621f-517d-4286-db0c-e645d53b7d1d"
      },
      "outputs": [
        {
          "output_type": "stream",
          "name": "stdout",
          "text": [
            "Увеличение выборки:\n",
            "F1: 0.49654\n",
            "AUC-ROC модели: 0.78173\n"
          ]
        },
        {
          "output_type": "display_data",
          "data": {
            "text/plain": [
              "<Figure size 640x480 with 1 Axes>"
            ],
            "image/png": "[encoded data removed]"
          },
          "metadata": {}
        }
      ],
      "source": [
        "# Увеличение выборки\n",
        "\n",
        "model = LogisticRegression(random_state=12345, solver='liblinear')\n",
        "model.fit(features_upsampled, target_upsampled)\n",
        "predicted_valid = model.predict(features_valid)\n",
        "\n",
        "print('Увеличение выборки:')\n",
        "print(\"F1:\", f1_score(target_valid, predicted_valid).round(5))\n",
        "\n",
        "# рассчитаем AUC-ROC и построим ROC-кривую\n",
        "probabilities_valid = model.predict_proba(features_valid)\n",
        "probabilities_one_valid = probabilities_valid[:, 1]\n",
        "fpr, tpr, thresholds = roc_curve(target_valid, probabilities_one_valid)\n",
        "auc_roc = roc_auc_score(target_valid, probabilities_one_valid)\n",
        "print('AUC-ROC модели:', auc_roc.round(5))\n",
        "\n",
        "plt.figure()\n",
        "plt.plot(fpr, tpr)\n",
        "plt.plot([0, 1], [0, 1], linestyle='--')\n",
        "\n",
        "plt.ylim([0.0, 1.0])\n",
        "plt.xlim([0.0, 1.0])\n",
        "plt.xlabel('False Positive Rate')\n",
        "plt.ylabel('True Positive Rate')\n",
        "plt.title('ROC-кривая')\n",
        "plt.show()"
      ]
    },
    {
      "cell_type": "code",
      "execution_count": 31,
      "metadata": {
        "colab": {
          "base_uri": "https://localhost:8080/",
          "height": 524
        },
        "id": "j84KqFGAQJ8e",
        "outputId": "bf3382f2-5a06-49d8-85c3-8bcfb2ad28a6"
      },
      "outputs": [
        {
          "output_type": "stream",
          "name": "stdout",
          "text": [
            "Уменьшение выборки:\n",
            "F1: 0.48749\n",
            "AUC-ROC модели: 0.7808\n"
          ]
        },
        {
          "output_type": "display_data",
          "data": {
            "text/plain": [
              "<Figure size 640x480 with 1 Axes>"
            ],
            "image/png": "[encoded data removed]"
          },
          "metadata": {}
        }
      ],
      "source": [
        "# уменьшение выборки\n",
        "\n",
        "model = LogisticRegression(solver='liblinear', random_state=12345)\n",
        "model.fit(features_downsampled, target_downsampled)\n",
        "predicted_valid = model.predict(features_valid)\n",
        "\n",
        "print('Уменьшение выборки:')\n",
        "print(\"F1:\", f1_score(target_valid, predicted_valid).round(5))\n",
        "\n",
        "# рассчитаем AUC-ROC и построим ROC-кривую\n",
        "probabilities_valid = model.predict_proba(features_valid)\n",
        "probabilities_one_valid = probabilities_valid[:, 1]\n",
        "fpr, tpr, thresholds = roc_curve(target_valid, probabilities_one_valid)\n",
        "auc_roc = roc_auc_score(target_valid, probabilities_one_valid)\n",
        "print('AUC-ROC модели:', auc_roc.round(5))\n",
        "\n",
        "plt.figure()\n",
        "plt.plot(fpr, tpr)\n",
        "plt.plot([0, 1], [0, 1], linestyle='--')\n",
        "\n",
        "plt.ylim([0.0, 1.0])\n",
        "plt.xlim([0.0, 1.0])\n",
        "plt.xlabel('False Positive Rate')\n",
        "plt.ylabel('True Positive Rate')\n",
        "plt.title('ROC-кривая')\n",
        "plt.show()"
      ]
    },
    {
      "cell_type": "markdown",
      "metadata": {
        "id": "4-38ia2NQJ8e"
      },
      "source": [
        "Видим, что борьба с дисбалансом помогает существенно увеличить значение метрики F1 у моделей логистической регрессии, наибольший эффект дает метод взвешивания классов. Однако, достичь требуемого уровня F1 не удается."
      ]
    },
    {
      "cell_type": "markdown",
      "metadata": {
        "id": "78Q0V48QQJ8f"
      },
      "source": [
        "### Вывод"
      ]
    },
    {
      "cell_type": "markdown",
      "metadata": {
        "id": "vnIU-ZQNQJ8f"
      },
      "source": [
        "В данном разделе мы сбалансировали данные разными методами и после этого обучили модели. Метрика F1 моделей логистической регрессии существенно ниже, чем у моделей дерева решений и случайного леса.\\\n",
        "**На валидационной выборке наилучшее качество (F1=0,62) продемонстрировала модель случайного леса с гиперпараметрами: количество деревьев - 70, максимальная глубина деревьев: 18.** Проверим лучшую модель на тестовой выборке."
      ]
    },
    {
      "cell_type": "markdown",
      "metadata": {
        "id": "604AxRxzQJ8f"
      },
      "source": [
        "## Тестирование модели"
      ]
    },
    {
      "cell_type": "markdown",
      "metadata": {
        "id": "lWzzQwLMQJ8f"
      },
      "source": [
        "Проверим найденную нами лучшую модель на тестовой выборке."
      ]
    },
    {
      "cell_type": "code",
      "execution_count": 32,
      "metadata": {
        "colab": {
          "base_uri": "https://localhost:8080/",
          "height": 524
        },
        "id": "G_MaRketQJ8f",
        "outputId": "0788cc1c-939a-47f1-d6e4-75c02d97f947"
      },
      "outputs": [
        {
          "output_type": "stream",
          "name": "stdout",
          "text": [
            "F1: 0.62059\n",
            "Полнота (recall): 0.55968\n",
            "AUC-ROC модели: 0.85524\n"
          ]
        },
        {
          "output_type": "display_data",
          "data": {
            "text/plain": [
              "<Figure size 640x480 with 1 Axes>"
            ],
            "image/png": "[encoded data removed]"
          },
          "metadata": {}
        }
      ],
      "source": [
        "# обучим модель и проверим ее на тестовой выборке\n",
        "model = RandomForestClassifier(random_state=12345, n_estimators=70, max_depth=18)\n",
        "model.fit(features_upsampled, target_upsampled)\n",
        "predictions_test = model.predict(features_test)\n",
        "\n",
        "f1 = f1_score(target_test, predictions_test)\n",
        "recall = recall_score(target_test, predictions_test)\n",
        "print('F1:', f1.round(5))\n",
        "print('Полнота (recall):', recall.round(5))\n",
        "\n",
        "# рассчитаем AUC-ROC и построим ROC-кривую\n",
        "probabilities_test = model.predict_proba(features_test)\n",
        "probabilities_one_test = probabilities_test[:, 1]\n",
        "fpr, tpr, thresholds = roc_curve(target_test, probabilities_one_test)\n",
        "auc_roc = roc_auc_score(target_test, probabilities_one_test)\n",
        "print('AUC-ROC модели:', auc_roc.round(5))\n",
        "\n",
        "plt.figure()\n",
        "plt.plot(fpr, tpr)\n",
        "plt.plot([0, 1], [0, 1], linestyle='--')\n",
        "\n",
        "plt.ylim([0.0, 1.0])\n",
        "plt.xlim([0.0, 1.0])\n",
        "plt.xlabel('False Positive Rate')\n",
        "plt.ylabel('True Positive Rate')\n",
        "plt.title('ROC-кривая')\n",
        "plt.show()"
      ]
    },
    {
      "cell_type": "markdown",
      "metadata": {
        "id": "GtCoVZW1QJ8g"
      },
      "source": [
        "**Вывод:**\\\n",
        "Выбранная нами модель показывает хороший результат на тестовой выборке - значение F1 меры равно 0,62, что выше заданного порогового уровня 0,59. Значение AUC-ROC равно 0,85.\n",
        "\n",
        "Отдельно была рассчитана метрика полнота (recall), ее значение составило 0,56. Это говорит о том, что модель правильно определяет 56% тех клиентов, которые действительно уйдут/планируют уйти."
      ]
    },
    {
      "cell_type": "markdown",
      "metadata": {
        "id": "0VJDdyM5QJ8g"
      },
      "source": [
        "### Проверка модели на адекватность"
      ]
    },
    {
      "cell_type": "markdown",
      "metadata": {
        "id": "NF-vzP_pQJ8g"
      },
      "source": [
        "Чтобы оценить адекватность модели, сравним её результаты с константной моделью. Заменим все предсказания на \"1\" и рассчитаем F1."
      ]
    },
    {
      "cell_type": "code",
      "execution_count": 33,
      "metadata": {
        "colab": {
          "base_uri": "https://localhost:8080/"
        },
        "id": "h00gc99pQJ8g",
        "outputId": "f37d5ded-4fff-43b1-ddec-287a3414eb39"
      },
      "outputs": [
        {
          "output_type": "stream",
          "name": "stdout",
          "text": [
            "F1 константной модели: 0.34351\n"
          ]
        }
      ],
      "source": [
        "# расчет F1 константной модели\n",
        "dummy_model = DummyClassifier(strategy='constant', constant=1)\n",
        "dummy_model.fit(features_train, target_train)\n",
        "predictions_dummy = dummy_model.predict(features_test)\n",
        "f1 = f1_score(predictions_dummy, target_test)\n",
        "print('F1 константной модели:', f1.round(5))"
      ]
    },
    {
      "cell_type": "markdown",
      "metadata": {
        "id": "xUFIAXoJQJ8h"
      },
      "source": [
        "## Итоговый вывод"
      ]
    },
    {
      "cell_type": "markdown",
      "metadata": {
        "id": "MlDUedMqQJ8h"
      },
      "source": [
        "- в данном проекте были исследованы 3 модели: дерево решений, случайный лес и логистическая регрессия;\n",
        "- изначально в датасете наблюдался существенный дисбаланс классов - 20% / 80%. Все модели показали наивысшее качество после устранения дисбаланса;\n",
        "- наибольшее значение F1-меры показала модель случайного леса после устранения дисбаланса методом увеличения выборки класса \"1\" с гиперпараметрами: количество деревьев - 70, максимальная глубина деревьев: 18;\n",
        "- лучшая модель была проверена на тестовой выборке и показала значение F1-меры в размере 0,62, AUC-ROC в размере 0,85. Отдельно была рассчитана полнота (recall), ее значение составило 0,56. Это говорит о том, что модель правильно определяет 56% среди тех клиентов, которые действительно уйдут/планируют уйти."
      ]
    },
    {
      "cell_type": "markdown",
      "metadata": {
        "id": "X2z2IffVQJ8h"
      },
      "source": [
        "С помощью модели мы можем спрогнозировать, уйдет ли клиент из банка. Маркетологи посчитали, что сохранять текущих клиентов дешевле, чем привлекать новых.\n",
        "Полученный с помощью прогноза результат мы можем использовать для определения перечня текущих клиентов, которые по мнению модели должны уйти из банка. Этим клиентам банк может заранее предложить более выгодные условия, премиальное обслуживание или провести среди них опрос и выяснить уровень лояльности и проблемные точки, почему клиент может быть не доволен услугами банка."
      ]
    }
  ],
  "metadata": {
    "ExecuteTimeLog": [
      {
        "duration": 1128,
        "start_time": "2023-03-30T11:44:34.572Z"
      },
      {
        "duration": 3,
        "start_time": "2023-03-30T11:45:43.209Z"
      },
      {
        "duration": 108,
        "start_time": "2023-03-30T11:46:35.915Z"
      },
      {
        "duration": 7,
        "start_time": "2023-03-30T11:55:10.816Z"
      },
      {
        "duration": 1863,
        "start_time": "2023-03-30T12:03:24.453Z"
      },
      {
        "duration": 3,
        "start_time": "2023-03-30T12:09:53.601Z"
      },
      {
        "duration": 6,
        "start_time": "2023-03-30T12:12:21.579Z"
      },
      {
        "duration": 15,
        "start_time": "2023-03-30T12:12:31.539Z"
      },
      {
        "duration": 125,
        "start_time": "2023-03-30T12:12:39.146Z"
      },
      {
        "duration": 5,
        "start_time": "2023-03-30T12:12:43.844Z"
      },
      {
        "duration": 140,
        "start_time": "2023-03-30T12:12:50.171Z"
      },
      {
        "duration": 5,
        "start_time": "2023-03-30T12:13:49.187Z"
      },
      {
        "duration": 9,
        "start_time": "2023-03-30T12:21:53.137Z"
      },
      {
        "duration": 215,
        "start_time": "2023-03-30T12:32:43.057Z"
      },
      {
        "duration": 15,
        "start_time": "2023-03-30T12:33:55.249Z"
      },
      {
        "duration": 54,
        "start_time": "2023-03-30T12:42:23.503Z"
      },
      {
        "duration": 6,
        "start_time": "2023-03-30T12:42:40.238Z"
      },
      {
        "duration": 10,
        "start_time": "2023-03-30T12:46:38.946Z"
      },
      {
        "duration": 23,
        "start_time": "2023-03-30T12:46:49.435Z"
      },
      {
        "duration": 8,
        "start_time": "2023-03-30T12:47:36.730Z"
      },
      {
        "duration": 15,
        "start_time": "2023-03-30T12:49:49.846Z"
      },
      {
        "duration": 34,
        "start_time": "2023-03-30T12:50:09.099Z"
      },
      {
        "duration": 10,
        "start_time": "2023-03-30T12:50:30.922Z"
      },
      {
        "duration": 9,
        "start_time": "2023-03-30T12:51:07.976Z"
      },
      {
        "duration": 18,
        "start_time": "2023-03-30T12:51:12.252Z"
      },
      {
        "duration": 21,
        "start_time": "2023-03-30T12:55:11.824Z"
      },
      {
        "duration": 21,
        "start_time": "2023-03-30T13:06:00.157Z"
      },
      {
        "duration": 17,
        "start_time": "2023-03-30T13:06:39.214Z"
      },
      {
        "duration": 6,
        "start_time": "2023-03-30T13:07:03.615Z"
      },
      {
        "duration": 53,
        "start_time": "2023-03-31T10:15:47.214Z"
      },
      {
        "duration": 1239,
        "start_time": "2023-03-31T10:15:53.907Z"
      },
      {
        "duration": 442,
        "start_time": "2023-03-31T10:15:55.149Z"
      },
      {
        "duration": 6,
        "start_time": "2023-03-31T10:15:55.593Z"
      },
      {
        "duration": 40,
        "start_time": "2023-03-31T10:15:55.601Z"
      },
      {
        "duration": 20,
        "start_time": "2023-03-31T10:15:55.643Z"
      },
      {
        "duration": 48,
        "start_time": "2023-03-31T10:15:55.664Z"
      },
      {
        "duration": 20,
        "start_time": "2023-03-31T10:17:44.030Z"
      },
      {
        "duration": 10,
        "start_time": "2023-03-31T10:30:03.477Z"
      },
      {
        "duration": 3,
        "start_time": "2023-03-31T10:35:06.112Z"
      },
      {
        "duration": 3,
        "start_time": "2023-03-31T10:35:32.553Z"
      },
      {
        "duration": 28,
        "start_time": "2023-03-31T10:38:15.339Z"
      },
      {
        "duration": 27,
        "start_time": "2023-03-31T10:39:51.180Z"
      },
      {
        "duration": 23,
        "start_time": "2023-03-31T10:39:57.067Z"
      },
      {
        "duration": 23,
        "start_time": "2023-03-31T10:40:21.371Z"
      },
      {
        "duration": 3,
        "start_time": "2023-03-31T10:42:03.422Z"
      },
      {
        "duration": 3,
        "start_time": "2023-03-31T10:52:24.074Z"
      },
      {
        "duration": 5,
        "start_time": "2023-03-31T10:54:22.757Z"
      },
      {
        "duration": 17,
        "start_time": "2023-03-31T10:55:36.372Z"
      },
      {
        "duration": 19,
        "start_time": "2023-03-31T10:57:20.592Z"
      },
      {
        "duration": 3,
        "start_time": "2023-03-31T10:59:02.472Z"
      },
      {
        "duration": 35,
        "start_time": "2023-03-31T11:02:17.235Z"
      },
      {
        "duration": 23,
        "start_time": "2023-03-31T11:04:33.171Z"
      },
      {
        "duration": 30,
        "start_time": "2023-03-31T11:05:54.413Z"
      },
      {
        "duration": 13,
        "start_time": "2023-03-31T11:07:17.845Z"
      },
      {
        "duration": 13,
        "start_time": "2023-03-31T11:07:29.413Z"
      },
      {
        "duration": 113,
        "start_time": "2023-03-31T11:07:45.718Z"
      },
      {
        "duration": 21,
        "start_time": "2023-03-31T11:08:00.047Z"
      },
      {
        "duration": 13,
        "start_time": "2023-03-31T11:09:12.111Z"
      },
      {
        "duration": 4,
        "start_time": "2023-03-31T11:09:23.399Z"
      },
      {
        "duration": 15,
        "start_time": "2023-03-31T11:09:26.679Z"
      },
      {
        "duration": 12,
        "start_time": "2023-03-31T11:09:35.999Z"
      },
      {
        "duration": 12,
        "start_time": "2023-03-31T11:10:12.903Z"
      },
      {
        "duration": 15,
        "start_time": "2023-03-31T11:13:52.883Z"
      },
      {
        "duration": 52,
        "start_time": "2023-03-31T11:14:17.667Z"
      },
      {
        "duration": 4,
        "start_time": "2023-03-31T11:14:32.457Z"
      },
      {
        "duration": 12,
        "start_time": "2023-03-31T11:14:43.867Z"
      },
      {
        "duration": 181,
        "start_time": "2023-03-31T11:14:50.988Z"
      },
      {
        "duration": 3,
        "start_time": "2023-03-31T11:17:14.997Z"
      },
      {
        "duration": 192,
        "start_time": "2023-03-31T11:18:19.918Z"
      },
      {
        "duration": 510,
        "start_time": "2023-03-31T11:21:54.184Z"
      },
      {
        "duration": 188,
        "start_time": "2023-03-31T11:21:59.137Z"
      },
      {
        "duration": 90,
        "start_time": "2023-03-31T11:25:53.076Z"
      },
      {
        "duration": 7114,
        "start_time": "2023-03-31T11:26:04.467Z"
      },
      {
        "duration": 12114,
        "start_time": "2023-03-31T11:26:44.437Z"
      },
      {
        "duration": 14507,
        "start_time": "2023-03-31T11:27:16.349Z"
      },
      {
        "duration": 24,
        "start_time": "2023-03-31T11:29:53.653Z"
      },
      {
        "duration": 28,
        "start_time": "2023-03-31T11:31:25.334Z"
      },
      {
        "duration": 26,
        "start_time": "2023-03-31T11:35:34.097Z"
      },
      {
        "duration": 280,
        "start_time": "2023-03-31T11:37:38.658Z"
      },
      {
        "duration": 113,
        "start_time": "2023-03-31T11:37:44.923Z"
      },
      {
        "duration": 25,
        "start_time": "2023-03-31T11:37:56.027Z"
      },
      {
        "duration": 27,
        "start_time": "2023-03-31T11:38:34.465Z"
      },
      {
        "duration": 23,
        "start_time": "2023-03-31T11:38:44.619Z"
      },
      {
        "duration": 25,
        "start_time": "2023-03-31T11:38:48.827Z"
      },
      {
        "duration": 23,
        "start_time": "2023-03-31T11:39:16.012Z"
      },
      {
        "duration": 29,
        "start_time": "2023-03-31T11:43:35.569Z"
      },
      {
        "duration": 18,
        "start_time": "2023-03-31T11:43:50.879Z"
      },
      {
        "duration": 1447,
        "start_time": "2023-03-31T11:44:10.448Z"
      },
      {
        "duration": 76,
        "start_time": "2023-03-31T11:44:11.897Z"
      },
      {
        "duration": 21,
        "start_time": "2023-03-31T11:44:11.975Z"
      },
      {
        "duration": 15,
        "start_time": "2023-03-31T11:44:11.998Z"
      },
      {
        "duration": 32,
        "start_time": "2023-03-31T11:44:12.016Z"
      },
      {
        "duration": 4,
        "start_time": "2023-03-31T11:44:12.050Z"
      },
      {
        "duration": 15,
        "start_time": "2023-03-31T11:44:12.056Z"
      },
      {
        "duration": 25,
        "start_time": "2023-03-31T11:44:12.073Z"
      },
      {
        "duration": 35,
        "start_time": "2023-03-31T11:44:12.100Z"
      },
      {
        "duration": 15,
        "start_time": "2023-03-31T11:44:12.137Z"
      },
      {
        "duration": 201,
        "start_time": "2023-03-31T11:44:12.153Z"
      },
      {
        "duration": 15926,
        "start_time": "2023-03-31T11:44:12.355Z"
      },
      {
        "duration": 29,
        "start_time": "2023-03-31T11:44:28.283Z"
      },
      {
        "duration": 120,
        "start_time": "2023-03-31T11:44:28.314Z"
      },
      {
        "duration": 27,
        "start_time": "2023-03-31T11:46:38.721Z"
      },
      {
        "duration": 9,
        "start_time": "2023-03-31T11:48:46.233Z"
      },
      {
        "duration": 16,
        "start_time": "2023-03-31T11:49:00.714Z"
      },
      {
        "duration": 10,
        "start_time": "2023-03-31T11:49:03.634Z"
      },
      {
        "duration": 1207,
        "start_time": "2023-03-31T11:49:10.201Z"
      },
      {
        "duration": 71,
        "start_time": "2023-03-31T11:49:11.411Z"
      },
      {
        "duration": 19,
        "start_time": "2023-03-31T11:49:11.484Z"
      },
      {
        "duration": 9,
        "start_time": "2023-03-31T11:49:11.505Z"
      },
      {
        "duration": 37,
        "start_time": "2023-03-31T11:49:11.516Z"
      },
      {
        "duration": 33,
        "start_time": "2023-03-31T11:49:11.554Z"
      },
      {
        "duration": 14,
        "start_time": "2023-03-31T11:49:11.589Z"
      },
      {
        "duration": 10,
        "start_time": "2023-03-31T11:49:11.605Z"
      },
      {
        "duration": 27,
        "start_time": "2023-03-31T11:49:11.616Z"
      },
      {
        "duration": 21,
        "start_time": "2023-03-31T11:49:11.646Z"
      },
      {
        "duration": 31,
        "start_time": "2023-03-31T11:49:11.670Z"
      },
      {
        "duration": 193,
        "start_time": "2023-03-31T11:49:11.703Z"
      },
      {
        "duration": 15611,
        "start_time": "2023-03-31T11:49:11.898Z"
      },
      {
        "duration": 44,
        "start_time": "2023-03-31T11:49:27.511Z"
      },
      {
        "duration": 79,
        "start_time": "2023-03-31T11:49:27.556Z"
      },
      {
        "duration": 14,
        "start_time": "2023-03-31T11:49:41.635Z"
      },
      {
        "duration": 10,
        "start_time": "2023-03-31T11:49:45.490Z"
      },
      {
        "duration": 11,
        "start_time": "2023-03-31T11:49:47.346Z"
      },
      {
        "duration": 13,
        "start_time": "2023-03-31T11:50:10.739Z"
      },
      {
        "duration": 62,
        "start_time": "2023-03-31T11:50:17.619Z"
      },
      {
        "duration": 19,
        "start_time": "2023-03-31T11:50:26.874Z"
      },
      {
        "duration": 13,
        "start_time": "2023-03-31T11:50:30.690Z"
      },
      {
        "duration": 22,
        "start_time": "2023-03-31T11:50:33.484Z"
      },
      {
        "duration": 5,
        "start_time": "2023-03-31T11:52:16.628Z"
      },
      {
        "duration": 12,
        "start_time": "2023-03-31T11:52:26.012Z"
      },
      {
        "duration": 18,
        "start_time": "2023-03-31T11:53:24.333Z"
      },
      {
        "duration": 16,
        "start_time": "2023-03-31T12:07:59.695Z"
      },
      {
        "duration": 16,
        "start_time": "2023-03-31T12:08:06.281Z"
      },
      {
        "duration": 6,
        "start_time": "2023-03-31T12:13:01.665Z"
      },
      {
        "duration": 1208,
        "start_time": "2023-03-31T12:13:17.832Z"
      },
      {
        "duration": 75,
        "start_time": "2023-03-31T12:13:19.042Z"
      },
      {
        "duration": 14,
        "start_time": "2023-03-31T12:13:19.118Z"
      },
      {
        "duration": 17,
        "start_time": "2023-03-31T12:13:19.134Z"
      },
      {
        "duration": 14,
        "start_time": "2023-03-31T12:13:19.153Z"
      },
      {
        "duration": 17,
        "start_time": "2023-03-31T12:13:19.169Z"
      },
      {
        "duration": 18,
        "start_time": "2023-03-31T12:13:19.188Z"
      },
      {
        "duration": 3,
        "start_time": "2023-03-31T12:13:19.208Z"
      },
      {
        "duration": 9,
        "start_time": "2023-03-31T12:13:19.233Z"
      },
      {
        "duration": 24,
        "start_time": "2023-03-31T12:13:19.244Z"
      },
      {
        "duration": 20,
        "start_time": "2023-03-31T12:13:19.269Z"
      },
      {
        "duration": 28,
        "start_time": "2023-03-31T12:13:19.290Z"
      },
      {
        "duration": 203,
        "start_time": "2023-03-31T12:13:19.319Z"
      },
      {
        "duration": 13358,
        "start_time": "2023-03-31T12:13:19.524Z"
      },
      {
        "duration": 27,
        "start_time": "2023-03-31T12:13:32.883Z"
      },
      {
        "duration": 122,
        "start_time": "2023-03-31T12:13:32.912Z"
      },
      {
        "duration": 112,
        "start_time": "2023-03-31T12:30:30.349Z"
      },
      {
        "duration": 20,
        "start_time": "2023-03-31T12:30:52.693Z"
      },
      {
        "duration": 24,
        "start_time": "2023-03-31T12:31:12.349Z"
      },
      {
        "duration": 14,
        "start_time": "2023-03-31T12:33:46.952Z"
      },
      {
        "duration": 17,
        "start_time": "2023-03-31T12:33:54.296Z"
      },
      {
        "duration": 14,
        "start_time": "2023-03-31T12:34:05.520Z"
      },
      {
        "duration": 13,
        "start_time": "2023-03-31T12:34:34.937Z"
      },
      {
        "duration": 29,
        "start_time": "2023-03-31T12:36:17.994Z"
      },
      {
        "duration": 20,
        "start_time": "2023-03-31T12:36:33.410Z"
      },
      {
        "duration": 1105,
        "start_time": "2023-03-31T12:36:40.077Z"
      },
      {
        "duration": 73,
        "start_time": "2023-03-31T12:36:41.185Z"
      },
      {
        "duration": 13,
        "start_time": "2023-03-31T12:36:41.259Z"
      },
      {
        "duration": 17,
        "start_time": "2023-03-31T12:36:41.274Z"
      },
      {
        "duration": 8,
        "start_time": "2023-03-31T12:36:41.294Z"
      },
      {
        "duration": 30,
        "start_time": "2023-03-31T12:36:41.304Z"
      },
      {
        "duration": 13,
        "start_time": "2023-03-31T12:36:41.336Z"
      },
      {
        "duration": 7,
        "start_time": "2023-03-31T12:36:41.350Z"
      },
      {
        "duration": 8,
        "start_time": "2023-03-31T12:36:41.359Z"
      },
      {
        "duration": 24,
        "start_time": "2023-03-31T12:36:41.368Z"
      },
      {
        "duration": 21,
        "start_time": "2023-03-31T12:36:41.394Z"
      },
      {
        "duration": 14,
        "start_time": "2023-03-31T12:36:41.434Z"
      },
      {
        "duration": 212,
        "start_time": "2023-03-31T12:36:41.450Z"
      },
      {
        "duration": 13329,
        "start_time": "2023-03-31T12:36:41.665Z"
      },
      {
        "duration": 37,
        "start_time": "2023-03-31T12:36:54.997Z"
      },
      {
        "duration": 26,
        "start_time": "2023-03-31T12:36:55.036Z"
      },
      {
        "duration": 115,
        "start_time": "2023-03-31T12:36:55.136Z"
      },
      {
        "duration": 180,
        "start_time": "2023-03-31T12:36:55.254Z"
      },
      {
        "duration": 109,
        "start_time": "2023-03-31T14:12:14.841Z"
      },
      {
        "duration": 1160,
        "start_time": "2023-03-31T14:12:23.224Z"
      },
      {
        "duration": 68,
        "start_time": "2023-03-31T14:12:24.387Z"
      },
      {
        "duration": 12,
        "start_time": "2023-03-31T14:12:24.457Z"
      },
      {
        "duration": 21,
        "start_time": "2023-03-31T14:12:24.471Z"
      },
      {
        "duration": 9,
        "start_time": "2023-03-31T14:12:24.493Z"
      },
      {
        "duration": 26,
        "start_time": "2023-03-31T14:12:24.503Z"
      },
      {
        "duration": 42,
        "start_time": "2023-03-31T14:12:24.531Z"
      },
      {
        "duration": 29,
        "start_time": "2023-03-31T14:12:24.575Z"
      },
      {
        "duration": 14,
        "start_time": "2023-03-31T14:12:24.605Z"
      },
      {
        "duration": 26,
        "start_time": "2023-03-31T14:12:24.621Z"
      },
      {
        "duration": 26,
        "start_time": "2023-03-31T14:12:24.649Z"
      },
      {
        "duration": 12,
        "start_time": "2023-03-31T14:12:24.677Z"
      },
      {
        "duration": 184,
        "start_time": "2023-03-31T14:12:24.691Z"
      },
      {
        "duration": 12061,
        "start_time": "2023-03-31T14:12:24.877Z"
      },
      {
        "duration": 26,
        "start_time": "2023-03-31T14:12:36.939Z"
      },
      {
        "duration": 69,
        "start_time": "2023-03-31T14:12:36.967Z"
      },
      {
        "duration": 122,
        "start_time": "2023-03-31T14:12:37.038Z"
      },
      {
        "duration": 18,
        "start_time": "2023-03-31T14:12:59.521Z"
      },
      {
        "duration": 1081,
        "start_time": "2023-03-31T15:51:50.388Z"
      },
      {
        "duration": 69,
        "start_time": "2023-03-31T15:51:51.472Z"
      },
      {
        "duration": 14,
        "start_time": "2023-03-31T15:51:51.543Z"
      },
      {
        "duration": 14,
        "start_time": "2023-03-31T15:51:51.559Z"
      },
      {
        "duration": 9,
        "start_time": "2023-03-31T15:51:51.575Z"
      },
      {
        "duration": 19,
        "start_time": "2023-03-31T15:51:51.585Z"
      },
      {
        "duration": 35,
        "start_time": "2023-03-31T15:51:51.606Z"
      },
      {
        "duration": 15,
        "start_time": "2023-03-31T15:51:51.643Z"
      },
      {
        "duration": 18,
        "start_time": "2023-03-31T15:51:51.659Z"
      },
      {
        "duration": 26,
        "start_time": "2023-03-31T15:51:51.680Z"
      },
      {
        "duration": 19,
        "start_time": "2023-03-31T15:51:51.708Z"
      },
      {
        "duration": 16,
        "start_time": "2023-03-31T15:51:51.729Z"
      },
      {
        "duration": 186,
        "start_time": "2023-03-31T15:51:51.747Z"
      },
      {
        "duration": 12407,
        "start_time": "2023-03-31T15:51:51.935Z"
      },
      {
        "duration": 24,
        "start_time": "2023-03-31T15:52:04.343Z"
      },
      {
        "duration": 68,
        "start_time": "2023-03-31T15:52:04.369Z"
      },
      {
        "duration": 112,
        "start_time": "2023-03-31T15:52:04.439Z"
      },
      {
        "duration": 82,
        "start_time": "2023-03-31T15:52:04.553Z"
      },
      {
        "duration": 18,
        "start_time": "2023-03-31T15:52:13.653Z"
      },
      {
        "duration": 102,
        "start_time": "2023-03-31T15:54:14.277Z"
      },
      {
        "duration": 4,
        "start_time": "2023-03-31T15:54:39.093Z"
      },
      {
        "duration": 49,
        "start_time": "2023-03-31T15:54:43.791Z"
      },
      {
        "duration": 32,
        "start_time": "2023-03-31T15:55:01.614Z"
      },
      {
        "duration": 63,
        "start_time": "2023-03-31T15:55:07.270Z"
      },
      {
        "duration": 32,
        "start_time": "2023-03-31T15:55:10.334Z"
      },
      {
        "duration": 34,
        "start_time": "2023-03-31T15:55:13.631Z"
      },
      {
        "duration": 35,
        "start_time": "2023-03-31T15:55:17.391Z"
      },
      {
        "duration": 29,
        "start_time": "2023-03-31T15:58:41.537Z"
      },
      {
        "duration": 24,
        "start_time": "2023-03-31T15:58:49.208Z"
      },
      {
        "duration": 26,
        "start_time": "2023-03-31T15:59:36.737Z"
      },
      {
        "duration": 24,
        "start_time": "2023-03-31T15:59:39.737Z"
      },
      {
        "duration": 22,
        "start_time": "2023-03-31T15:59:43.506Z"
      },
      {
        "duration": 27,
        "start_time": "2023-03-31T15:59:46.529Z"
      },
      {
        "duration": 37,
        "start_time": "2023-03-31T15:59:49.097Z"
      },
      {
        "duration": 72,
        "start_time": "2023-04-01T04:01:17.579Z"
      },
      {
        "duration": 1186,
        "start_time": "2023-04-01T04:01:22.650Z"
      },
      {
        "duration": 4,
        "start_time": "2023-04-01T04:01:36.041Z"
      },
      {
        "duration": 194,
        "start_time": "2023-04-01T04:01:44.066Z"
      },
      {
        "duration": 85,
        "start_time": "2023-04-01T04:01:51.083Z"
      },
      {
        "duration": 1182,
        "start_time": "2023-04-01T04:01:58.536Z"
      },
      {
        "duration": 67,
        "start_time": "2023-04-01T04:01:59.720Z"
      },
      {
        "duration": 26,
        "start_time": "2023-04-01T04:01:59.789Z"
      },
      {
        "duration": 19,
        "start_time": "2023-04-01T04:01:59.818Z"
      },
      {
        "duration": 9,
        "start_time": "2023-04-01T04:01:59.839Z"
      },
      {
        "duration": 14,
        "start_time": "2023-04-01T04:01:59.849Z"
      },
      {
        "duration": 32,
        "start_time": "2023-04-01T04:01:59.864Z"
      },
      {
        "duration": 6,
        "start_time": "2023-04-01T04:01:59.898Z"
      },
      {
        "duration": 26,
        "start_time": "2023-04-01T04:01:59.905Z"
      },
      {
        "duration": 21,
        "start_time": "2023-04-01T04:01:59.933Z"
      },
      {
        "duration": 37,
        "start_time": "2023-04-01T04:01:59.956Z"
      },
      {
        "duration": 193,
        "start_time": "2023-04-01T04:01:59.995Z"
      },
      {
        "duration": 13399,
        "start_time": "2023-04-01T04:02:00.190Z"
      },
      {
        "duration": 26,
        "start_time": "2023-04-01T04:02:13.591Z"
      },
      {
        "duration": 73,
        "start_time": "2023-04-01T04:02:13.619Z"
      },
      {
        "duration": 106,
        "start_time": "2023-04-01T04:02:13.693Z"
      },
      {
        "duration": 388,
        "start_time": "2023-04-01T04:02:13.801Z"
      },
      {
        "duration": 30,
        "start_time": "2023-04-01T04:02:14.191Z"
      },
      {
        "duration": 233,
        "start_time": "2023-04-01T04:02:14.224Z"
      },
      {
        "duration": 16,
        "start_time": "2023-04-01T04:18:39.083Z"
      },
      {
        "duration": 180,
        "start_time": "2023-04-01T04:21:45.277Z"
      },
      {
        "duration": 183,
        "start_time": "2023-04-01T04:22:27.814Z"
      },
      {
        "duration": 174,
        "start_time": "2023-04-01T04:22:43.006Z"
      },
      {
        "duration": 196,
        "start_time": "2023-04-01T04:23:24.392Z"
      },
      {
        "duration": 13586,
        "start_time": "2023-04-01T04:24:40.719Z"
      },
      {
        "duration": 13353,
        "start_time": "2023-04-01T04:25:10.768Z"
      },
      {
        "duration": 20,
        "start_time": "2023-04-01T04:25:50.353Z"
      },
      {
        "duration": 1145,
        "start_time": "2023-04-01T15:48:07.340Z"
      },
      {
        "duration": 199,
        "start_time": "2023-04-01T15:48:08.487Z"
      },
      {
        "duration": 13,
        "start_time": "2023-04-01T15:48:08.687Z"
      },
      {
        "duration": 13,
        "start_time": "2023-04-01T15:48:08.702Z"
      },
      {
        "duration": 40,
        "start_time": "2023-04-01T15:48:08.717Z"
      },
      {
        "duration": 12,
        "start_time": "2023-04-01T15:48:08.759Z"
      },
      {
        "duration": 15,
        "start_time": "2023-04-01T15:48:08.772Z"
      },
      {
        "duration": 7,
        "start_time": "2023-04-01T15:48:08.789Z"
      },
      {
        "duration": 26,
        "start_time": "2023-04-01T15:48:08.797Z"
      },
      {
        "duration": 12,
        "start_time": "2023-04-01T15:48:08.832Z"
      },
      {
        "duration": 177,
        "start_time": "2023-04-01T15:48:08.845Z"
      },
      {
        "duration": 12184,
        "start_time": "2023-04-01T15:48:09.023Z"
      },
      {
        "duration": 36,
        "start_time": "2023-04-01T15:48:21.209Z"
      },
      {
        "duration": 91,
        "start_time": "2023-04-01T15:48:21.247Z"
      },
      {
        "duration": 115,
        "start_time": "2023-04-01T15:48:21.340Z"
      },
      {
        "duration": 206,
        "start_time": "2023-04-01T15:48:21.457Z"
      },
      {
        "duration": 121,
        "start_time": "2023-04-01T15:48:21.742Z"
      },
      {
        "duration": 180,
        "start_time": "2023-04-01T15:48:21.865Z"
      },
      {
        "duration": 301,
        "start_time": "2023-04-01T16:31:49.520Z"
      },
      {
        "duration": 4,
        "start_time": "2023-04-01T16:32:17.507Z"
      },
      {
        "duration": 86,
        "start_time": "2023-04-01T16:32:23.353Z"
      },
      {
        "duration": 537,
        "start_time": "2023-04-01T16:32:56.615Z"
      },
      {
        "duration": 4,
        "start_time": "2023-04-01T16:33:04.429Z"
      },
      {
        "duration": 348,
        "start_time": "2023-04-01T16:33:11.507Z"
      },
      {
        "duration": 5,
        "start_time": "2023-04-01T16:33:51.307Z"
      },
      {
        "duration": 342,
        "start_time": "2023-04-01T16:34:21.948Z"
      },
      {
        "duration": 281,
        "start_time": "2023-04-01T16:47:52.268Z"
      },
      {
        "duration": 301,
        "start_time": "2023-04-01T16:48:48.762Z"
      },
      {
        "duration": 476,
        "start_time": "2023-04-01T16:49:01.329Z"
      },
      {
        "duration": 346,
        "start_time": "2023-04-01T16:51:04.830Z"
      },
      {
        "duration": 1480,
        "start_time": "2023-04-01T16:51:16.860Z"
      },
      {
        "duration": 68,
        "start_time": "2023-04-01T16:51:18.344Z"
      },
      {
        "duration": 15,
        "start_time": "2023-04-01T16:51:18.414Z"
      },
      {
        "duration": 15,
        "start_time": "2023-04-01T16:51:18.431Z"
      },
      {
        "duration": 22,
        "start_time": "2023-04-01T16:51:18.447Z"
      },
      {
        "duration": 14,
        "start_time": "2023-04-01T16:51:18.471Z"
      },
      {
        "duration": 14,
        "start_time": "2023-04-01T16:51:18.487Z"
      },
      {
        "duration": 30,
        "start_time": "2023-04-01T16:51:18.503Z"
      },
      {
        "duration": 22,
        "start_time": "2023-04-01T16:51:18.535Z"
      },
      {
        "duration": 13,
        "start_time": "2023-04-01T16:51:18.559Z"
      },
      {
        "duration": 213,
        "start_time": "2023-04-01T16:51:18.574Z"
      },
      {
        "duration": 13298,
        "start_time": "2023-04-01T16:51:18.789Z"
      },
      {
        "duration": 25,
        "start_time": "2023-04-01T16:51:32.089Z"
      },
      {
        "duration": 365,
        "start_time": "2023-04-01T16:51:32.115Z"
      },
      {
        "duration": 373,
        "start_time": "2023-04-01T16:51:32.481Z"
      },
      {
        "duration": 84,
        "start_time": "2023-04-01T16:51:32.857Z"
      },
      {
        "duration": 110,
        "start_time": "2023-04-01T16:51:32.945Z"
      },
      {
        "duration": 482,
        "start_time": "2023-04-01T16:51:33.057Z"
      },
      {
        "duration": 315,
        "start_time": "2023-04-01T16:52:33.730Z"
      },
      {
        "duration": 24,
        "start_time": "2023-04-01T16:52:53.932Z"
      },
      {
        "duration": 415,
        "start_time": "2023-04-01T16:54:08.039Z"
      },
      {
        "duration": 291,
        "start_time": "2023-04-01T16:54:32.859Z"
      },
      {
        "duration": 28,
        "start_time": "2023-04-01T16:56:59.913Z"
      },
      {
        "duration": 24,
        "start_time": "2023-04-01T16:59:04.939Z"
      },
      {
        "duration": 24,
        "start_time": "2023-04-01T17:03:23.412Z"
      },
      {
        "duration": 360,
        "start_time": "2023-04-01T17:06:05.597Z"
      },
      {
        "duration": 348,
        "start_time": "2023-04-01T17:08:28.350Z"
      },
      {
        "duration": 368,
        "start_time": "2023-04-01T17:09:36.365Z"
      },
      {
        "duration": 384,
        "start_time": "2023-04-01T17:10:22.253Z"
      },
      {
        "duration": 390,
        "start_time": "2023-04-01T17:10:50.662Z"
      },
      {
        "duration": 183,
        "start_time": "2023-04-01T17:12:16.303Z"
      },
      {
        "duration": 331,
        "start_time": "2023-04-01T17:12:38.805Z"
      },
      {
        "duration": 184,
        "start_time": "2023-04-01T17:13:16.738Z"
      },
      {
        "duration": 1481,
        "start_time": "2023-04-01T17:13:51.867Z"
      },
      {
        "duration": 70,
        "start_time": "2023-04-01T17:13:53.350Z"
      },
      {
        "duration": 14,
        "start_time": "2023-04-01T17:13:53.421Z"
      },
      {
        "duration": 14,
        "start_time": "2023-04-01T17:13:53.437Z"
      },
      {
        "duration": 25,
        "start_time": "2023-04-01T17:13:53.452Z"
      },
      {
        "duration": 18,
        "start_time": "2023-04-01T17:13:53.479Z"
      },
      {
        "duration": 14,
        "start_time": "2023-04-01T17:13:53.499Z"
      },
      {
        "duration": 23,
        "start_time": "2023-04-01T17:13:53.515Z"
      },
      {
        "duration": 27,
        "start_time": "2023-04-01T17:13:53.539Z"
      },
      {
        "duration": 35,
        "start_time": "2023-04-01T17:13:53.569Z"
      },
      {
        "duration": 13,
        "start_time": "2023-04-01T17:13:53.606Z"
      },
      {
        "duration": 197,
        "start_time": "2023-04-01T17:13:53.621Z"
      },
      {
        "duration": 13573,
        "start_time": "2023-04-01T17:13:53.819Z"
      },
      {
        "duration": 140,
        "start_time": "2023-04-01T17:14:07.394Z"
      },
      {
        "duration": 244,
        "start_time": "2023-04-01T17:14:07.538Z"
      },
      {
        "duration": 487,
        "start_time": "2023-04-01T17:14:07.783Z"
      },
      {
        "duration": 379,
        "start_time": "2023-04-01T17:14:08.272Z"
      },
      {
        "duration": 396,
        "start_time": "2023-04-01T17:14:08.654Z"
      },
      {
        "duration": 180,
        "start_time": "2023-04-01T17:15:19.220Z"
      },
      {
        "duration": 322,
        "start_time": "2023-04-01T17:15:49.767Z"
      },
      {
        "duration": 313,
        "start_time": "2023-04-01T17:20:03.053Z"
      },
      {
        "duration": 362,
        "start_time": "2023-04-01T17:20:57.417Z"
      },
      {
        "duration": 135,
        "start_time": "2023-04-01T17:22:46.659Z"
      },
      {
        "duration": 252,
        "start_time": "2023-04-01T17:23:00.736Z"
      },
      {
        "duration": 80,
        "start_time": "2023-04-01T17:25:36.047Z"
      },
      {
        "duration": 13272,
        "start_time": "2023-04-01T17:26:31.044Z"
      },
      {
        "duration": 5362,
        "start_time": "2023-04-01T17:29:05.278Z"
      },
      {
        "duration": 6972,
        "start_time": "2023-04-01T17:31:40.221Z"
      },
      {
        "duration": 16719,
        "start_time": "2023-04-01T17:32:03.825Z"
      },
      {
        "duration": 40384,
        "start_time": "2023-04-01T17:32:37.710Z"
      },
      {
        "duration": 17874,
        "start_time": "2023-04-01T17:49:50.132Z"
      },
      {
        "duration": 40435,
        "start_time": "2023-04-01T17:50:39.220Z"
      },
      {
        "duration": 372,
        "start_time": "2023-04-01T17:53:12.046Z"
      },
      {
        "duration": 348,
        "start_time": "2023-04-01T17:53:22.799Z"
      },
      {
        "duration": 16913,
        "start_time": "2023-04-01T17:54:34.208Z"
      },
      {
        "duration": 17802,
        "start_time": "2023-04-01T17:55:04.794Z"
      },
      {
        "duration": 278,
        "start_time": "2023-04-01T18:00:36.429Z"
      },
      {
        "duration": 366,
        "start_time": "2023-04-01T18:06:36.294Z"
      },
      {
        "duration": 1428,
        "start_time": "2023-04-01T18:07:17.993Z"
      },
      {
        "duration": 62,
        "start_time": "2023-04-01T18:07:19.423Z"
      },
      {
        "duration": 13,
        "start_time": "2023-04-01T18:07:19.486Z"
      },
      {
        "duration": 14,
        "start_time": "2023-04-01T18:07:19.500Z"
      },
      {
        "duration": 27,
        "start_time": "2023-04-01T18:07:19.516Z"
      },
      {
        "duration": 15,
        "start_time": "2023-04-01T18:07:19.545Z"
      },
      {
        "duration": 17,
        "start_time": "2023-04-01T18:07:19.562Z"
      },
      {
        "duration": 10,
        "start_time": "2023-04-01T18:07:19.581Z"
      },
      {
        "duration": 17,
        "start_time": "2023-04-01T18:07:19.593Z"
      },
      {
        "duration": 45,
        "start_time": "2023-04-01T18:07:19.612Z"
      },
      {
        "duration": 12,
        "start_time": "2023-04-01T18:07:19.658Z"
      },
      {
        "duration": 182,
        "start_time": "2023-04-01T18:07:19.672Z"
      },
      {
        "duration": 12708,
        "start_time": "2023-04-01T18:07:19.855Z"
      },
      {
        "duration": 19,
        "start_time": "2023-04-01T18:07:32.566Z"
      },
      {
        "duration": 392,
        "start_time": "2023-04-01T18:07:32.638Z"
      },
      {
        "duration": 335,
        "start_time": "2023-04-01T18:07:33.034Z"
      },
      {
        "duration": 219,
        "start_time": "2023-04-01T18:07:33.370Z"
      },
      {
        "duration": 5103,
        "start_time": "2023-04-01T18:07:33.591Z"
      },
      {
        "duration": 41366,
        "start_time": "2023-04-01T18:07:38.696Z"
      },
      {
        "duration": 18094,
        "start_time": "2023-04-01T18:08:20.064Z"
      },
      {
        "duration": 380,
        "start_time": "2023-04-01T18:08:38.159Z"
      },
      {
        "duration": 406,
        "start_time": "2023-04-01T18:08:38.540Z"
      },
      {
        "duration": 398,
        "start_time": "2023-04-01T18:08:38.948Z"
      },
      {
        "duration": 251,
        "start_time": "2023-04-01T18:08:39.348Z"
      },
      {
        "duration": 412,
        "start_time": "2023-04-01T18:08:39.601Z"
      },
      {
        "duration": 5,
        "start_time": "2023-04-01T18:12:57.560Z"
      },
      {
        "duration": 43,
        "start_time": "2023-04-02T10:25:04.886Z"
      },
      {
        "duration": 1509,
        "start_time": "2023-04-02T10:25:52.269Z"
      },
      {
        "duration": 102,
        "start_time": "2023-04-02T10:25:53.780Z"
      },
      {
        "duration": 12,
        "start_time": "2023-04-02T10:25:53.883Z"
      },
      {
        "duration": 14,
        "start_time": "2023-04-02T10:25:53.896Z"
      },
      {
        "duration": 15,
        "start_time": "2023-04-02T10:25:53.911Z"
      },
      {
        "duration": 12,
        "start_time": "2023-04-02T10:25:53.927Z"
      },
      {
        "duration": 33,
        "start_time": "2023-04-02T10:25:53.940Z"
      },
      {
        "duration": 5,
        "start_time": "2023-04-02T10:25:53.975Z"
      },
      {
        "duration": 17,
        "start_time": "2023-04-02T10:25:53.981Z"
      },
      {
        "duration": 22,
        "start_time": "2023-04-02T10:25:54.000Z"
      },
      {
        "duration": 12,
        "start_time": "2023-04-02T10:25:54.024Z"
      },
      {
        "duration": 159,
        "start_time": "2023-04-02T10:25:54.068Z"
      },
      {
        "duration": 10897,
        "start_time": "2023-04-02T10:25:54.229Z"
      },
      {
        "duration": 44,
        "start_time": "2023-04-02T10:26:05.127Z"
      },
      {
        "duration": 356,
        "start_time": "2023-04-02T10:26:05.173Z"
      },
      {
        "duration": 282,
        "start_time": "2023-04-02T10:26:05.531Z"
      },
      {
        "duration": 194,
        "start_time": "2023-04-02T10:26:05.814Z"
      },
      {
        "duration": 4562,
        "start_time": "2023-04-02T10:26:06.009Z"
      },
      {
        "duration": 312,
        "start_time": "2023-04-02T10:26:10.572Z"
      },
      {
        "duration": 35924,
        "start_time": "2023-04-02T10:26:10.886Z"
      },
      {
        "duration": 16285,
        "start_time": "2023-04-02T10:26:46.811Z"
      },
      {
        "duration": 254,
        "start_time": "2023-04-02T10:27:03.098Z"
      },
      {
        "duration": 295,
        "start_time": "2023-04-02T10:27:03.354Z"
      },
      {
        "duration": 302,
        "start_time": "2023-04-02T10:27:03.650Z"
      },
      {
        "duration": 16,
        "start_time": "2023-04-02T10:27:03.953Z"
      },
      {
        "duration": 210,
        "start_time": "2023-04-02T10:27:03.971Z"
      },
      {
        "duration": 329,
        "start_time": "2023-04-02T10:27:04.183Z"
      },
      {
        "duration": 118,
        "start_time": "2023-04-02T10:30:13.801Z"
      },
      {
        "duration": 357,
        "start_time": "2023-04-02T10:30:35.291Z"
      },
      {
        "duration": 11,
        "start_time": "2023-04-02T10:31:55.698Z"
      },
      {
        "duration": 362,
        "start_time": "2023-04-02T10:32:00.767Z"
      },
      {
        "duration": 353,
        "start_time": "2023-04-02T10:32:42.706Z"
      },
      {
        "duration": 15,
        "start_time": "2023-04-02T10:34:22.497Z"
      },
      {
        "duration": 1299,
        "start_time": "2023-04-02T10:34:27.741Z"
      },
      {
        "duration": 59,
        "start_time": "2023-04-02T10:34:29.042Z"
      },
      {
        "duration": 13,
        "start_time": "2023-04-02T10:34:29.103Z"
      },
      {
        "duration": 14,
        "start_time": "2023-04-02T10:34:29.118Z"
      },
      {
        "duration": 34,
        "start_time": "2023-04-02T10:34:29.133Z"
      },
      {
        "duration": 12,
        "start_time": "2023-04-02T10:34:29.168Z"
      },
      {
        "duration": 12,
        "start_time": "2023-04-02T10:34:29.181Z"
      },
      {
        "duration": 4,
        "start_time": "2023-04-02T10:34:29.195Z"
      },
      {
        "duration": 10,
        "start_time": "2023-04-02T10:34:29.201Z"
      },
      {
        "duration": 21,
        "start_time": "2023-04-02T10:34:29.213Z"
      },
      {
        "duration": 33,
        "start_time": "2023-04-02T10:34:29.235Z"
      },
      {
        "duration": 157,
        "start_time": "2023-04-02T10:34:29.270Z"
      },
      {
        "duration": 11531,
        "start_time": "2023-04-02T10:34:29.428Z"
      },
      {
        "duration": 22,
        "start_time": "2023-04-02T10:34:40.961Z"
      },
      {
        "duration": 418,
        "start_time": "2023-04-02T10:34:40.985Z"
      },
      {
        "duration": 287,
        "start_time": "2023-04-02T10:34:41.404Z"
      },
      {
        "duration": 197,
        "start_time": "2023-04-02T10:34:41.692Z"
      },
      {
        "duration": 4603,
        "start_time": "2023-04-02T10:34:41.891Z"
      },
      {
        "duration": 293,
        "start_time": "2023-04-02T10:34:46.495Z"
      },
      {
        "duration": 35903,
        "start_time": "2023-04-02T10:34:46.790Z"
      },
      {
        "duration": 15564,
        "start_time": "2023-04-02T10:35:22.694Z"
      },
      {
        "duration": 287,
        "start_time": "2023-04-02T10:35:38.259Z"
      },
      {
        "duration": 300,
        "start_time": "2023-04-02T10:35:38.548Z"
      },
      {
        "duration": 318,
        "start_time": "2023-04-02T10:35:38.850Z"
      },
      {
        "duration": 5,
        "start_time": "2023-04-02T10:35:39.170Z"
      },
      {
        "duration": 229,
        "start_time": "2023-04-02T10:35:39.176Z"
      },
      {
        "duration": 356,
        "start_time": "2023-04-02T10:35:39.406Z"
      },
      {
        "duration": 17,
        "start_time": "2023-04-02T10:35:39.791Z"
      },
      {
        "duration": 125,
        "start_time": "2023-04-02T10:39:28.019Z"
      },
      {
        "duration": 1309,
        "start_time": "2023-04-02T10:39:47.368Z"
      },
      {
        "duration": 60,
        "start_time": "2023-04-02T10:39:48.679Z"
      },
      {
        "duration": 12,
        "start_time": "2023-04-02T10:39:48.741Z"
      },
      {
        "duration": 14,
        "start_time": "2023-04-02T10:39:48.755Z"
      },
      {
        "duration": 20,
        "start_time": "2023-04-02T10:39:48.771Z"
      },
      {
        "duration": 13,
        "start_time": "2023-04-02T10:39:48.793Z"
      },
      {
        "duration": 12,
        "start_time": "2023-04-02T10:39:48.807Z"
      },
      {
        "duration": 6,
        "start_time": "2023-04-02T10:39:48.820Z"
      },
      {
        "duration": 12,
        "start_time": "2023-04-02T10:39:48.827Z"
      },
      {
        "duration": 128,
        "start_time": "2023-04-02T10:39:48.868Z"
      },
      {
        "duration": 23,
        "start_time": "2023-04-02T10:39:48.998Z"
      },
      {
        "duration": 13,
        "start_time": "2023-04-02T10:39:49.023Z"
      },
      {
        "duration": 169,
        "start_time": "2023-04-02T10:39:49.037Z"
      },
      {
        "duration": 11956,
        "start_time": "2023-04-02T10:39:49.208Z"
      },
      {
        "duration": 17,
        "start_time": "2023-04-02T10:40:01.165Z"
      },
      {
        "duration": 440,
        "start_time": "2023-04-02T10:40:01.184Z"
      },
      {
        "duration": 293,
        "start_time": "2023-04-02T10:40:01.626Z"
      },
      {
        "duration": 211,
        "start_time": "2023-04-02T10:40:01.921Z"
      },
      {
        "duration": 4520,
        "start_time": "2023-04-02T10:40:02.134Z"
      },
      {
        "duration": 275,
        "start_time": "2023-04-02T10:40:06.656Z"
      },
      {
        "duration": 35376,
        "start_time": "2023-04-02T10:40:06.932Z"
      },
      {
        "duration": 16502,
        "start_time": "2023-04-02T10:40:42.309Z"
      },
      {
        "duration": 330,
        "start_time": "2023-04-02T10:40:58.813Z"
      },
      {
        "duration": 326,
        "start_time": "2023-04-02T10:40:59.144Z"
      },
      {
        "duration": 279,
        "start_time": "2023-04-02T10:40:59.472Z"
      },
      {
        "duration": 19,
        "start_time": "2023-04-02T10:40:59.752Z"
      },
      {
        "duration": 226,
        "start_time": "2023-04-02T10:40:59.772Z"
      },
      {
        "duration": 341,
        "start_time": "2023-04-02T10:41:00.001Z"
      },
      {
        "duration": 108,
        "start_time": "2023-04-02T10:42:06.466Z"
      },
      {
        "duration": 100,
        "start_time": "2023-04-02T10:42:35.917Z"
      },
      {
        "duration": 10,
        "start_time": "2023-04-02T10:43:56.039Z"
      },
      {
        "duration": 113,
        "start_time": "2023-04-02T10:43:58.690Z"
      },
      {
        "duration": 105,
        "start_time": "2023-04-02T10:44:05.087Z"
      },
      {
        "duration": 1225,
        "start_time": "2023-04-02T10:44:12.095Z"
      },
      {
        "duration": 54,
        "start_time": "2023-04-02T10:44:13.321Z"
      },
      {
        "duration": 11,
        "start_time": "2023-04-02T10:44:13.376Z"
      },
      {
        "duration": 12,
        "start_time": "2023-04-02T10:44:13.389Z"
      },
      {
        "duration": 15,
        "start_time": "2023-04-02T10:44:13.403Z"
      },
      {
        "duration": 11,
        "start_time": "2023-04-02T10:44:13.419Z"
      },
      {
        "duration": 36,
        "start_time": "2023-04-02T10:44:13.432Z"
      },
      {
        "duration": 4,
        "start_time": "2023-04-02T10:44:13.470Z"
      },
      {
        "duration": 11,
        "start_time": "2023-04-02T10:44:13.476Z"
      },
      {
        "duration": 121,
        "start_time": "2023-04-02T10:44:13.488Z"
      },
      {
        "duration": 112,
        "start_time": "2023-04-02T10:44:13.610Z"
      },
      {
        "duration": 25,
        "start_time": "2023-04-02T10:44:13.724Z"
      },
      {
        "duration": 29,
        "start_time": "2023-04-02T10:44:13.751Z"
      },
      {
        "duration": 199,
        "start_time": "2023-04-02T10:44:13.782Z"
      },
      {
        "duration": 11055,
        "start_time": "2023-04-02T10:44:13.983Z"
      },
      {
        "duration": 32,
        "start_time": "2023-04-02T10:44:25.040Z"
      },
      {
        "duration": 433,
        "start_time": "2023-04-02T10:44:25.074Z"
      },
      {
        "duration": 286,
        "start_time": "2023-04-02T10:44:25.509Z"
      },
      {
        "duration": 199,
        "start_time": "2023-04-02T10:44:25.797Z"
      },
      {
        "duration": 4519,
        "start_time": "2023-04-02T10:44:25.998Z"
      },
      {
        "duration": 286,
        "start_time": "2023-04-02T10:44:30.518Z"
      },
      {
        "duration": 35514,
        "start_time": "2023-04-02T10:44:30.805Z"
      },
      {
        "duration": 15751,
        "start_time": "2023-04-02T10:45:06.320Z"
      },
      {
        "duration": 269,
        "start_time": "2023-04-02T10:45:22.073Z"
      },
      {
        "duration": 344,
        "start_time": "2023-04-02T10:45:22.344Z"
      },
      {
        "duration": 288,
        "start_time": "2023-04-02T10:45:22.689Z"
      },
      {
        "duration": 5,
        "start_time": "2023-04-02T10:45:22.978Z"
      },
      {
        "duration": 223,
        "start_time": "2023-04-02T10:45:22.986Z"
      },
      {
        "duration": 347,
        "start_time": "2023-04-02T10:45:23.211Z"
      },
      {
        "duration": 101,
        "start_time": "2023-04-02T10:47:03.323Z"
      },
      {
        "duration": 10,
        "start_time": "2023-04-02T10:47:06.856Z"
      },
      {
        "duration": 127,
        "start_time": "2023-04-02T10:47:09.764Z"
      },
      {
        "duration": 114,
        "start_time": "2023-04-02T10:47:16.032Z"
      },
      {
        "duration": 239,
        "start_time": "2023-04-02T10:47:24.302Z"
      },
      {
        "duration": 32,
        "start_time": "2023-04-02T10:47:39.026Z"
      },
      {
        "duration": 222,
        "start_time": "2023-04-02T10:47:42.483Z"
      },
      {
        "duration": 19,
        "start_time": "2023-04-02T10:49:53.898Z"
      },
      {
        "duration": 209,
        "start_time": "2023-04-02T10:49:55.453Z"
      },
      {
        "duration": 124,
        "start_time": "2023-04-02T10:51:17.082Z"
      },
      {
        "duration": 25,
        "start_time": "2023-04-02T10:51:35.497Z"
      },
      {
        "duration": 204,
        "start_time": "2023-04-02T10:51:38.191Z"
      },
      {
        "duration": 22,
        "start_time": "2023-04-02T10:51:58.062Z"
      },
      {
        "duration": 215,
        "start_time": "2023-04-02T10:51:59.292Z"
      },
      {
        "duration": 197,
        "start_time": "2023-04-02T10:52:26.426Z"
      },
      {
        "duration": 1245,
        "start_time": "2023-04-02T10:53:13.773Z"
      },
      {
        "duration": 61,
        "start_time": "2023-04-02T10:53:15.020Z"
      },
      {
        "duration": 12,
        "start_time": "2023-04-02T10:53:15.082Z"
      },
      {
        "duration": 19,
        "start_time": "2023-04-02T10:53:15.096Z"
      },
      {
        "duration": 25,
        "start_time": "2023-04-02T10:53:15.117Z"
      },
      {
        "duration": 11,
        "start_time": "2023-04-02T10:53:15.144Z"
      },
      {
        "duration": 18,
        "start_time": "2023-04-02T10:53:15.157Z"
      },
      {
        "duration": 9,
        "start_time": "2023-04-02T10:53:15.176Z"
      },
      {
        "duration": 11,
        "start_time": "2023-04-02T10:53:15.186Z"
      },
      {
        "duration": 225,
        "start_time": "2023-04-02T10:53:15.200Z"
      },
      {
        "duration": 27,
        "start_time": "2023-04-02T10:53:15.427Z"
      },
      {
        "duration": 215,
        "start_time": "2023-04-02T10:53:15.468Z"
      },
      {
        "duration": 11,
        "start_time": "2023-04-02T10:53:15.685Z"
      },
      {
        "duration": 152,
        "start_time": "2023-04-02T10:53:15.698Z"
      },
      {
        "duration": 11221,
        "start_time": "2023-04-02T10:53:15.852Z"
      },
      {
        "duration": 17,
        "start_time": "2023-04-02T10:53:27.075Z"
      },
      {
        "duration": 351,
        "start_time": "2023-04-02T10:53:27.169Z"
      },
      {
        "duration": 284,
        "start_time": "2023-04-02T10:53:27.522Z"
      },
      {
        "duration": 223,
        "start_time": "2023-04-02T10:53:27.808Z"
      },
      {
        "duration": 4776,
        "start_time": "2023-04-02T10:53:28.033Z"
      },
      {
        "duration": 274,
        "start_time": "2023-04-02T10:53:32.811Z"
      },
      {
        "duration": 34574,
        "start_time": "2023-04-02T10:53:33.087Z"
      },
      {
        "duration": 16073,
        "start_time": "2023-04-02T10:54:07.669Z"
      },
      {
        "duration": 305,
        "start_time": "2023-04-02T10:54:23.743Z"
      },
      {
        "duration": 327,
        "start_time": "2023-04-02T10:54:24.050Z"
      },
      {
        "duration": 307,
        "start_time": "2023-04-02T10:54:24.379Z"
      },
      {
        "duration": 5,
        "start_time": "2023-04-02T10:54:24.687Z"
      },
      {
        "duration": 264,
        "start_time": "2023-04-02T10:54:24.696Z"
      },
      {
        "duration": 412,
        "start_time": "2023-04-02T10:54:24.962Z"
      },
      {
        "duration": 12,
        "start_time": "2023-04-02T10:57:17.781Z"
      },
      {
        "duration": 26,
        "start_time": "2023-04-02T11:00:48.193Z"
      },
      {
        "duration": 231,
        "start_time": "2023-04-02T11:00:55.820Z"
      },
      {
        "duration": 3,
        "start_time": "2023-04-02T11:02:14.162Z"
      },
      {
        "duration": 10,
        "start_time": "2023-04-02T11:02:16.791Z"
      },
      {
        "duration": 241,
        "start_time": "2023-04-02T11:02:23.797Z"
      },
      {
        "duration": 28,
        "start_time": "2023-04-02T11:03:24.611Z"
      },
      {
        "duration": 1220,
        "start_time": "2023-04-02T11:03:39.443Z"
      },
      {
        "duration": 53,
        "start_time": "2023-04-02T11:03:40.665Z"
      },
      {
        "duration": 10,
        "start_time": "2023-04-02T11:03:40.720Z"
      },
      {
        "duration": 11,
        "start_time": "2023-04-02T11:03:40.731Z"
      },
      {
        "duration": 13,
        "start_time": "2023-04-02T11:03:40.744Z"
      },
      {
        "duration": 14,
        "start_time": "2023-04-02T11:03:40.758Z"
      },
      {
        "duration": 106,
        "start_time": "2023-04-02T11:03:40.773Z"
      },
      {
        "duration": 0,
        "start_time": "2023-04-02T11:03:40.881Z"
      },
      {
        "duration": 0,
        "start_time": "2023-04-02T11:03:40.883Z"
      },
      {
        "duration": 0,
        "start_time": "2023-04-02T11:03:40.884Z"
      },
      {
        "duration": 0,
        "start_time": "2023-04-02T11:03:40.885Z"
      },
      {
        "duration": 0,
        "start_time": "2023-04-02T11:03:40.886Z"
      },
      {
        "duration": 0,
        "start_time": "2023-04-02T11:03:40.887Z"
      },
      {
        "duration": 0,
        "start_time": "2023-04-02T11:03:40.888Z"
      },
      {
        "duration": 0,
        "start_time": "2023-04-02T11:03:40.889Z"
      },
      {
        "duration": 0,
        "start_time": "2023-04-02T11:03:40.890Z"
      },
      {
        "duration": 0,
        "start_time": "2023-04-02T11:03:40.891Z"
      },
      {
        "duration": 0,
        "start_time": "2023-04-02T11:03:40.892Z"
      },
      {
        "duration": 0,
        "start_time": "2023-04-02T11:03:40.893Z"
      },
      {
        "duration": 0,
        "start_time": "2023-04-02T11:03:40.894Z"
      },
      {
        "duration": 0,
        "start_time": "2023-04-02T11:03:40.895Z"
      },
      {
        "duration": 0,
        "start_time": "2023-04-02T11:03:40.896Z"
      },
      {
        "duration": 0,
        "start_time": "2023-04-02T11:03:40.897Z"
      },
      {
        "duration": 0,
        "start_time": "2023-04-02T11:03:40.898Z"
      },
      {
        "duration": 0,
        "start_time": "2023-04-02T11:03:40.899Z"
      },
      {
        "duration": 0,
        "start_time": "2023-04-02T11:03:40.899Z"
      },
      {
        "duration": 10,
        "start_time": "2023-04-02T11:04:41.372Z"
      },
      {
        "duration": 10,
        "start_time": "2023-04-02T11:05:31.668Z"
      },
      {
        "duration": 4,
        "start_time": "2023-04-02T11:05:36.117Z"
      },
      {
        "duration": 10,
        "start_time": "2023-04-02T11:05:39.587Z"
      },
      {
        "duration": 29,
        "start_time": "2023-04-02T11:05:46.711Z"
      },
      {
        "duration": 29,
        "start_time": "2023-04-02T11:05:49.030Z"
      },
      {
        "duration": 12,
        "start_time": "2023-04-02T11:05:59.060Z"
      },
      {
        "duration": 135,
        "start_time": "2023-04-02T11:06:08.340Z"
      },
      {
        "duration": 11144,
        "start_time": "2023-04-02T11:06:27.262Z"
      },
      {
        "duration": 19,
        "start_time": "2023-04-02T11:06:49.782Z"
      },
      {
        "duration": 246,
        "start_time": "2023-04-02T11:07:04.160Z"
      },
      {
        "duration": 328,
        "start_time": "2023-04-02T11:07:13.624Z"
      },
      {
        "duration": 199,
        "start_time": "2023-04-02T11:07:20.115Z"
      },
      {
        "duration": 4842,
        "start_time": "2023-04-02T11:07:25.159Z"
      },
      {
        "duration": 261,
        "start_time": "2023-04-02T11:07:43.322Z"
      },
      {
        "duration": 36165,
        "start_time": "2023-04-02T11:07:57.123Z"
      },
      {
        "duration": 15832,
        "start_time": "2023-04-02T11:09:05.503Z"
      },
      {
        "duration": 279,
        "start_time": "2023-04-02T11:10:30.075Z"
      },
      {
        "duration": 287,
        "start_time": "2023-04-02T11:11:02.961Z"
      },
      {
        "duration": 316,
        "start_time": "2023-04-02T11:11:23.832Z"
      },
      {
        "duration": 646,
        "start_time": "2023-04-02T11:12:44.767Z"
      },
      {
        "duration": 4,
        "start_time": "2023-04-02T11:15:21.704Z"
      },
      {
        "duration": 1170,
        "start_time": "2023-04-02T11:18:06.272Z"
      },
      {
        "duration": 54,
        "start_time": "2023-04-02T11:18:07.444Z"
      },
      {
        "duration": 10,
        "start_time": "2023-04-02T11:18:07.500Z"
      },
      {
        "duration": 13,
        "start_time": "2023-04-02T11:18:07.511Z"
      },
      {
        "duration": 18,
        "start_time": "2023-04-02T11:18:07.526Z"
      },
      {
        "duration": 11,
        "start_time": "2023-04-02T11:18:07.545Z"
      },
      {
        "duration": 35,
        "start_time": "2023-04-02T11:18:07.557Z"
      },
      {
        "duration": 5,
        "start_time": "2023-04-02T11:18:07.593Z"
      },
      {
        "duration": 17,
        "start_time": "2023-04-02T11:18:07.599Z"
      },
      {
        "duration": 37,
        "start_time": "2023-04-02T11:18:07.618Z"
      },
      {
        "duration": 20,
        "start_time": "2023-04-02T11:18:07.657Z"
      },
      {
        "duration": 163,
        "start_time": "2023-04-02T11:18:07.679Z"
      },
      {
        "duration": 11343,
        "start_time": "2023-04-02T11:18:07.843Z"
      },
      {
        "duration": 83,
        "start_time": "2023-04-02T11:18:19.188Z"
      },
      {
        "duration": 368,
        "start_time": "2023-04-02T11:18:19.273Z"
      },
      {
        "duration": 304,
        "start_time": "2023-04-02T11:18:19.643Z"
      },
      {
        "duration": 202,
        "start_time": "2023-04-02T11:18:19.949Z"
      },
      {
        "duration": 4572,
        "start_time": "2023-04-02T11:18:20.153Z"
      },
      {
        "duration": 36780,
        "start_time": "2023-04-02T11:18:24.727Z"
      },
      {
        "duration": 15645,
        "start_time": "2023-04-02T11:19:01.508Z"
      },
      {
        "duration": 315,
        "start_time": "2023-04-02T11:19:17.155Z"
      },
      {
        "duration": 282,
        "start_time": "2023-04-02T11:19:17.471Z"
      },
      {
        "duration": 313,
        "start_time": "2023-04-02T11:19:17.755Z"
      },
      {
        "duration": 698,
        "start_time": "2023-04-02T11:19:18.070Z"
      },
      {
        "duration": 134,
        "start_time": "2023-04-02T11:19:43.116Z"
      },
      {
        "duration": 11052,
        "start_time": "2023-04-02T11:20:38.022Z"
      },
      {
        "duration": 23,
        "start_time": "2023-04-02T11:21:25.002Z"
      },
      {
        "duration": 246,
        "start_time": "2023-04-02T11:33:34.051Z"
      },
      {
        "duration": 318,
        "start_time": "2023-04-02T11:35:00.460Z"
      },
      {
        "duration": 201,
        "start_time": "2023-04-02T11:35:48.167Z"
      },
      {
        "duration": 4579,
        "start_time": "2023-04-02T11:38:32.830Z"
      },
      {
        "duration": 35516,
        "start_time": "2023-04-02T11:39:24.287Z"
      },
      {
        "duration": 16216,
        "start_time": "2023-04-02T11:41:15.238Z"
      },
      {
        "duration": 10,
        "start_time": "2023-04-02T11:50:45.534Z"
      },
      {
        "duration": 1335,
        "start_time": "2023-04-02T11:50:52.012Z"
      },
      {
        "duration": 59,
        "start_time": "2023-04-02T11:50:53.350Z"
      },
      {
        "duration": 13,
        "start_time": "2023-04-02T11:50:53.411Z"
      },
      {
        "duration": 14,
        "start_time": "2023-04-02T11:50:53.426Z"
      },
      {
        "duration": 29,
        "start_time": "2023-04-02T11:50:53.442Z"
      },
      {
        "duration": 13,
        "start_time": "2023-04-02T11:50:53.473Z"
      },
      {
        "duration": 11,
        "start_time": "2023-04-02T11:50:53.488Z"
      },
      {
        "duration": 4,
        "start_time": "2023-04-02T11:50:53.501Z"
      },
      {
        "duration": 9,
        "start_time": "2023-04-02T11:50:53.506Z"
      },
      {
        "duration": 59,
        "start_time": "2023-04-02T11:50:53.518Z"
      },
      {
        "duration": 11,
        "start_time": "2023-04-02T11:50:53.579Z"
      },
      {
        "duration": 163,
        "start_time": "2023-04-02T11:50:53.591Z"
      },
      {
        "duration": 11730,
        "start_time": "2023-04-02T11:50:53.756Z"
      },
      {
        "duration": 80,
        "start_time": "2023-04-02T11:51:05.488Z"
      },
      {
        "duration": 361,
        "start_time": "2023-04-02T11:51:05.570Z"
      },
      {
        "duration": 285,
        "start_time": "2023-04-02T11:51:05.933Z"
      },
      {
        "duration": 198,
        "start_time": "2023-04-02T11:51:06.220Z"
      },
      {
        "duration": 4622,
        "start_time": "2023-04-02T11:51:06.419Z"
      },
      {
        "duration": 35504,
        "start_time": "2023-04-02T11:51:11.043Z"
      },
      {
        "duration": 16331,
        "start_time": "2023-04-02T11:51:46.549Z"
      },
      {
        "duration": 365,
        "start_time": "2023-04-02T11:52:02.881Z"
      },
      {
        "duration": 306,
        "start_time": "2023-04-02T11:52:03.247Z"
      },
      {
        "duration": 284,
        "start_time": "2023-04-02T11:52:03.568Z"
      },
      {
        "duration": 676,
        "start_time": "2023-04-02T11:52:03.853Z"
      },
      {
        "duration": 281,
        "start_time": "2023-04-02T12:01:26.671Z"
      },
      {
        "duration": 322,
        "start_time": "2023-04-02T12:01:58.135Z"
      },
      {
        "duration": 290,
        "start_time": "2023-04-02T12:02:28.901Z"
      },
      {
        "duration": 695,
        "start_time": "2023-04-02T12:09:02.693Z"
      },
      {
        "duration": 794,
        "start_time": "2023-04-02T12:09:27.855Z"
      },
      {
        "duration": 682,
        "start_time": "2023-04-02T12:09:43.519Z"
      },
      {
        "duration": 545,
        "start_time": "2023-04-02T12:25:17.716Z"
      },
      {
        "duration": 1777,
        "start_time": "2023-04-02T16:53:29.824Z"
      },
      {
        "duration": 110,
        "start_time": "2023-04-02T16:53:31.603Z"
      },
      {
        "duration": 15,
        "start_time": "2023-04-02T16:53:31.715Z"
      },
      {
        "duration": 22,
        "start_time": "2023-04-02T16:53:31.733Z"
      },
      {
        "duration": 37,
        "start_time": "2023-04-02T16:53:31.757Z"
      },
      {
        "duration": 15,
        "start_time": "2023-04-02T16:53:31.796Z"
      },
      {
        "duration": 31,
        "start_time": "2023-04-02T16:53:31.814Z"
      },
      {
        "duration": 17,
        "start_time": "2023-04-02T16:53:31.847Z"
      },
      {
        "duration": 25,
        "start_time": "2023-04-02T16:53:31.866Z"
      },
      {
        "duration": 33,
        "start_time": "2023-04-02T16:53:31.894Z"
      },
      {
        "duration": 14,
        "start_time": "2023-04-02T16:53:31.929Z"
      },
      {
        "duration": 242,
        "start_time": "2023-04-02T16:53:31.945Z"
      },
      {
        "duration": 14969,
        "start_time": "2023-04-02T16:53:32.190Z"
      },
      {
        "duration": 70,
        "start_time": "2023-04-02T16:53:47.161Z"
      },
      {
        "duration": 443,
        "start_time": "2023-04-02T16:53:47.232Z"
      },
      {
        "duration": 372,
        "start_time": "2023-04-02T16:53:47.676Z"
      },
      {
        "duration": 247,
        "start_time": "2023-04-02T16:53:48.051Z"
      },
      {
        "duration": 5777,
        "start_time": "2023-04-02T16:53:48.301Z"
      },
      {
        "duration": 45250,
        "start_time": "2023-04-02T16:53:54.080Z"
      },
      {
        "duration": 20122,
        "start_time": "2023-04-02T16:54:39.333Z"
      },
      {
        "duration": 382,
        "start_time": "2023-04-02T16:54:59.458Z"
      },
      {
        "duration": 405,
        "start_time": "2023-04-02T16:54:59.842Z"
      },
      {
        "duration": 425,
        "start_time": "2023-04-02T16:55:00.249Z"
      },
      {
        "duration": 927,
        "start_time": "2023-04-02T16:55:00.677Z"
      },
      {
        "duration": 26,
        "start_time": "2023-04-02T16:55:04.030Z"
      },
      {
        "duration": 28,
        "start_time": "2023-04-02T16:55:12.369Z"
      },
      {
        "duration": 1754,
        "start_time": "2023-04-04T10:15:30.512Z"
      },
      {
        "duration": 193,
        "start_time": "2023-04-04T10:15:32.268Z"
      },
      {
        "duration": 16,
        "start_time": "2023-04-04T10:15:32.464Z"
      },
      {
        "duration": 15,
        "start_time": "2023-04-04T10:15:32.483Z"
      },
      {
        "duration": 26,
        "start_time": "2023-04-04T10:15:32.501Z"
      },
      {
        "duration": 22,
        "start_time": "2023-04-04T10:15:32.530Z"
      },
      {
        "duration": 34,
        "start_time": "2023-04-04T10:15:32.555Z"
      },
      {
        "duration": 7,
        "start_time": "2023-04-04T10:15:32.591Z"
      },
      {
        "duration": 18,
        "start_time": "2023-04-04T10:15:32.600Z"
      },
      {
        "duration": 45,
        "start_time": "2023-04-04T10:15:32.620Z"
      },
      {
        "duration": 34,
        "start_time": "2023-04-04T10:15:32.666Z"
      },
      {
        "duration": 234,
        "start_time": "2023-04-04T10:15:32.702Z"
      },
      {
        "duration": 13429,
        "start_time": "2023-04-04T10:15:32.938Z"
      },
      {
        "duration": 118,
        "start_time": "2023-04-04T10:15:46.371Z"
      },
      {
        "duration": 423,
        "start_time": "2023-04-04T10:15:46.498Z"
      },
      {
        "duration": 365,
        "start_time": "2023-04-04T10:15:46.923Z"
      },
      {
        "duration": 254,
        "start_time": "2023-04-04T10:15:47.291Z"
      },
      {
        "duration": 5684,
        "start_time": "2023-04-04T10:15:47.547Z"
      },
      {
        "duration": 44125,
        "start_time": "2023-04-04T10:15:53.234Z"
      },
      {
        "duration": 19878,
        "start_time": "2023-04-04T10:16:37.361Z"
      },
      {
        "duration": 366,
        "start_time": "2023-04-04T10:16:57.241Z"
      },
      {
        "duration": 407,
        "start_time": "2023-04-04T10:16:57.609Z"
      },
      {
        "duration": 396,
        "start_time": "2023-04-04T10:16:58.018Z"
      },
      {
        "duration": 916,
        "start_time": "2023-04-04T10:16:58.415Z"
      },
      {
        "duration": 30,
        "start_time": "2023-04-04T10:19:36.473Z"
      },
      {
        "duration": 186,
        "start_time": "2023-04-04T10:22:26.010Z"
      },
      {
        "duration": 208,
        "start_time": "2023-04-04T10:22:42.842Z"
      },
      {
        "duration": 125,
        "start_time": "2023-04-04T10:24:19.987Z"
      },
      {
        "duration": 187,
        "start_time": "2023-04-04T10:24:41.412Z"
      },
      {
        "duration": 26,
        "start_time": "2023-04-04T10:24:59.267Z"
      },
      {
        "duration": 128,
        "start_time": "2023-04-04T10:25:40.180Z"
      },
      {
        "duration": 123,
        "start_time": "2023-04-04T10:25:53.821Z"
      },
      {
        "duration": 25,
        "start_time": "2023-04-04T10:26:01.732Z"
      },
      {
        "duration": 10,
        "start_time": "2023-04-04T10:26:34.749Z"
      },
      {
        "duration": 8,
        "start_time": "2023-04-04T10:26:43.589Z"
      },
      {
        "duration": 25,
        "start_time": "2023-04-04T10:26:46.253Z"
      },
      {
        "duration": 10,
        "start_time": "2023-04-04T10:26:48.340Z"
      },
      {
        "duration": 8,
        "start_time": "2023-04-04T10:30:47.465Z"
      },
      {
        "duration": 328,
        "start_time": "2023-04-04T10:35:44.211Z"
      },
      {
        "duration": 12,
        "start_time": "2023-04-04T10:35:59.322Z"
      },
      {
        "duration": 350,
        "start_time": "2023-04-04T10:36:38.652Z"
      },
      {
        "duration": 224,
        "start_time": "2023-04-04T10:37:12.588Z"
      },
      {
        "duration": 12,
        "start_time": "2023-04-04T10:37:30.013Z"
      },
      {
        "duration": 233,
        "start_time": "2023-04-04T10:37:47.812Z"
      },
      {
        "duration": 1623,
        "start_time": "2023-04-04T10:41:20.009Z"
      },
      {
        "duration": 65,
        "start_time": "2023-04-04T10:41:21.634Z"
      },
      {
        "duration": 14,
        "start_time": "2023-04-04T10:41:21.701Z"
      },
      {
        "duration": 14,
        "start_time": "2023-04-04T10:41:21.717Z"
      },
      {
        "duration": 28,
        "start_time": "2023-04-04T10:41:21.734Z"
      },
      {
        "duration": 35,
        "start_time": "2023-04-04T10:41:21.764Z"
      },
      {
        "duration": 16,
        "start_time": "2023-04-04T10:41:21.801Z"
      },
      {
        "duration": 11,
        "start_time": "2023-04-04T10:41:21.819Z"
      },
      {
        "duration": 18,
        "start_time": "2023-04-04T10:41:21.832Z"
      },
      {
        "duration": 46,
        "start_time": "2023-04-04T10:41:21.852Z"
      },
      {
        "duration": 12,
        "start_time": "2023-04-04T10:41:21.900Z"
      },
      {
        "duration": 197,
        "start_time": "2023-04-04T10:41:21.914Z"
      },
      {
        "duration": 26,
        "start_time": "2023-04-04T10:41:22.113Z"
      },
      {
        "duration": 13857,
        "start_time": "2023-04-04T10:41:22.143Z"
      },
      {
        "duration": 141,
        "start_time": "2023-04-04T10:41:36.002Z"
      },
      {
        "duration": 53,
        "start_time": "2023-04-04T10:41:36.145Z"
      },
      {
        "duration": 100,
        "start_time": "2023-04-04T10:41:36.289Z"
      },
      {
        "duration": 432,
        "start_time": "2023-04-04T10:41:36.391Z"
      },
      {
        "duration": 11,
        "start_time": "2023-04-04T10:41:36.825Z"
      },
      {
        "duration": 360,
        "start_time": "2023-04-04T10:41:36.838Z"
      },
      {
        "duration": 13,
        "start_time": "2023-04-04T10:41:37.199Z"
      },
      {
        "duration": 264,
        "start_time": "2023-04-04T10:41:37.213Z"
      },
      {
        "duration": 5764,
        "start_time": "2023-04-04T10:41:37.479Z"
      },
      {
        "duration": 43121,
        "start_time": "2023-04-04T10:41:43.244Z"
      },
      {
        "duration": 23,
        "start_time": "2023-04-04T10:42:26.367Z"
      },
      {
        "duration": 18684,
        "start_time": "2023-04-04T10:42:26.392Z"
      },
      {
        "duration": 333,
        "start_time": "2023-04-04T10:42:45.078Z"
      },
      {
        "duration": 404,
        "start_time": "2023-04-04T10:42:45.412Z"
      },
      {
        "duration": 391,
        "start_time": "2023-04-04T10:42:45.818Z"
      },
      {
        "duration": 843,
        "start_time": "2023-04-04T10:42:46.211Z"
      },
      {
        "duration": 18616,
        "start_time": "2023-04-04T10:45:06.424Z"
      },
      {
        "duration": 382,
        "start_time": "2023-04-04T10:46:01.624Z"
      },
      {
        "duration": 272,
        "start_time": "2023-04-04T10:46:12.737Z"
      },
      {
        "duration": 787,
        "start_time": "2023-04-04T10:47:21.739Z"
      },
      {
        "duration": 112,
        "start_time": "2023-04-04T10:56:29.875Z"
      },
      {
        "duration": 7,
        "start_time": "2023-04-04T11:04:40.205Z"
      },
      {
        "duration": 8,
        "start_time": "2023-04-04T11:05:41.491Z"
      },
      {
        "duration": 8,
        "start_time": "2023-04-04T11:06:02.759Z"
      },
      {
        "duration": 8,
        "start_time": "2023-04-04T11:13:51.813Z"
      },
      {
        "duration": 4,
        "start_time": "2023-04-04T11:17:13.756Z"
      },
      {
        "duration": 9,
        "start_time": "2023-04-04T11:17:20.540Z"
      },
      {
        "duration": 8,
        "start_time": "2023-04-04T11:18:03.118Z"
      },
      {
        "duration": 8,
        "start_time": "2023-04-04T11:18:06.644Z"
      },
      {
        "duration": 7,
        "start_time": "2023-04-04T11:22:46.392Z"
      },
      {
        "duration": 7,
        "start_time": "2023-04-04T11:23:37.006Z"
      },
      {
        "duration": 5,
        "start_time": "2023-04-04T11:24:16.891Z"
      },
      {
        "duration": 814,
        "start_time": "2023-04-04T11:25:03.949Z"
      },
      {
        "duration": 803,
        "start_time": "2023-04-04T11:25:25.043Z"
      },
      {
        "duration": 1562,
        "start_time": "2023-04-04T11:35:44.861Z"
      },
      {
        "duration": 68,
        "start_time": "2023-04-04T11:35:46.425Z"
      },
      {
        "duration": 14,
        "start_time": "2023-04-04T11:35:46.495Z"
      },
      {
        "duration": 18,
        "start_time": "2023-04-04T11:35:46.511Z"
      },
      {
        "duration": 41,
        "start_time": "2023-04-04T11:35:46.531Z"
      },
      {
        "duration": 32,
        "start_time": "2023-04-04T11:35:46.574Z"
      },
      {
        "duration": 23,
        "start_time": "2023-04-04T11:35:46.608Z"
      },
      {
        "duration": 7,
        "start_time": "2023-04-04T11:35:46.633Z"
      },
      {
        "duration": 45,
        "start_time": "2023-04-04T11:35:46.642Z"
      },
      {
        "duration": 57,
        "start_time": "2023-04-04T11:35:46.692Z"
      },
      {
        "duration": 15,
        "start_time": "2023-04-04T11:35:46.751Z"
      },
      {
        "duration": 177,
        "start_time": "2023-04-04T11:35:46.788Z"
      },
      {
        "duration": 37,
        "start_time": "2023-04-04T11:35:46.967Z"
      },
      {
        "duration": 13496,
        "start_time": "2023-04-04T11:35:47.006Z"
      },
      {
        "duration": 206,
        "start_time": "2023-04-04T11:36:00.506Z"
      },
      {
        "duration": 89,
        "start_time": "2023-04-04T11:36:00.714Z"
      },
      {
        "duration": 90,
        "start_time": "2023-04-04T11:36:00.806Z"
      },
      {
        "duration": 577,
        "start_time": "2023-04-04T11:36:00.898Z"
      },
      {
        "duration": 13,
        "start_time": "2023-04-04T11:36:01.477Z"
      },
      {
        "duration": 533,
        "start_time": "2023-04-04T11:36:01.491Z"
      },
      {
        "duration": 13,
        "start_time": "2023-04-04T11:36:02.026Z"
      },
      {
        "duration": 329,
        "start_time": "2023-04-04T11:36:02.040Z"
      },
      {
        "duration": 5695,
        "start_time": "2023-04-04T11:36:02.371Z"
      },
      {
        "duration": 45156,
        "start_time": "2023-04-04T11:36:08.068Z"
      },
      {
        "duration": 19046,
        "start_time": "2023-04-04T11:36:53.226Z"
      },
      {
        "duration": 542,
        "start_time": "2023-04-04T11:37:12.275Z"
      },
      {
        "duration": 492,
        "start_time": "2023-04-04T11:37:12.819Z"
      },
      {
        "duration": 397,
        "start_time": "2023-04-04T11:37:13.316Z"
      },
      {
        "duration": 823,
        "start_time": "2023-04-04T11:37:13.715Z"
      },
      {
        "duration": 7,
        "start_time": "2023-04-04T11:37:14.540Z"
      }
    ],
    "kernelspec": {
      "display_name": "Python 3 (ipykernel)",
      "language": "python",
      "name": "python3"
    },
    "language_info": {
      "codemirror_mode": {
        "name": "ipython",
        "version": 3
      },
      "file_extension": ".py",
      "mimetype": "text/x-python",
      "name": "python",
      "nbconvert_exporter": "python",
      "pygments_lexer": "ipython3",
      "version": "3.9.5"
    },
    "toc": {
      "base_numbering": 1,
      "nav_menu": {},
      "number_sections": true,
      "sideBar": true,
      "skip_h1_title": true,
      "title_cell": "Содержание",
      "title_sidebar": "Contents",
      "toc_cell": true,
      "toc_position": {
        "height": "calc(100% - 180px)",
        "left": "10px",
        "top": "150px",
        "width": "366.188px"
      },
      "toc_section_display": true,
      "toc_window_display": true
    },
    "colab": {
      "provenance": []
    }
  },
  "nbformat": 4,
  "nbformat_minor": 0
}